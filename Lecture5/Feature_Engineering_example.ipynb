{
 "cells": [
  {
   "cell_type": "code",
   "execution_count": 1,
   "metadata": {},
   "outputs": [],
   "source": [
    "import numpy as np\n",
    "import pandas as pd\n",
    "import plotly.graph_objects as go\n",
    "import plotly.express as px\n",
    "import plotly.figure_factory as ff\n",
    "from plotly.subplots import make_subplots"
   ]
  },
  {
   "cell_type": "markdown",
   "metadata": {},
   "source": [
    "# Feature Engineering"
   ]
  },
  {
   "cell_type": "markdown",
   "metadata": {},
   "source": [
    "## The Data\n",
    "\n",
    "For this notebook, we will use the seaborn `mpg` data set which describes the fuel mileage (measured in miles per gallon, or mpg) of various cars along with characteristics of those cars. Our goal will be to build a model that can predict the fuel mileage of a car based on the characteristics of that car.\n",
    "\n",
    "**Note:** The feature engineering done in this notebook is not indicative of a feature engineering process you would do when building your own models. The steps taken in this taken are chosen in a specific order and manner to highlight the feature engineering techniques, not optimize the model for performance/quality."
   ]
  },
  {
   "cell_type": "code",
   "execution_count": 2,
   "metadata": {},
   "outputs": [
    {
     "data": {
      "text/html": [
       "<div>\n",
       "<style scoped>\n",
       "    .dataframe tbody tr th:only-of-type {\n",
       "        vertical-align: middle;\n",
       "    }\n",
       "\n",
       "    .dataframe tbody tr th {\n",
       "        vertical-align: top;\n",
       "    }\n",
       "\n",
       "    .dataframe thead th {\n",
       "        text-align: right;\n",
       "    }\n",
       "</style>\n",
       "<table border=\"1\" class=\"dataframe\">\n",
       "  <thead>\n",
       "    <tr style=\"text-align: right;\">\n",
       "      <th></th>\n",
       "      <th>mpg</th>\n",
       "      <th>cylinders</th>\n",
       "      <th>displacement</th>\n",
       "      <th>horsepower</th>\n",
       "      <th>weight</th>\n",
       "      <th>acceleration</th>\n",
       "      <th>model_year</th>\n",
       "      <th>origin</th>\n",
       "      <th>name</th>\n",
       "    </tr>\n",
       "  </thead>\n",
       "  <tbody>\n",
       "    <tr>\n",
       "      <th>0</th>\n",
       "      <td>18.0</td>\n",
       "      <td>8</td>\n",
       "      <td>307.0</td>\n",
       "      <td>130.0</td>\n",
       "      <td>3504</td>\n",
       "      <td>12.0</td>\n",
       "      <td>70</td>\n",
       "      <td>usa</td>\n",
       "      <td>chevrolet chevelle malibu</td>\n",
       "    </tr>\n",
       "    <tr>\n",
       "      <th>1</th>\n",
       "      <td>15.0</td>\n",
       "      <td>8</td>\n",
       "      <td>350.0</td>\n",
       "      <td>165.0</td>\n",
       "      <td>3693</td>\n",
       "      <td>11.5</td>\n",
       "      <td>70</td>\n",
       "      <td>usa</td>\n",
       "      <td>buick skylark 320</td>\n",
       "    </tr>\n",
       "    <tr>\n",
       "      <th>2</th>\n",
       "      <td>18.0</td>\n",
       "      <td>8</td>\n",
       "      <td>318.0</td>\n",
       "      <td>150.0</td>\n",
       "      <td>3436</td>\n",
       "      <td>11.0</td>\n",
       "      <td>70</td>\n",
       "      <td>usa</td>\n",
       "      <td>plymouth satellite</td>\n",
       "    </tr>\n",
       "    <tr>\n",
       "      <th>3</th>\n",
       "      <td>16.0</td>\n",
       "      <td>8</td>\n",
       "      <td>304.0</td>\n",
       "      <td>150.0</td>\n",
       "      <td>3433</td>\n",
       "      <td>12.0</td>\n",
       "      <td>70</td>\n",
       "      <td>usa</td>\n",
       "      <td>amc rebel sst</td>\n",
       "    </tr>\n",
       "    <tr>\n",
       "      <th>4</th>\n",
       "      <td>17.0</td>\n",
       "      <td>8</td>\n",
       "      <td>302.0</td>\n",
       "      <td>140.0</td>\n",
       "      <td>3449</td>\n",
       "      <td>10.5</td>\n",
       "      <td>70</td>\n",
       "      <td>usa</td>\n",
       "      <td>ford torino</td>\n",
       "    </tr>\n",
       "    <tr>\n",
       "      <th>...</th>\n",
       "      <td>...</td>\n",
       "      <td>...</td>\n",
       "      <td>...</td>\n",
       "      <td>...</td>\n",
       "      <td>...</td>\n",
       "      <td>...</td>\n",
       "      <td>...</td>\n",
       "      <td>...</td>\n",
       "      <td>...</td>\n",
       "    </tr>\n",
       "    <tr>\n",
       "      <th>393</th>\n",
       "      <td>27.0</td>\n",
       "      <td>4</td>\n",
       "      <td>140.0</td>\n",
       "      <td>86.0</td>\n",
       "      <td>2790</td>\n",
       "      <td>15.6</td>\n",
       "      <td>82</td>\n",
       "      <td>usa</td>\n",
       "      <td>ford mustang gl</td>\n",
       "    </tr>\n",
       "    <tr>\n",
       "      <th>394</th>\n",
       "      <td>44.0</td>\n",
       "      <td>4</td>\n",
       "      <td>97.0</td>\n",
       "      <td>52.0</td>\n",
       "      <td>2130</td>\n",
       "      <td>24.6</td>\n",
       "      <td>82</td>\n",
       "      <td>europe</td>\n",
       "      <td>vw pickup</td>\n",
       "    </tr>\n",
       "    <tr>\n",
       "      <th>395</th>\n",
       "      <td>32.0</td>\n",
       "      <td>4</td>\n",
       "      <td>135.0</td>\n",
       "      <td>84.0</td>\n",
       "      <td>2295</td>\n",
       "      <td>11.6</td>\n",
       "      <td>82</td>\n",
       "      <td>usa</td>\n",
       "      <td>dodge rampage</td>\n",
       "    </tr>\n",
       "    <tr>\n",
       "      <th>396</th>\n",
       "      <td>28.0</td>\n",
       "      <td>4</td>\n",
       "      <td>120.0</td>\n",
       "      <td>79.0</td>\n",
       "      <td>2625</td>\n",
       "      <td>18.6</td>\n",
       "      <td>82</td>\n",
       "      <td>usa</td>\n",
       "      <td>ford ranger</td>\n",
       "    </tr>\n",
       "    <tr>\n",
       "      <th>397</th>\n",
       "      <td>31.0</td>\n",
       "      <td>4</td>\n",
       "      <td>119.0</td>\n",
       "      <td>82.0</td>\n",
       "      <td>2720</td>\n",
       "      <td>19.4</td>\n",
       "      <td>82</td>\n",
       "      <td>usa</td>\n",
       "      <td>chevy s-10</td>\n",
       "    </tr>\n",
       "  </tbody>\n",
       "</table>\n",
       "<p>398 rows × 9 columns</p>\n",
       "</div>"
      ],
      "text/plain": [
       "      mpg  cylinders  displacement  horsepower  weight  acceleration  \\\n",
       "0    18.0          8         307.0       130.0    3504          12.0   \n",
       "1    15.0          8         350.0       165.0    3693          11.5   \n",
       "2    18.0          8         318.0       150.0    3436          11.0   \n",
       "3    16.0          8         304.0       150.0    3433          12.0   \n",
       "4    17.0          8         302.0       140.0    3449          10.5   \n",
       "..    ...        ...           ...         ...     ...           ...   \n",
       "393  27.0          4         140.0        86.0    2790          15.6   \n",
       "394  44.0          4          97.0        52.0    2130          24.6   \n",
       "395  32.0          4         135.0        84.0    2295          11.6   \n",
       "396  28.0          4         120.0        79.0    2625          18.6   \n",
       "397  31.0          4         119.0        82.0    2720          19.4   \n",
       "\n",
       "     model_year  origin                       name  \n",
       "0            70     usa  chevrolet chevelle malibu  \n",
       "1            70     usa          buick skylark 320  \n",
       "2            70     usa         plymouth satellite  \n",
       "3            70     usa              amc rebel sst  \n",
       "4            70     usa                ford torino  \n",
       "..          ...     ...                        ...  \n",
       "393          82     usa            ford mustang gl  \n",
       "394          82  europe                  vw pickup  \n",
       "395          82     usa              dodge rampage  \n",
       "396          82     usa                ford ranger  \n",
       "397          82     usa                 chevy s-10  \n",
       "\n",
       "[398 rows x 9 columns]"
      ]
     },
     "execution_count": 2,
     "metadata": {},
     "output_type": "execute_result"
    }
   ],
   "source": [
    "from seaborn import load_dataset\n",
    "df = load_dataset(\"mpg\")\n",
    "df"
   ]
  },
  {
   "cell_type": "markdown",
   "metadata": {},
   "source": [
    "This data has some rows with missing data. We will ignore those rows until later for the sake of this lecture. We can use the Pandas `DataFrame.isna` function to find rows with missing values and drop them."
   ]
  },
  {
   "cell_type": "code",
   "execution_count": 3,
   "metadata": {},
   "outputs": [],
   "source": [
    "data = df[~df.isna().any(axis=1)].copy()"
   ]
  },
  {
   "cell_type": "markdown",
   "metadata": {},
   "source": [
    "### Keeping Track of Progress\n",
    "\n",
    "Because we are going to be building multiple models with different sets of features it is important to have a standard way to track each of the models.  \n",
    "\n",
    "The following function takes a model prediction function, the name of a model, and the dictionary of models that we have already constructed.  It then evaluates the new model on the data and plots how the new model performs relative to the previous models as well as the $Y$ vs $\\hat{Y}$ scatter plot.  \n",
    "\n",
    "In addition, it updates the dictionary of models to include the new model for future plotting.\n",
    "\n",
    "*Don't worry about understanding the plotting code and how the dictionary is used.*"
   ]
  },
  {
   "cell_type": "code",
   "execution_count": 4,
   "metadata": {},
   "outputs": [],
   "source": [
    "from sklearn.metrics import mean_squared_error\n",
    "from sklearn.metrics import mean_absolute_error\n",
    "\n",
    "def evaluate_model(name, model, phi, models=dict()):\n",
    "    # run the prediction function and compute the RMSE\n",
    "    Yhat = model.predict(phi(data)).flatten()\n",
    "    Y = data['mpg'].to_numpy()\n",
    "    rmse = np.sqrt(mean_squared_error(Y, Yhat))\n",
    "    print(\"Root Mean Squared Error:\", rmse)\n",
    "    \n",
    "    # Save the model and rmse to the collection of models \n",
    "    models[name] = dict(model=model, phi=phi, rmse=rmse)\n",
    "    \n",
    "    # Generate diagnostic and model comparison plots\n",
    "    fig = make_subplots(rows=1, cols=2)\n",
    "    fig.add_trace(go.Scatter(x=Yhat, y=Y, mode=\"markers\"), row=1, col=1)\n",
    "    fig.update_xaxes(title = \"Yhat\", row=1, col=1)\n",
    "    fig.update_yaxes(title = \"Y\", row=1, col=1)\n",
    "    ymin = np.min(Yhat)\n",
    "    ymax = np.max(Yhat)\n",
    "    fig.add_trace(go.Scatter(x=[ymin,ymax], y=[ymin,ymax], name=\"y=yhat\"), row=1, col=1)\n",
    "    fig.add_trace(go.Bar(x=list(models.keys()), \n",
    "                         y=[models[k]['rmse'] for k in models]), row=1, col=2)    \n",
    "    fig.update_layout(showlegend=False)\n",
    "    fig.update_yaxes(title = \"RMSE\", row=1, col=2)\n",
    "    fig.show()\n",
    "    \n",
    "\n",
    "\n",
    "models = {}"
   ]
  },
  {
   "cell_type": "markdown",
   "metadata": {},
   "source": [
    "## Quantitative Data"
   ]
  },
  {
   "cell_type": "markdown",
   "metadata": {},
   "source": [
    "This data set has several quantitative features that we can use to build our first model."
   ]
  },
  {
   "cell_type": "code",
   "execution_count": 5,
   "metadata": {},
   "outputs": [
    {
     "data": {
      "text/html": [
       "<div>\n",
       "<style scoped>\n",
       "    .dataframe tbody tr th:only-of-type {\n",
       "        vertical-align: middle;\n",
       "    }\n",
       "\n",
       "    .dataframe tbody tr th {\n",
       "        vertical-align: top;\n",
       "    }\n",
       "\n",
       "    .dataframe thead th {\n",
       "        text-align: right;\n",
       "    }\n",
       "</style>\n",
       "<table border=\"1\" class=\"dataframe\">\n",
       "  <thead>\n",
       "    <tr style=\"text-align: right;\">\n",
       "      <th></th>\n",
       "      <th>mpg</th>\n",
       "      <th>cylinders</th>\n",
       "      <th>displacement</th>\n",
       "      <th>horsepower</th>\n",
       "      <th>weight</th>\n",
       "      <th>acceleration</th>\n",
       "      <th>model_year</th>\n",
       "      <th>origin</th>\n",
       "      <th>name</th>\n",
       "    </tr>\n",
       "  </thead>\n",
       "  <tbody>\n",
       "    <tr>\n",
       "      <th>0</th>\n",
       "      <td>18.0</td>\n",
       "      <td>8</td>\n",
       "      <td>307.0</td>\n",
       "      <td>130.0</td>\n",
       "      <td>3504</td>\n",
       "      <td>12.0</td>\n",
       "      <td>70</td>\n",
       "      <td>usa</td>\n",
       "      <td>chevrolet chevelle malibu</td>\n",
       "    </tr>\n",
       "    <tr>\n",
       "      <th>1</th>\n",
       "      <td>15.0</td>\n",
       "      <td>8</td>\n",
       "      <td>350.0</td>\n",
       "      <td>165.0</td>\n",
       "      <td>3693</td>\n",
       "      <td>11.5</td>\n",
       "      <td>70</td>\n",
       "      <td>usa</td>\n",
       "      <td>buick skylark 320</td>\n",
       "    </tr>\n",
       "    <tr>\n",
       "      <th>2</th>\n",
       "      <td>18.0</td>\n",
       "      <td>8</td>\n",
       "      <td>318.0</td>\n",
       "      <td>150.0</td>\n",
       "      <td>3436</td>\n",
       "      <td>11.0</td>\n",
       "      <td>70</td>\n",
       "      <td>usa</td>\n",
       "      <td>plymouth satellite</td>\n",
       "    </tr>\n",
       "    <tr>\n",
       "      <th>3</th>\n",
       "      <td>16.0</td>\n",
       "      <td>8</td>\n",
       "      <td>304.0</td>\n",
       "      <td>150.0</td>\n",
       "      <td>3433</td>\n",
       "      <td>12.0</td>\n",
       "      <td>70</td>\n",
       "      <td>usa</td>\n",
       "      <td>amc rebel sst</td>\n",
       "    </tr>\n",
       "    <tr>\n",
       "      <th>4</th>\n",
       "      <td>17.0</td>\n",
       "      <td>8</td>\n",
       "      <td>302.0</td>\n",
       "      <td>140.0</td>\n",
       "      <td>3449</td>\n",
       "      <td>10.5</td>\n",
       "      <td>70</td>\n",
       "      <td>usa</td>\n",
       "      <td>ford torino</td>\n",
       "    </tr>\n",
       "  </tbody>\n",
       "</table>\n",
       "</div>"
      ],
      "text/plain": [
       "    mpg  cylinders  displacement  horsepower  weight  acceleration  \\\n",
       "0  18.0          8         307.0       130.0    3504          12.0   \n",
       "1  15.0          8         350.0       165.0    3693          11.5   \n",
       "2  18.0          8         318.0       150.0    3436          11.0   \n",
       "3  16.0          8         304.0       150.0    3433          12.0   \n",
       "4  17.0          8         302.0       140.0    3449          10.5   \n",
       "\n",
       "   model_year origin                       name  \n",
       "0          70    usa  chevrolet chevelle malibu  \n",
       "1          70    usa          buick skylark 320  \n",
       "2          70    usa         plymouth satellite  \n",
       "3          70    usa              amc rebel sst  \n",
       "4          70    usa                ford torino  "
      ]
     },
     "execution_count": 5,
     "metadata": {},
     "output_type": "execute_result"
    }
   ],
   "source": [
    "data.head()"
   ]
  },
  {
   "cell_type": "code",
   "execution_count": 6,
   "metadata": {},
   "outputs": [
    {
     "data": {
      "text/html": [
       "<div>\n",
       "<style scoped>\n",
       "    .dataframe tbody tr th:only-of-type {\n",
       "        vertical-align: middle;\n",
       "    }\n",
       "\n",
       "    .dataframe tbody tr th {\n",
       "        vertical-align: top;\n",
       "    }\n",
       "\n",
       "    .dataframe thead th {\n",
       "        text-align: right;\n",
       "    }\n",
       "</style>\n",
       "<table border=\"1\" class=\"dataframe\">\n",
       "  <thead>\n",
       "    <tr style=\"text-align: right;\">\n",
       "      <th></th>\n",
       "      <th>cylinders</th>\n",
       "      <th>displacement</th>\n",
       "      <th>horsepower</th>\n",
       "      <th>weight</th>\n",
       "      <th>acceleration</th>\n",
       "      <th>model_year</th>\n",
       "    </tr>\n",
       "  </thead>\n",
       "  <tbody>\n",
       "    <tr>\n",
       "      <th>0</th>\n",
       "      <td>8</td>\n",
       "      <td>307.0</td>\n",
       "      <td>130.0</td>\n",
       "      <td>3504</td>\n",
       "      <td>12.0</td>\n",
       "      <td>70</td>\n",
       "    </tr>\n",
       "    <tr>\n",
       "      <th>1</th>\n",
       "      <td>8</td>\n",
       "      <td>350.0</td>\n",
       "      <td>165.0</td>\n",
       "      <td>3693</td>\n",
       "      <td>11.5</td>\n",
       "      <td>70</td>\n",
       "    </tr>\n",
       "    <tr>\n",
       "      <th>2</th>\n",
       "      <td>8</td>\n",
       "      <td>318.0</td>\n",
       "      <td>150.0</td>\n",
       "      <td>3436</td>\n",
       "      <td>11.0</td>\n",
       "      <td>70</td>\n",
       "    </tr>\n",
       "    <tr>\n",
       "      <th>3</th>\n",
       "      <td>8</td>\n",
       "      <td>304.0</td>\n",
       "      <td>150.0</td>\n",
       "      <td>3433</td>\n",
       "      <td>12.0</td>\n",
       "      <td>70</td>\n",
       "    </tr>\n",
       "    <tr>\n",
       "      <th>4</th>\n",
       "      <td>8</td>\n",
       "      <td>302.0</td>\n",
       "      <td>140.0</td>\n",
       "      <td>3449</td>\n",
       "      <td>10.5</td>\n",
       "      <td>70</td>\n",
       "    </tr>\n",
       "    <tr>\n",
       "      <th>...</th>\n",
       "      <td>...</td>\n",
       "      <td>...</td>\n",
       "      <td>...</td>\n",
       "      <td>...</td>\n",
       "      <td>...</td>\n",
       "      <td>...</td>\n",
       "    </tr>\n",
       "    <tr>\n",
       "      <th>393</th>\n",
       "      <td>4</td>\n",
       "      <td>140.0</td>\n",
       "      <td>86.0</td>\n",
       "      <td>2790</td>\n",
       "      <td>15.6</td>\n",
       "      <td>82</td>\n",
       "    </tr>\n",
       "    <tr>\n",
       "      <th>394</th>\n",
       "      <td>4</td>\n",
       "      <td>97.0</td>\n",
       "      <td>52.0</td>\n",
       "      <td>2130</td>\n",
       "      <td>24.6</td>\n",
       "      <td>82</td>\n",
       "    </tr>\n",
       "    <tr>\n",
       "      <th>395</th>\n",
       "      <td>4</td>\n",
       "      <td>135.0</td>\n",
       "      <td>84.0</td>\n",
       "      <td>2295</td>\n",
       "      <td>11.6</td>\n",
       "      <td>82</td>\n",
       "    </tr>\n",
       "    <tr>\n",
       "      <th>396</th>\n",
       "      <td>4</td>\n",
       "      <td>120.0</td>\n",
       "      <td>79.0</td>\n",
       "      <td>2625</td>\n",
       "      <td>18.6</td>\n",
       "      <td>82</td>\n",
       "    </tr>\n",
       "    <tr>\n",
       "      <th>397</th>\n",
       "      <td>4</td>\n",
       "      <td>119.0</td>\n",
       "      <td>82.0</td>\n",
       "      <td>2720</td>\n",
       "      <td>19.4</td>\n",
       "      <td>82</td>\n",
       "    </tr>\n",
       "  </tbody>\n",
       "</table>\n",
       "<p>392 rows × 6 columns</p>\n",
       "</div>"
      ],
      "text/plain": [
       "     cylinders  displacement  horsepower  weight  acceleration  model_year\n",
       "0            8         307.0       130.0    3504          12.0          70\n",
       "1            8         350.0       165.0    3693          11.5          70\n",
       "2            8         318.0       150.0    3436          11.0          70\n",
       "3            8         304.0       150.0    3433          12.0          70\n",
       "4            8         302.0       140.0    3449          10.5          70\n",
       "..         ...           ...         ...     ...           ...         ...\n",
       "393          4         140.0        86.0    2790          15.6          82\n",
       "394          4          97.0        52.0    2130          24.6          82\n",
       "395          4         135.0        84.0    2295          11.6          82\n",
       "396          4         120.0        79.0    2625          18.6          82\n",
       "397          4         119.0        82.0    2720          19.4          82\n",
       "\n",
       "[392 rows x 6 columns]"
      ]
     },
     "execution_count": 6,
     "metadata": {},
     "output_type": "execute_result"
    }
   ],
   "source": [
    "def basic_design_matrix(df):\n",
    "    X = df[[\"cylinders\", \"displacement\", \n",
    "          \"horsepower\", \"weight\", \"acceleration\", \"model_year\"]]\n",
    "    return X\n",
    "\n",
    "basic_design_matrix(data)"
   ]
  },
  {
   "cell_type": "code",
   "execution_count": 8,
   "metadata": {},
   "outputs": [
    {
     "name": "stdout",
     "output_type": "stream",
     "text": [
      "Root Mean Squared Error: 3.4044340177796406\n"
     ]
    },
    {
     "data": {
      "application/vnd.plotly.v1+json": {
       "config": {
        "plotlyServerURL": "https://plot.ly"
       },
       "data": [
        {
         "mode": "markers",
         "type": "scatter",
         "x": [
          15.082919044604246,
          14.072574690909633,
          15.536315436974409,
          15.534474514246899,
          15.286407452461816,
          10.135433667957262,
          10.145181321611393,
          10.282377404953472,
          9.753758349084112,
          13.047353258080808,
          15.079396569408065,
          14.270038706747442,
          13.829786024708035,
          18.851751735093277,
          22.87376459744363,
          19.77703075543656,
          20.18480893142208,
          21.51041380182588,
          24.355310114120396,
          26.88779881434736,
          21.02865789465753,
          22.392926331399554,
          22.99745798887631,
          23.652621793744967,
          21.00103365405005,
          8.078336615897083,
          9.38643707481965,
          9.298308673864057,
          7.245713660258016,
          25.108677293870496,
          24.612861529766466,
          24.5202835097725,
          21.928453633004654,
          16.616263540529594,
          17.557589044967624,
          17.745739995513876,
          17.69795663502546,
          11.362555650831837,
          9.967299415905927,
          11.876544203617357,
          11.975781287791445,
          6.49865192842336,
          8.095810565676594,
          5.4167743299380255,
          19.93818121149555,
          23.939937314883455,
          17.834299463422642,
          18.76798946844679,
          24.647268525438623,
          25.25871045927744,
          25.784374787692794,
          25.485917852929735,
          27.72744749206252,
          28.735426119204167,
          27.51457176355734,
          26.770348729258682,
          25.0618296642747,
          26.109376122354217,
          25.800277164395037,
          24.72889671777948,
          25.573051115076556,
          11.674272666212559,
          11.300078034286273,
          12.506794992393544,
          12.75714020772822,
          15.374658568976855,
          9.739499287961586,
          10.25692320812151,
          10.56751885426796,
          11.085443461358604,
          24.536866916322662,
          13.965115874981581,
          12.724196857454139,
          11.520692533369896,
          12.94351945484291,
          20.580856081264248,
          23.760730005679203,
          20.696775351085247,
          25.759375706704315,
          24.382124064242564,
          25.000112538380375,
          23.480349833637877,
          25.684473362873472,
          26.236429504916313,
          13.691263054099537,
          16.128025748726955,
          14.464000927610368,
          13.859567623590934,
          15.607362138184673,
          8.371933532556273,
          11.526454288223768,
          11.918610017879761,
          12.652384391926617,
          9.881538684214217,
          8.525164112846387,
          15.493199260475905,
          20.36895964343029,
          19.624032035418036,
          21.577881562286922,
          21.247035235619702,
          21.597351046310852,
          28.409155917033157,
          8.075469434289335,
          8.559216749231691,
          10.005785810397768,
          10.935617105320489,
          22.552568709826193,
          25.98674319554036,
          25.536870623250902,
          25.176212886075323,
          26.692664875244343,
          25.92660823957137,
          24.027210723620758,
          25.7903072011087,
          13.825306843753115,
          12.545761656842586,
          28.621350789627503,
          26.661413395836778,
          23.630966980476916,
          21.86114667233095,
          18.04781783901959,
          23.14730003903964,
          21.71018519580402,
          16.481213192567793,
          21.048020502686317,
          22.630211930225524,
          19.898038129245155,
          28.84554639144928,
          25.553344577509936,
          29.730034596664662,
          25.11783949312576,
          16.874433157793266,
          18.029618360047113,
          17.77937480979988,
          13.896456939722011,
          10.51234786350286,
          11.825662383786987,
          10.690078330669085,
          13.247634436941581,
          26.944239540837604,
          28.458759994260095,
          26.21760734358465,
          30.660378308881736,
          28.518493496458635,
          27.35409053343913,
          27.55487228491374,
          26.68894432878903,
          25.145229321139073,
          25.763162759491454,
          28.24999575493884,
          20.865340573581857,
          19.72843728083409,
          20.351172933165476,
          22.084988371009384,
          11.596622858446633,
          12.984841237212283,
          12.385723476035935,
          11.474276890058928,
          16.962967737874965,
          16.965577752143908,
          18.202386231233692,
          17.58116438155516,
          22.349056605001113,
          20.56283943375959,
          21.087951148689545,
          27.97656417130226,
          25.208997890688398,
          23.295249077101747,
          25.658211580906684,
          24.431322393908072,
          27.613697073867986,
          25.6809659613907,
          22.22450577458687,
          29.34416603529893,
          21.366434359514198,
          24.468090388575217,
          22.892784011487965,
          22.764901183586698,
          24.534700200150294,
          30.621789618311343,
          26.768951070087684,
          28.617283036741387,
          26.2350084518816,
          28.310260974088028,
          28.48718979926026,
          14.838151617416983,
          15.1039231026847,
          16.63408455298467,
          15.169608492362684,
          21.776220182609446,
          21.074124088981097,
          23.28090688455271,
          23.0270873445179,
          30.099553533613662,
          29.31120924667442,
          30.114587864438473,
          31.366629473366718,
          19.132198362797308,
          20.137356235773762,
          19.23310340021708,
          22.508005667735926,
          30.758396232975688,
          29.95484605526224,
          28.872754536445246,
          26.179542667719037,
          22.295240037331826,
          16.819632230417906,
          21.937274694393114,
          23.310574203636296,
          17.453137053111096,
          13.970168877483523,
          16.18358981971731,
          17.333719556431685,
          18.144855141950064,
          30.56302142451604,
          29.595225766625855,
          31.924388071256413,
          28.747898485552472,
          30.996916391724785,
          17.823122396805314,
          16.822535361660073,
          16.258669228835426,
          15.19084679830268,
          20.852852468528507,
          21.397044397007097,
          20.02825251872829,
          21.045286087909563,
          16.10932318862235,
          16.128601191483806,
          15.485775323622317,
          15.253760109039366,
          30.923771331649977,
          26.02670854880481,
          29.032205590229122,
          25.82288054245787,
          30.396300624483747,
          30.131602111445577,
          30.7843376060592,
          29.19100755452732,
          24.687569805349487,
          26.46611793650587,
          25.72549850883721,
          31.9262850894342,
          32.63223239170691,
          31.653504685622945,
          31.054448176808013,
          32.751378007336484,
          21.999705626890506,
          19.7231768178976,
          20.687715946496642,
          21.59913207426457,
          23.86169585257598,
          24.951931019181483,
          26.78034140597097,
          22.097906657679783,
          23.650385166067327,
          22.362368811217113,
          24.31524206052961,
          20.93092556882176,
          22.300286283932213,
          21.727732000004114,
          21.692581519748746,
          23.031314289762964,
          17.421670261256832,
          30.398434139900427,
          27.71634230529445,
          29.409620421439268,
          29.769300825193955,
          28.073264059564668,
          26.83753301831675,
          26.136305930353632,
          28.71324018992434,
          25.67073476409769,
          23.275515599081512,
          26.139870261426,
          21.625439061164077,
          31.312828961575182,
          30.542853822862657,
          23.994986554756355,
          25.740088543770565,
          26.54064270964705,
          24.115321607529037,
          23.27181958746019,
          19.854804222593888,
          20.442994853579567,
          19.23589896590204,
          20.003558567640336,
          16.61471175579759,
          18.655466941824823,
          21.127606562058016,
          19.385173190523364,
          32.43110038344216,
          32.17301022682088,
          32.59873953338622,
          27.696570852566555,
          22.43547065926521,
          19.965159780531007,
          25.156138162736614,
          22.958526687426644,
          30.617608099182707,
          31.102303514661745,
          32.20066697826401,
          31.114034555698698,
          28.008283451093742,
          27.616518931819176,
          27.039521246030365,
          28.544104801766256,
          31.823286607352653,
          33.3059154895752,
          32.056924168273994,
          32.72974211471916,
          28.749930311010456,
          27.498120845222434,
          26.8486631781736,
          24.069400721093817,
          31.609662849414665,
          28.309901358775225,
          29.527110590221614,
          30.033414732500187,
          31.120950121320835,
          32.23934175502288,
          27.774434924602705,
          32.34251854581035,
          32.77061230698634,
          31.24250432253704,
          26.640512459998003,
          25.28596610035716,
          33.69393154008881,
          32.093737474285064,
          33.842414417457505,
          26.193063597577325,
          29.8658414284512,
          29.618097987938963,
          31.09807215446884,
          30.591960310457143,
          29.78928686978352,
          29.7559209512192,
          28.352764961480826,
          31.06663009990928,
          35.26851552438278,
          34.46192562956902,
          35.18089798659844,
          33.37361943771572,
          34.03021379325554,
          33.37343141886018,
          33.71723508924343,
          32.1701271988089,
          33.38153574225909,
          31.489068352541,
          32.27599646246884,
          32.172124258504866,
          31.43321197354963,
          29.536770575949877,
          29.717188257159382,
          26.012363318970163,
          25.79232894047143,
          27.122966541978034,
          26.850965013252196,
          24.38270194563049,
          22.80521658146262,
          26.67622501097127,
          24.07490295540003,
          30.718342775358135,
          30.39525790144278,
          32.00877534205132,
          30.633426339860083,
          31.133097837323294,
          29.997281319869128,
          28.892298352184174,
          34.55003397566966,
          34.38641869574245,
          34.708958732809734,
          33.51795534137331,
          33.68317728271235,
          33.36848162933049,
          32.96799185251656,
          32.91049813676764,
          34.52161273588757,
          34.581304008750635,
          34.420102094822994,
          27.996781980639245,
          28.20405941397279,
          30.75562708263215,
          28.99004266259256,
          30.06718711617174,
          31.930443873054724,
          28.47674719563044,
          29.336024231572086,
          34.27106486594403,
          32.320657670831736,
          30.5621268122586,
          29.976004211080554
         ],
         "xaxis": "x",
         "y": [
          18,
          15,
          18,
          16,
          17,
          15,
          14,
          14,
          14,
          15,
          15,
          14,
          15,
          14,
          24,
          22,
          18,
          21,
          27,
          26,
          25,
          24,
          25,
          26,
          21,
          10,
          10,
          11,
          9,
          27,
          28,
          25,
          19,
          16,
          17,
          19,
          18,
          14,
          14,
          14,
          14,
          12,
          13,
          13,
          18,
          22,
          19,
          18,
          23,
          28,
          30,
          30,
          31,
          35,
          27,
          26,
          24,
          25,
          23,
          20,
          21,
          13,
          14,
          15,
          14,
          17,
          11,
          13,
          12,
          13,
          19,
          15,
          13,
          13,
          14,
          18,
          22,
          21,
          26,
          22,
          28,
          23,
          28,
          27,
          13,
          14,
          13,
          14,
          15,
          12,
          13,
          13,
          14,
          13,
          12,
          13,
          18,
          16,
          18,
          18,
          23,
          26,
          11,
          12,
          13,
          12,
          18,
          20,
          21,
          22,
          18,
          19,
          21,
          26,
          15,
          16,
          29,
          24,
          20,
          19,
          15,
          24,
          20,
          11,
          20,
          19,
          15,
          31,
          26,
          32,
          25,
          16,
          16,
          18,
          16,
          13,
          14,
          14,
          14,
          29,
          26,
          26,
          31,
          32,
          28,
          24,
          26,
          24,
          26,
          31,
          19,
          18,
          15,
          15,
          16,
          15,
          16,
          14,
          17,
          16,
          15,
          18,
          21,
          20,
          13,
          29,
          23,
          20,
          23,
          24,
          25,
          24,
          18,
          29,
          19,
          23,
          23,
          22,
          25,
          33,
          28,
          25,
          25,
          26,
          27,
          17.5,
          16,
          15.5,
          14.5,
          22,
          22,
          24,
          22.5,
          29,
          24.5,
          29,
          33,
          20,
          18,
          18.5,
          17.5,
          29.5,
          32,
          28,
          26.5,
          20,
          13,
          19,
          19,
          16.5,
          16.5,
          13,
          13,
          13,
          31.5,
          30,
          36,
          25.5,
          33.5,
          17.5,
          17,
          15.5,
          15,
          17.5,
          20.5,
          19,
          18.5,
          16,
          15.5,
          15.5,
          16,
          29,
          24.5,
          26,
          25.5,
          30.5,
          33.5,
          30,
          30.5,
          22,
          21.5,
          21.5,
          43.1,
          36.1,
          32.8,
          39.4,
          36.1,
          19.9,
          19.4,
          20.2,
          19.2,
          20.5,
          20.2,
          25.1,
          20.5,
          19.4,
          20.6,
          20.8,
          18.6,
          18.1,
          19.2,
          17.7,
          18.1,
          17.5,
          30,
          27.5,
          27.2,
          30.9,
          21.1,
          23.2,
          23.8,
          23.9,
          20.3,
          17,
          21.6,
          16.2,
          31.5,
          29.5,
          21.5,
          19.8,
          22.3,
          20.2,
          20.6,
          17,
          17.6,
          16.5,
          18.2,
          16.9,
          15.5,
          19.2,
          18.5,
          31.9,
          34.1,
          35.7,
          27.4,
          25.4,
          23,
          27.2,
          23.9,
          34.2,
          34.5,
          31.8,
          37.3,
          28.4,
          28.8,
          26.8,
          33.5,
          41.5,
          38.1,
          32.1,
          37.2,
          28,
          26.4,
          24.3,
          19.1,
          34.3,
          29.8,
          31.3,
          37,
          32.2,
          46.6,
          27.9,
          40.8,
          44.3,
          43.4,
          36.4,
          30,
          44.6,
          33.8,
          29.8,
          32.7,
          23.7,
          35,
          32.4,
          27.2,
          26.6,
          25.8,
          23.5,
          30,
          39.1,
          39,
          35.1,
          32.3,
          37,
          37.7,
          34.1,
          34.7,
          34.4,
          29.9,
          33,
          33.7,
          32.4,
          32.9,
          31.6,
          28.1,
          30.7,
          25.4,
          24.2,
          22.4,
          26.6,
          20.2,
          17.6,
          28,
          27,
          34,
          31,
          29,
          27,
          24,
          36,
          37,
          31,
          38,
          36,
          36,
          36,
          34,
          38,
          32,
          38,
          25,
          38,
          26,
          22,
          32,
          36,
          27,
          27,
          44,
          32,
          28,
          31
         ],
         "yaxis": "y"
        },
        {
         "name": "y=yhat",
         "type": "scatter",
         "x": [
          5.4167743299380255,
          35.26851552438278
         ],
         "xaxis": "x",
         "y": [
          5.4167743299380255,
          35.26851552438278
         ],
         "yaxis": "y"
        },
        {
         "type": "bar",
         "x": [
          "basic"
         ],
         "xaxis": "x2",
         "y": [
          3.4044340177796406
         ],
         "yaxis": "y2"
        }
       ],
       "layout": {
        "showlegend": false,
        "template": {
         "data": {
          "bar": [
           {
            "error_x": {
             "color": "#2a3f5f"
            },
            "error_y": {
             "color": "#2a3f5f"
            },
            "marker": {
             "line": {
              "color": "#E5ECF6",
              "width": 0.5
             },
             "pattern": {
              "fillmode": "overlay",
              "size": 10,
              "solidity": 0.2
             }
            },
            "type": "bar"
           }
          ],
          "barpolar": [
           {
            "marker": {
             "line": {
              "color": "#E5ECF6",
              "width": 0.5
             },
             "pattern": {
              "fillmode": "overlay",
              "size": 10,
              "solidity": 0.2
             }
            },
            "type": "barpolar"
           }
          ],
          "carpet": [
           {
            "aaxis": {
             "endlinecolor": "#2a3f5f",
             "gridcolor": "white",
             "linecolor": "white",
             "minorgridcolor": "white",
             "startlinecolor": "#2a3f5f"
            },
            "baxis": {
             "endlinecolor": "#2a3f5f",
             "gridcolor": "white",
             "linecolor": "white",
             "minorgridcolor": "white",
             "startlinecolor": "#2a3f5f"
            },
            "type": "carpet"
           }
          ],
          "choropleth": [
           {
            "colorbar": {
             "outlinewidth": 0,
             "ticks": ""
            },
            "type": "choropleth"
           }
          ],
          "contour": [
           {
            "colorbar": {
             "outlinewidth": 0,
             "ticks": ""
            },
            "colorscale": [
             [
              0,
              "#0d0887"
             ],
             [
              0.1111111111111111,
              "#46039f"
             ],
             [
              0.2222222222222222,
              "#7201a8"
             ],
             [
              0.3333333333333333,
              "#9c179e"
             ],
             [
              0.4444444444444444,
              "#bd3786"
             ],
             [
              0.5555555555555556,
              "#d8576b"
             ],
             [
              0.6666666666666666,
              "#ed7953"
             ],
             [
              0.7777777777777778,
              "#fb9f3a"
             ],
             [
              0.8888888888888888,
              "#fdca26"
             ],
             [
              1,
              "#f0f921"
             ]
            ],
            "type": "contour"
           }
          ],
          "contourcarpet": [
           {
            "colorbar": {
             "outlinewidth": 0,
             "ticks": ""
            },
            "type": "contourcarpet"
           }
          ],
          "heatmap": [
           {
            "colorbar": {
             "outlinewidth": 0,
             "ticks": ""
            },
            "colorscale": [
             [
              0,
              "#0d0887"
             ],
             [
              0.1111111111111111,
              "#46039f"
             ],
             [
              0.2222222222222222,
              "#7201a8"
             ],
             [
              0.3333333333333333,
              "#9c179e"
             ],
             [
              0.4444444444444444,
              "#bd3786"
             ],
             [
              0.5555555555555556,
              "#d8576b"
             ],
             [
              0.6666666666666666,
              "#ed7953"
             ],
             [
              0.7777777777777778,
              "#fb9f3a"
             ],
             [
              0.8888888888888888,
              "#fdca26"
             ],
             [
              1,
              "#f0f921"
             ]
            ],
            "type": "heatmap"
           }
          ],
          "heatmapgl": [
           {
            "colorbar": {
             "outlinewidth": 0,
             "ticks": ""
            },
            "colorscale": [
             [
              0,
              "#0d0887"
             ],
             [
              0.1111111111111111,
              "#46039f"
             ],
             [
              0.2222222222222222,
              "#7201a8"
             ],
             [
              0.3333333333333333,
              "#9c179e"
             ],
             [
              0.4444444444444444,
              "#bd3786"
             ],
             [
              0.5555555555555556,
              "#d8576b"
             ],
             [
              0.6666666666666666,
              "#ed7953"
             ],
             [
              0.7777777777777778,
              "#fb9f3a"
             ],
             [
              0.8888888888888888,
              "#fdca26"
             ],
             [
              1,
              "#f0f921"
             ]
            ],
            "type": "heatmapgl"
           }
          ],
          "histogram": [
           {
            "marker": {
             "pattern": {
              "fillmode": "overlay",
              "size": 10,
              "solidity": 0.2
             }
            },
            "type": "histogram"
           }
          ],
          "histogram2d": [
           {
            "colorbar": {
             "outlinewidth": 0,
             "ticks": ""
            },
            "colorscale": [
             [
              0,
              "#0d0887"
             ],
             [
              0.1111111111111111,
              "#46039f"
             ],
             [
              0.2222222222222222,
              "#7201a8"
             ],
             [
              0.3333333333333333,
              "#9c179e"
             ],
             [
              0.4444444444444444,
              "#bd3786"
             ],
             [
              0.5555555555555556,
              "#d8576b"
             ],
             [
              0.6666666666666666,
              "#ed7953"
             ],
             [
              0.7777777777777778,
              "#fb9f3a"
             ],
             [
              0.8888888888888888,
              "#fdca26"
             ],
             [
              1,
              "#f0f921"
             ]
            ],
            "type": "histogram2d"
           }
          ],
          "histogram2dcontour": [
           {
            "colorbar": {
             "outlinewidth": 0,
             "ticks": ""
            },
            "colorscale": [
             [
              0,
              "#0d0887"
             ],
             [
              0.1111111111111111,
              "#46039f"
             ],
             [
              0.2222222222222222,
              "#7201a8"
             ],
             [
              0.3333333333333333,
              "#9c179e"
             ],
             [
              0.4444444444444444,
              "#bd3786"
             ],
             [
              0.5555555555555556,
              "#d8576b"
             ],
             [
              0.6666666666666666,
              "#ed7953"
             ],
             [
              0.7777777777777778,
              "#fb9f3a"
             ],
             [
              0.8888888888888888,
              "#fdca26"
             ],
             [
              1,
              "#f0f921"
             ]
            ],
            "type": "histogram2dcontour"
           }
          ],
          "mesh3d": [
           {
            "colorbar": {
             "outlinewidth": 0,
             "ticks": ""
            },
            "type": "mesh3d"
           }
          ],
          "parcoords": [
           {
            "line": {
             "colorbar": {
              "outlinewidth": 0,
              "ticks": ""
             }
            },
            "type": "parcoords"
           }
          ],
          "pie": [
           {
            "automargin": true,
            "type": "pie"
           }
          ],
          "scatter": [
           {
            "fillpattern": {
             "fillmode": "overlay",
             "size": 10,
             "solidity": 0.2
            },
            "type": "scatter"
           }
          ],
          "scatter3d": [
           {
            "line": {
             "colorbar": {
              "outlinewidth": 0,
              "ticks": ""
             }
            },
            "marker": {
             "colorbar": {
              "outlinewidth": 0,
              "ticks": ""
             }
            },
            "type": "scatter3d"
           }
          ],
          "scattercarpet": [
           {
            "marker": {
             "colorbar": {
              "outlinewidth": 0,
              "ticks": ""
             }
            },
            "type": "scattercarpet"
           }
          ],
          "scattergeo": [
           {
            "marker": {
             "colorbar": {
              "outlinewidth": 0,
              "ticks": ""
             }
            },
            "type": "scattergeo"
           }
          ],
          "scattergl": [
           {
            "marker": {
             "colorbar": {
              "outlinewidth": 0,
              "ticks": ""
             }
            },
            "type": "scattergl"
           }
          ],
          "scattermapbox": [
           {
            "marker": {
             "colorbar": {
              "outlinewidth": 0,
              "ticks": ""
             }
            },
            "type": "scattermapbox"
           }
          ],
          "scatterpolar": [
           {
            "marker": {
             "colorbar": {
              "outlinewidth": 0,
              "ticks": ""
             }
            },
            "type": "scatterpolar"
           }
          ],
          "scatterpolargl": [
           {
            "marker": {
             "colorbar": {
              "outlinewidth": 0,
              "ticks": ""
             }
            },
            "type": "scatterpolargl"
           }
          ],
          "scatterternary": [
           {
            "marker": {
             "colorbar": {
              "outlinewidth": 0,
              "ticks": ""
             }
            },
            "type": "scatterternary"
           }
          ],
          "surface": [
           {
            "colorbar": {
             "outlinewidth": 0,
             "ticks": ""
            },
            "colorscale": [
             [
              0,
              "#0d0887"
             ],
             [
              0.1111111111111111,
              "#46039f"
             ],
             [
              0.2222222222222222,
              "#7201a8"
             ],
             [
              0.3333333333333333,
              "#9c179e"
             ],
             [
              0.4444444444444444,
              "#bd3786"
             ],
             [
              0.5555555555555556,
              "#d8576b"
             ],
             [
              0.6666666666666666,
              "#ed7953"
             ],
             [
              0.7777777777777778,
              "#fb9f3a"
             ],
             [
              0.8888888888888888,
              "#fdca26"
             ],
             [
              1,
              "#f0f921"
             ]
            ],
            "type": "surface"
           }
          ],
          "table": [
           {
            "cells": {
             "fill": {
              "color": "#EBF0F8"
             },
             "line": {
              "color": "white"
             }
            },
            "header": {
             "fill": {
              "color": "#C8D4E3"
             },
             "line": {
              "color": "white"
             }
            },
            "type": "table"
           }
          ]
         },
         "layout": {
          "annotationdefaults": {
           "arrowcolor": "#2a3f5f",
           "arrowhead": 0,
           "arrowwidth": 1
          },
          "autotypenumbers": "strict",
          "coloraxis": {
           "colorbar": {
            "outlinewidth": 0,
            "ticks": ""
           }
          },
          "colorscale": {
           "diverging": [
            [
             0,
             "#8e0152"
            ],
            [
             0.1,
             "#c51b7d"
            ],
            [
             0.2,
             "#de77ae"
            ],
            [
             0.3,
             "#f1b6da"
            ],
            [
             0.4,
             "#fde0ef"
            ],
            [
             0.5,
             "#f7f7f7"
            ],
            [
             0.6,
             "#e6f5d0"
            ],
            [
             0.7,
             "#b8e186"
            ],
            [
             0.8,
             "#7fbc41"
            ],
            [
             0.9,
             "#4d9221"
            ],
            [
             1,
             "#276419"
            ]
           ],
           "sequential": [
            [
             0,
             "#0d0887"
            ],
            [
             0.1111111111111111,
             "#46039f"
            ],
            [
             0.2222222222222222,
             "#7201a8"
            ],
            [
             0.3333333333333333,
             "#9c179e"
            ],
            [
             0.4444444444444444,
             "#bd3786"
            ],
            [
             0.5555555555555556,
             "#d8576b"
            ],
            [
             0.6666666666666666,
             "#ed7953"
            ],
            [
             0.7777777777777778,
             "#fb9f3a"
            ],
            [
             0.8888888888888888,
             "#fdca26"
            ],
            [
             1,
             "#f0f921"
            ]
           ],
           "sequentialminus": [
            [
             0,
             "#0d0887"
            ],
            [
             0.1111111111111111,
             "#46039f"
            ],
            [
             0.2222222222222222,
             "#7201a8"
            ],
            [
             0.3333333333333333,
             "#9c179e"
            ],
            [
             0.4444444444444444,
             "#bd3786"
            ],
            [
             0.5555555555555556,
             "#d8576b"
            ],
            [
             0.6666666666666666,
             "#ed7953"
            ],
            [
             0.7777777777777778,
             "#fb9f3a"
            ],
            [
             0.8888888888888888,
             "#fdca26"
            ],
            [
             1,
             "#f0f921"
            ]
           ]
          },
          "colorway": [
           "#636efa",
           "#EF553B",
           "#00cc96",
           "#ab63fa",
           "#FFA15A",
           "#19d3f3",
           "#FF6692",
           "#B6E880",
           "#FF97FF",
           "#FECB52"
          ],
          "font": {
           "color": "#2a3f5f"
          },
          "geo": {
           "bgcolor": "white",
           "lakecolor": "white",
           "landcolor": "#E5ECF6",
           "showlakes": true,
           "showland": true,
           "subunitcolor": "white"
          },
          "hoverlabel": {
           "align": "left"
          },
          "hovermode": "closest",
          "mapbox": {
           "style": "light"
          },
          "paper_bgcolor": "white",
          "plot_bgcolor": "#E5ECF6",
          "polar": {
           "angularaxis": {
            "gridcolor": "white",
            "linecolor": "white",
            "ticks": ""
           },
           "bgcolor": "#E5ECF6",
           "radialaxis": {
            "gridcolor": "white",
            "linecolor": "white",
            "ticks": ""
           }
          },
          "scene": {
           "xaxis": {
            "backgroundcolor": "#E5ECF6",
            "gridcolor": "white",
            "gridwidth": 2,
            "linecolor": "white",
            "showbackground": true,
            "ticks": "",
            "zerolinecolor": "white"
           },
           "yaxis": {
            "backgroundcolor": "#E5ECF6",
            "gridcolor": "white",
            "gridwidth": 2,
            "linecolor": "white",
            "showbackground": true,
            "ticks": "",
            "zerolinecolor": "white"
           },
           "zaxis": {
            "backgroundcolor": "#E5ECF6",
            "gridcolor": "white",
            "gridwidth": 2,
            "linecolor": "white",
            "showbackground": true,
            "ticks": "",
            "zerolinecolor": "white"
           }
          },
          "shapedefaults": {
           "line": {
            "color": "#2a3f5f"
           }
          },
          "ternary": {
           "aaxis": {
            "gridcolor": "white",
            "linecolor": "white",
            "ticks": ""
           },
           "baxis": {
            "gridcolor": "white",
            "linecolor": "white",
            "ticks": ""
           },
           "bgcolor": "#E5ECF6",
           "caxis": {
            "gridcolor": "white",
            "linecolor": "white",
            "ticks": ""
           }
          },
          "title": {
           "x": 0.05
          },
          "xaxis": {
           "automargin": true,
           "gridcolor": "white",
           "linecolor": "white",
           "ticks": "",
           "title": {
            "standoff": 15
           },
           "zerolinecolor": "white",
           "zerolinewidth": 2
          },
          "yaxis": {
           "automargin": true,
           "gridcolor": "white",
           "linecolor": "white",
           "ticks": "",
           "title": {
            "standoff": 15
           },
           "zerolinecolor": "white",
           "zerolinewidth": 2
          }
         }
        },
        "xaxis": {
         "anchor": "y",
         "domain": [
          0,
          0.45
         ],
         "title": {
          "text": "Yhat"
         }
        },
        "xaxis2": {
         "anchor": "y2",
         "domain": [
          0.55,
          1
         ]
        },
        "yaxis": {
         "anchor": "x",
         "domain": [
          0,
          1
         ],
         "title": {
          "text": "Y"
         }
        },
        "yaxis2": {
         "anchor": "x2",
         "domain": [
          0,
          1
         ],
         "title": {
          "text": "RMSE"
         }
        }
       }
      }
     },
     "metadata": {},
     "output_type": "display_data"
    }
   ],
   "source": [
    "from sklearn.linear_model import LinearRegression\n",
    "\n",
    "model = LinearRegression()\n",
    "model.fit(basic_design_matrix(data), data['mpg'])\n",
    "evaluate_model(\"basic\", model, basic_design_matrix, models)"
   ]
  },
  {
   "cell_type": "markdown",
   "metadata": {},
   "source": [
    "We can engineering new features from these existing quantitative features."
   ]
  },
  {
   "cell_type": "markdown",
   "metadata": {},
   "source": [
    "### Nonlinear transformations"
   ]
  },
  {
   "cell_type": "markdown",
   "metadata": {},
   "source": [
    "We can compute non-linear transformations of quantitative features such as:\n",
    "- logarithm\n",
    "- exponential\n",
    "- polynomial\n",
    "- sinusoidal"
   ]
  },
  {
   "cell_type": "code",
   "execution_count": 9,
   "metadata": {},
   "outputs": [
    {
     "data": {
      "text/html": [
       "<div>\n",
       "<style scoped>\n",
       "    .dataframe tbody tr th:only-of-type {\n",
       "        vertical-align: middle;\n",
       "    }\n",
       "\n",
       "    .dataframe tbody tr th {\n",
       "        vertical-align: top;\n",
       "    }\n",
       "\n",
       "    .dataframe thead th {\n",
       "        text-align: right;\n",
       "    }\n",
       "</style>\n",
       "<table border=\"1\" class=\"dataframe\">\n",
       "  <thead>\n",
       "    <tr style=\"text-align: right;\">\n",
       "      <th></th>\n",
       "      <th>cylinders</th>\n",
       "      <th>displacement</th>\n",
       "      <th>horsepower</th>\n",
       "      <th>weight</th>\n",
       "      <th>acceleration</th>\n",
       "      <th>model_year</th>\n",
       "      <th>cylinders^2</th>\n",
       "      <th>cylinders^3</th>\n",
       "      <th>log(cylinders)</th>\n",
       "      <th>sin(cylinders)</th>\n",
       "      <th>...</th>\n",
       "      <th>log(weight)</th>\n",
       "      <th>sin(weight)</th>\n",
       "      <th>acceleration^2</th>\n",
       "      <th>acceleration^3</th>\n",
       "      <th>log(acceleration)</th>\n",
       "      <th>sin(acceleration)</th>\n",
       "      <th>model_year^2</th>\n",
       "      <th>model_year^3</th>\n",
       "      <th>log(model_year)</th>\n",
       "      <th>sin(model_year)</th>\n",
       "    </tr>\n",
       "  </thead>\n",
       "  <tbody>\n",
       "    <tr>\n",
       "      <th>0</th>\n",
       "      <td>8</td>\n",
       "      <td>307.0</td>\n",
       "      <td>130.0</td>\n",
       "      <td>3504</td>\n",
       "      <td>12.0</td>\n",
       "      <td>70</td>\n",
       "      <td>64</td>\n",
       "      <td>512</td>\n",
       "      <td>2.079442</td>\n",
       "      <td>0.989358</td>\n",
       "      <td>...</td>\n",
       "      <td>8.161660</td>\n",
       "      <td>-0.901919</td>\n",
       "      <td>144.00</td>\n",
       "      <td>1728.000</td>\n",
       "      <td>2.484907</td>\n",
       "      <td>-0.536573</td>\n",
       "      <td>4900</td>\n",
       "      <td>343000</td>\n",
       "      <td>4.248495</td>\n",
       "      <td>0.773891</td>\n",
       "    </tr>\n",
       "    <tr>\n",
       "      <th>1</th>\n",
       "      <td>8</td>\n",
       "      <td>350.0</td>\n",
       "      <td>165.0</td>\n",
       "      <td>3693</td>\n",
       "      <td>11.5</td>\n",
       "      <td>70</td>\n",
       "      <td>64</td>\n",
       "      <td>512</td>\n",
       "      <td>2.079442</td>\n",
       "      <td>0.989358</td>\n",
       "      <td>...</td>\n",
       "      <td>8.214194</td>\n",
       "      <td>-0.998328</td>\n",
       "      <td>132.25</td>\n",
       "      <td>1520.875</td>\n",
       "      <td>2.442347</td>\n",
       "      <td>-0.875452</td>\n",
       "      <td>4900</td>\n",
       "      <td>343000</td>\n",
       "      <td>4.248495</td>\n",
       "      <td>0.773891</td>\n",
       "    </tr>\n",
       "    <tr>\n",
       "      <th>2</th>\n",
       "      <td>8</td>\n",
       "      <td>318.0</td>\n",
       "      <td>150.0</td>\n",
       "      <td>3436</td>\n",
       "      <td>11.0</td>\n",
       "      <td>70</td>\n",
       "      <td>64</td>\n",
       "      <td>512</td>\n",
       "      <td>2.079442</td>\n",
       "      <td>0.989358</td>\n",
       "      <td>...</td>\n",
       "      <td>8.142063</td>\n",
       "      <td>-0.784794</td>\n",
       "      <td>121.00</td>\n",
       "      <td>1331.000</td>\n",
       "      <td>2.397895</td>\n",
       "      <td>-0.999990</td>\n",
       "      <td>4900</td>\n",
       "      <td>343000</td>\n",
       "      <td>4.248495</td>\n",
       "      <td>0.773891</td>\n",
       "    </tr>\n",
       "    <tr>\n",
       "      <th>3</th>\n",
       "      <td>8</td>\n",
       "      <td>304.0</td>\n",
       "      <td>150.0</td>\n",
       "      <td>3433</td>\n",
       "      <td>12.0</td>\n",
       "      <td>70</td>\n",
       "      <td>64</td>\n",
       "      <td>512</td>\n",
       "      <td>2.079442</td>\n",
       "      <td>0.989358</td>\n",
       "      <td>...</td>\n",
       "      <td>8.141190</td>\n",
       "      <td>0.689480</td>\n",
       "      <td>144.00</td>\n",
       "      <td>1728.000</td>\n",
       "      <td>2.484907</td>\n",
       "      <td>-0.536573</td>\n",
       "      <td>4900</td>\n",
       "      <td>343000</td>\n",
       "      <td>4.248495</td>\n",
       "      <td>0.773891</td>\n",
       "    </tr>\n",
       "    <tr>\n",
       "      <th>4</th>\n",
       "      <td>8</td>\n",
       "      <td>302.0</td>\n",
       "      <td>140.0</td>\n",
       "      <td>3449</td>\n",
       "      <td>10.5</td>\n",
       "      <td>70</td>\n",
       "      <td>64</td>\n",
       "      <td>512</td>\n",
       "      <td>2.079442</td>\n",
       "      <td>0.989358</td>\n",
       "      <td>...</td>\n",
       "      <td>8.145840</td>\n",
       "      <td>-0.451757</td>\n",
       "      <td>110.25</td>\n",
       "      <td>1157.625</td>\n",
       "      <td>2.351375</td>\n",
       "      <td>-0.879696</td>\n",
       "      <td>4900</td>\n",
       "      <td>343000</td>\n",
       "      <td>4.248495</td>\n",
       "      <td>0.773891</td>\n",
       "    </tr>\n",
       "    <tr>\n",
       "      <th>...</th>\n",
       "      <td>...</td>\n",
       "      <td>...</td>\n",
       "      <td>...</td>\n",
       "      <td>...</td>\n",
       "      <td>...</td>\n",
       "      <td>...</td>\n",
       "      <td>...</td>\n",
       "      <td>...</td>\n",
       "      <td>...</td>\n",
       "      <td>...</td>\n",
       "      <td>...</td>\n",
       "      <td>...</td>\n",
       "      <td>...</td>\n",
       "      <td>...</td>\n",
       "      <td>...</td>\n",
       "      <td>...</td>\n",
       "      <td>...</td>\n",
       "      <td>...</td>\n",
       "      <td>...</td>\n",
       "      <td>...</td>\n",
       "      <td>...</td>\n",
       "    </tr>\n",
       "    <tr>\n",
       "      <th>393</th>\n",
       "      <td>4</td>\n",
       "      <td>140.0</td>\n",
       "      <td>86.0</td>\n",
       "      <td>2790</td>\n",
       "      <td>15.6</td>\n",
       "      <td>82</td>\n",
       "      <td>16</td>\n",
       "      <td>64</td>\n",
       "      <td>1.386294</td>\n",
       "      <td>-0.756802</td>\n",
       "      <td>...</td>\n",
       "      <td>7.933797</td>\n",
       "      <td>0.262608</td>\n",
       "      <td>243.36</td>\n",
       "      <td>3796.416</td>\n",
       "      <td>2.747271</td>\n",
       "      <td>0.107754</td>\n",
       "      <td>6724</td>\n",
       "      <td>551368</td>\n",
       "      <td>4.406719</td>\n",
       "      <td>0.313229</td>\n",
       "    </tr>\n",
       "    <tr>\n",
       "      <th>394</th>\n",
       "      <td>4</td>\n",
       "      <td>97.0</td>\n",
       "      <td>52.0</td>\n",
       "      <td>2130</td>\n",
       "      <td>24.6</td>\n",
       "      <td>82</td>\n",
       "      <td>16</td>\n",
       "      <td>64</td>\n",
       "      <td>1.386294</td>\n",
       "      <td>-0.756802</td>\n",
       "      <td>...</td>\n",
       "      <td>7.663877</td>\n",
       "      <td>0.000181</td>\n",
       "      <td>605.16</td>\n",
       "      <td>14886.936</td>\n",
       "      <td>3.202746</td>\n",
       "      <td>-0.507897</td>\n",
       "      <td>6724</td>\n",
       "      <td>551368</td>\n",
       "      <td>4.406719</td>\n",
       "      <td>0.313229</td>\n",
       "    </tr>\n",
       "    <tr>\n",
       "      <th>395</th>\n",
       "      <td>4</td>\n",
       "      <td>135.0</td>\n",
       "      <td>84.0</td>\n",
       "      <td>2295</td>\n",
       "      <td>11.6</td>\n",
       "      <td>82</td>\n",
       "      <td>16</td>\n",
       "      <td>64</td>\n",
       "      <td>1.386294</td>\n",
       "      <td>-0.756802</td>\n",
       "      <td>...</td>\n",
       "      <td>7.738488</td>\n",
       "      <td>0.997785</td>\n",
       "      <td>134.56</td>\n",
       "      <td>1560.896</td>\n",
       "      <td>2.451005</td>\n",
       "      <td>-0.822829</td>\n",
       "      <td>6724</td>\n",
       "      <td>551368</td>\n",
       "      <td>4.406719</td>\n",
       "      <td>0.313229</td>\n",
       "    </tr>\n",
       "    <tr>\n",
       "      <th>396</th>\n",
       "      <td>4</td>\n",
       "      <td>120.0</td>\n",
       "      <td>79.0</td>\n",
       "      <td>2625</td>\n",
       "      <td>18.6</td>\n",
       "      <td>82</td>\n",
       "      <td>16</td>\n",
       "      <td>64</td>\n",
       "      <td>1.386294</td>\n",
       "      <td>-0.756802</td>\n",
       "      <td>...</td>\n",
       "      <td>7.872836</td>\n",
       "      <td>-0.980198</td>\n",
       "      <td>345.96</td>\n",
       "      <td>6434.856</td>\n",
       "      <td>2.923162</td>\n",
       "      <td>-0.246974</td>\n",
       "      <td>6724</td>\n",
       "      <td>551368</td>\n",
       "      <td>4.406719</td>\n",
       "      <td>0.313229</td>\n",
       "    </tr>\n",
       "    <tr>\n",
       "      <th>397</th>\n",
       "      <td>4</td>\n",
       "      <td>119.0</td>\n",
       "      <td>82.0</td>\n",
       "      <td>2720</td>\n",
       "      <td>19.4</td>\n",
       "      <td>82</td>\n",
       "      <td>16</td>\n",
       "      <td>64</td>\n",
       "      <td>1.386294</td>\n",
       "      <td>-0.756802</td>\n",
       "      <td>...</td>\n",
       "      <td>7.908387</td>\n",
       "      <td>-0.580415</td>\n",
       "      <td>376.36</td>\n",
       "      <td>7301.384</td>\n",
       "      <td>2.965273</td>\n",
       "      <td>0.523066</td>\n",
       "      <td>6724</td>\n",
       "      <td>551368</td>\n",
       "      <td>4.406719</td>\n",
       "      <td>0.313229</td>\n",
       "    </tr>\n",
       "  </tbody>\n",
       "</table>\n",
       "<p>392 rows × 30 columns</p>\n",
       "</div>"
      ],
      "text/plain": [
       "     cylinders  displacement  horsepower  weight  acceleration  model_year  \\\n",
       "0            8         307.0       130.0    3504          12.0          70   \n",
       "1            8         350.0       165.0    3693          11.5          70   \n",
       "2            8         318.0       150.0    3436          11.0          70   \n",
       "3            8         304.0       150.0    3433          12.0          70   \n",
       "4            8         302.0       140.0    3449          10.5          70   \n",
       "..         ...           ...         ...     ...           ...         ...   \n",
       "393          4         140.0        86.0    2790          15.6          82   \n",
       "394          4          97.0        52.0    2130          24.6          82   \n",
       "395          4         135.0        84.0    2295          11.6          82   \n",
       "396          4         120.0        79.0    2625          18.6          82   \n",
       "397          4         119.0        82.0    2720          19.4          82   \n",
       "\n",
       "     cylinders^2  cylinders^3  log(cylinders)  sin(cylinders)  ...  \\\n",
       "0             64          512        2.079442        0.989358  ...   \n",
       "1             64          512        2.079442        0.989358  ...   \n",
       "2             64          512        2.079442        0.989358  ...   \n",
       "3             64          512        2.079442        0.989358  ...   \n",
       "4             64          512        2.079442        0.989358  ...   \n",
       "..           ...          ...             ...             ...  ...   \n",
       "393           16           64        1.386294       -0.756802  ...   \n",
       "394           16           64        1.386294       -0.756802  ...   \n",
       "395           16           64        1.386294       -0.756802  ...   \n",
       "396           16           64        1.386294       -0.756802  ...   \n",
       "397           16           64        1.386294       -0.756802  ...   \n",
       "\n",
       "     log(weight)  sin(weight)  acceleration^2  acceleration^3  \\\n",
       "0       8.161660    -0.901919          144.00        1728.000   \n",
       "1       8.214194    -0.998328          132.25        1520.875   \n",
       "2       8.142063    -0.784794          121.00        1331.000   \n",
       "3       8.141190     0.689480          144.00        1728.000   \n",
       "4       8.145840    -0.451757          110.25        1157.625   \n",
       "..           ...          ...             ...             ...   \n",
       "393     7.933797     0.262608          243.36        3796.416   \n",
       "394     7.663877     0.000181          605.16       14886.936   \n",
       "395     7.738488     0.997785          134.56        1560.896   \n",
       "396     7.872836    -0.980198          345.96        6434.856   \n",
       "397     7.908387    -0.580415          376.36        7301.384   \n",
       "\n",
       "     log(acceleration)  sin(acceleration)  model_year^2  model_year^3  \\\n",
       "0             2.484907          -0.536573          4900        343000   \n",
       "1             2.442347          -0.875452          4900        343000   \n",
       "2             2.397895          -0.999990          4900        343000   \n",
       "3             2.484907          -0.536573          4900        343000   \n",
       "4             2.351375          -0.879696          4900        343000   \n",
       "..                 ...                ...           ...           ...   \n",
       "393           2.747271           0.107754          6724        551368   \n",
       "394           3.202746          -0.507897          6724        551368   \n",
       "395           2.451005          -0.822829          6724        551368   \n",
       "396           2.923162          -0.246974          6724        551368   \n",
       "397           2.965273           0.523066          6724        551368   \n",
       "\n",
       "     log(model_year)  sin(model_year)  \n",
       "0           4.248495         0.773891  \n",
       "1           4.248495         0.773891  \n",
       "2           4.248495         0.773891  \n",
       "3           4.248495         0.773891  \n",
       "4           4.248495         0.773891  \n",
       "..               ...              ...  \n",
       "393         4.406719         0.313229  \n",
       "394         4.406719         0.313229  \n",
       "395         4.406719         0.313229  \n",
       "396         4.406719         0.313229  \n",
       "397         4.406719         0.313229  \n",
       "\n",
       "[392 rows x 30 columns]"
      ]
     },
     "execution_count": 9,
     "metadata": {},
     "output_type": "execute_result"
    }
   ],
   "source": [
    "def nonlinear_design_matrix(df):\n",
    "    X = basic_design_matrix(df)\n",
    "    # Compute nonlinear transformations for each quantitative feature\n",
    "    for col in X.columns:\n",
    "        X[f'{col}^2'] = X[f'{col}'] ** 2\n",
    "        X[f'{col}^3'] = X[f'{col}'] ** 3\n",
    "        X[f'log({col})'] = np.log(X[f'{col}'])\n",
    "        X[f'sin({col})'] = np.sin(X[f'{col}'])\n",
    "    return X\n",
    "\n",
    "nonlinear_design_matrix(data)"
   ]
  },
  {
   "cell_type": "code",
   "execution_count": 10,
   "metadata": {},
   "outputs": [
    {
     "name": "stdout",
     "output_type": "stream",
     "text": [
      "Root Mean Squared Error: 2.4964145836114002\n"
     ]
    },
    {
     "data": {
      "application/vnd.plotly.v1+json": {
       "config": {
        "plotlyServerURL": "https://plot.ly"
       },
       "data": [
        {
         "mode": "markers",
         "type": "scatter",
         "x": [
          17.418063092912234,
          15.183013771546939,
          16.619099822882163,
          15.490173616407446,
          17.299961819292548,
          13.70506657243368,
          13.732002143479804,
          13.762972518929928,
          14.302261367472056,
          13.795541996184511,
          15.20028390166317,
          15.288312678921102,
          16.60939868533842,
          14.744541656101319,
          25.08656024160973,
          19.699952843983738,
          20.02305174621415,
          21.553598644904014,
          27.98602398435196,
          30.94902813250792,
          23.722824812127328,
          25.705283320422495,
          25.226845684896944,
          25.520714517156193,
          21.18527401260235,
          11.617560306852283,
          11.25417045346785,
          12.247651868615321,
          9.889720235359164,
          26.569805779318813,
          22.692205590573394,
          24.840880108206875,
          20.358768348410194,
          16.17743586371853,
          16.740899519910272,
          17.57436175552266,
          16.625318236957355,
          13.613210898461148,
          13.300931677144945,
          12.93652087132341,
          13.524781807754152,
          12.558467954603657,
          13.113683529544687,
          11.825229334504002,
          17.674926971106288,
          22.081648611084347,
          16.94947586800754,
          18.270562100408824,
          24.70197995842227,
          25.288652001850096,
          28.821743142339074,
          28.66084897969904,
          30.501690983145636,
          29.76770521211165,
          27.668911759918956,
          27.39566344033574,
          23.726747140573025,
          26.273148418537858,
          29.739519312209268,
          20.498372022574586,
          23.602912919325718,
          13.399862817829671,
          12.600093537387693,
          12.833097234320121,
          13.125281451740193,
          14.090926526233488,
          11.840431190720665,
          12.763405545275418,
          12.396507091131753,
          11.523799173567568,
          18.34215963233055,
          13.238346403487412,
          14.01208519069678,
          12.325034573582343,
          12.402579759002947,
          19.082043922086996,
          22.360972997578756,
          19.17634622235255,
          26.298421558602968,
          22.908499848584142,
          24.75249996909315,
          22.200695821385125,
          26.642503336442132,
          25.894784316019468,
          12.110840929515689,
          14.544140575353595,
          14.158669779670163,
          13.233175944307732,
          14.040716500654526,
          11.510876117541557,
          14.797001317279864,
          13.369111811414768,
          12.671942589640821,
          12.520876035741821,
          12.39591782856587,
          13.11281618236535,
          16.80252662546627,
          16.360302268520172,
          17.670381815622022,
          18.293926843060035,
          18.106585328003348,
          29.942650833545486,
          12.418093518625028,
          12.773773452427122,
          12.102061301156937,
          12.585852126674581,
          18.505343600447304,
          24.71138667897867,
          22.166638029962996,
          23.660786008811556,
          20.124059776941067,
          23.04376332720676,
          20.763062962190816,
          25.926648145004947,
          14.224843872241763,
          14.405903851975381,
          33.630968645951725,
          25.67658727401249,
          23.2871894947657,
          19.4373035512599,
          15.444243876238033,
          21.130246717208138,
          18.468845041983514,
          13.382264679534273,
          17.9633635184191,
          18.42134031748992,
          17.217231243067545,
          30.240223597141267,
          23.974162712075668,
          31.530205136038603,
          22.804809198584735,
          16.9449340813635,
          15.540422096365546,
          16.661862755249786,
          13.985497597571339,
          13.456530820226362,
          14.07633449376317,
          13.44905175448639,
          12.549805536743406,
          26.981897742834008,
          31.332821391614743,
          27.300769286864124,
          32.311601604703355,
          29.725551635433476,
          28.829824105771877,
          28.553027437120363,
          26.5417567939503,
          23.114884968404112,
          24.42543293842118,
          31.173726364419963,
          18.306903558837803,
          17.380200904695812,
          18.714834182927007,
          18.944140926778346,
          14.849240450846992,
          14.661599483739337,
          13.867714131492903,
          14.737581277953723,
          16.047822533862927,
          16.497895905113182,
          15.560357003376339,
          16.88598694407301,
          18.092379600548156,
          17.675777248565282,
          17.54761795605009,
          28.08362087889691,
          22.29196037500151,
          18.83877865692557,
          22.237651555662524,
          22.751358227407763,
          28.704290836854852,
          23.195497970689757,
          19.151383256530607,
          30.42483259645269,
          18.4150060644497,
          22.950070894334203,
          21.674701496536727,
          21.525964729060433,
          22.175500617984653,
          31.055739267307217,
          25.796498414996677,
          26.34160016792339,
          23.01133422183011,
          27.71405250987118,
          27.723820926063127,
          16.092007912526242,
          15.388924849894465,
          16.442605829221066,
          15.518129962452804,
          18.67463574854446,
          18.484792906101575,
          20.000772942707044,
          19.07357559488628,
          32.9490710904156,
          30.07625154536254,
          30.83100060079414,
          31.629772011548994,
          17.641834216150528,
          18.731797607424596,
          17.426865574669137,
          18.216919409209368,
          31.91113815091012,
          30.8667480071108,
          28.612745731237737,
          25.15516627346915,
          20.866668735439816,
          15.014512160201775,
          21.39691468467754,
          19.58940237873503,
          16.93608914489232,
          14.521545587793298,
          16.766494615956617,
          15.082208547961272,
          14.286129096386503,
          29.88484520520069,
          28.76707633476326,
          33.27166894772017,
          25.86772270677102,
          31.96815727102876,
          16.930971448513446,
          16.251343670472124,
          16.113322177789087,
          16.38924877578029,
          18.43254844779949,
          18.71967078473972,
          18.634780409989617,
          18.305697903841065,
          15.946534706405146,
          16.511358500101778,
          14.786900650347889,
          15.435653307231405,
          30.468307735514827,
          23.084369059968594,
          28.537528247643422,
          23.137800539341697,
          30.907112251390572,
          29.603395188823924,
          30.67731923755491,
          30.000795166732132,
          21.86647721189729,
          25.047100507839787,
          17.40022313279769,
          34.59536666226086,
          33.04288474494206,
          35.10261089512096,
          32.54314537265782,
          33.58940481738864,
          18.98938376010301,
          18.281575299539327,
          18.457952824874155,
          19.255522559991732,
          20.969068679083648,
          22.87766688904776,
          24.966731567879833,
          20.49651264854947,
          21.420119403892386,
          20.534248615376782,
          22.374254570202538,
          19.036197066581735,
          19.27303773452695,
          17.898724058590233,
          17.083899510869742,
          20.357809117283978,
          18.00874488622685,
          31.784143264163504,
          26.020006264419862,
          27.989950996741754,
          30.974591969150424,
          25.93635317031476,
          23.504620430749128,
          23.91890085974046,
          27.414097728191337,
          26.460552542952428,
          20.814337000412706,
          23.619948950881735,
          18.684002961928854,
          32.997341048792805,
          31.840743390874195,
          21.900938942457287,
          23.838351429760223,
          25.591002022738394,
          22.651592988855555,
          21.806888838415034,
          19.412935098698654,
          20.392031640370988,
          20.297637981268053,
          19.212801813373517,
          18.164075611668522,
          19.18201832671548,
          19.71845562528324,
          19.03540626575341,
          35.299750353984564,
          36.00453648503208,
          33.8378173606925,
          28.42330147584653,
          25.321548745505424,
          19.630820480899274,
          29.28868791691275,
          22.075767120437376,
          34.18320248897726,
          33.24579788018309,
          34.591674966362916,
          34.53628147664131,
          26.577726884988806,
          27.31784754331602,
          25.393376486772468,
          28.51698899631083,
          34.807173107260496,
          35.876326556034655,
          35.08035763178941,
          37.05476817572071,
          27.819017754795823,
          26.71967461676195,
          25.403862626787486,
          23.720758912525525,
          34.03603971040229,
          28.248136572384283,
          30.329798484949606,
          30.660524583389815,
          32.91423524777292,
          36.3358566468969,
          27.002703413993913,
          35.70815650729219,
          37.64288913701694,
          38.788989385092464,
          30.31863710573907,
          27.160612867101918,
          37.08004291883208,
          34.36904541361673,
          36.808935126719916,
          26.211398268021185,
          26.33369998228318,
          30.165302563881596,
          32.93166761001066,
          30.43563387674294,
          29.037375669424364,
          29.298033877603302,
          27.91722677100188,
          32.58662706726318,
          39.059383231346146,
          37.927658072490885,
          38.7636457992412,
          35.3427127528048,
          36.60998942085644,
          36.7505391806626,
          36.65635705233581,
          35.548639634442225,
          36.20515076967058,
          33.83850682033153,
          35.10577323174584,
          34.372034674725,
          32.8157479849433,
          29.940202428882912,
          30.209232847289968,
          26.33533310733037,
          25.914578072421136,
          27.046098339742457,
          25.501323631804553,
          23.884024307193613,
          22.362331104955956,
          25.844832444297936,
          25.32827687923782,
          29.836395616331174,
          29.998205626111485,
          31.46686781704284,
          31.321881287724864,
          30.153890917344143,
          27.624144601440094,
          27.572949203321514,
          35.21760147728946,
          35.83462141328073,
          36.208894599375526,
          35.909785106095114,
          35.22258063957361,
          32.61713292829245,
          34.27517189104128,
          33.58485523451691,
          36.93375877141534,
          36.76161263755148,
          36.61948860816938,
          25.011537680083165,
          26.20346029250595,
          29.348492891830574,
          25.36295346120187,
          29.33485219934755,
          32.492732570412954,
          27.042583287505295,
          28.40172538069328,
          39.99169788361996,
          34.16311414392567,
          29.732227408953804,
          29.133085641843536
         ],
         "xaxis": "x",
         "y": [
          18,
          15,
          18,
          16,
          17,
          15,
          14,
          14,
          14,
          15,
          15,
          14,
          15,
          14,
          24,
          22,
          18,
          21,
          27,
          26,
          25,
          24,
          25,
          26,
          21,
          10,
          10,
          11,
          9,
          27,
          28,
          25,
          19,
          16,
          17,
          19,
          18,
          14,
          14,
          14,
          14,
          12,
          13,
          13,
          18,
          22,
          19,
          18,
          23,
          28,
          30,
          30,
          31,
          35,
          27,
          26,
          24,
          25,
          23,
          20,
          21,
          13,
          14,
          15,
          14,
          17,
          11,
          13,
          12,
          13,
          19,
          15,
          13,
          13,
          14,
          18,
          22,
          21,
          26,
          22,
          28,
          23,
          28,
          27,
          13,
          14,
          13,
          14,
          15,
          12,
          13,
          13,
          14,
          13,
          12,
          13,
          18,
          16,
          18,
          18,
          23,
          26,
          11,
          12,
          13,
          12,
          18,
          20,
          21,
          22,
          18,
          19,
          21,
          26,
          15,
          16,
          29,
          24,
          20,
          19,
          15,
          24,
          20,
          11,
          20,
          19,
          15,
          31,
          26,
          32,
          25,
          16,
          16,
          18,
          16,
          13,
          14,
          14,
          14,
          29,
          26,
          26,
          31,
          32,
          28,
          24,
          26,
          24,
          26,
          31,
          19,
          18,
          15,
          15,
          16,
          15,
          16,
          14,
          17,
          16,
          15,
          18,
          21,
          20,
          13,
          29,
          23,
          20,
          23,
          24,
          25,
          24,
          18,
          29,
          19,
          23,
          23,
          22,
          25,
          33,
          28,
          25,
          25,
          26,
          27,
          17.5,
          16,
          15.5,
          14.5,
          22,
          22,
          24,
          22.5,
          29,
          24.5,
          29,
          33,
          20,
          18,
          18.5,
          17.5,
          29.5,
          32,
          28,
          26.5,
          20,
          13,
          19,
          19,
          16.5,
          16.5,
          13,
          13,
          13,
          31.5,
          30,
          36,
          25.5,
          33.5,
          17.5,
          17,
          15.5,
          15,
          17.5,
          20.5,
          19,
          18.5,
          16,
          15.5,
          15.5,
          16,
          29,
          24.5,
          26,
          25.5,
          30.5,
          33.5,
          30,
          30.5,
          22,
          21.5,
          21.5,
          43.1,
          36.1,
          32.8,
          39.4,
          36.1,
          19.9,
          19.4,
          20.2,
          19.2,
          20.5,
          20.2,
          25.1,
          20.5,
          19.4,
          20.6,
          20.8,
          18.6,
          18.1,
          19.2,
          17.7,
          18.1,
          17.5,
          30,
          27.5,
          27.2,
          30.9,
          21.1,
          23.2,
          23.8,
          23.9,
          20.3,
          17,
          21.6,
          16.2,
          31.5,
          29.5,
          21.5,
          19.8,
          22.3,
          20.2,
          20.6,
          17,
          17.6,
          16.5,
          18.2,
          16.9,
          15.5,
          19.2,
          18.5,
          31.9,
          34.1,
          35.7,
          27.4,
          25.4,
          23,
          27.2,
          23.9,
          34.2,
          34.5,
          31.8,
          37.3,
          28.4,
          28.8,
          26.8,
          33.5,
          41.5,
          38.1,
          32.1,
          37.2,
          28,
          26.4,
          24.3,
          19.1,
          34.3,
          29.8,
          31.3,
          37,
          32.2,
          46.6,
          27.9,
          40.8,
          44.3,
          43.4,
          36.4,
          30,
          44.6,
          33.8,
          29.8,
          32.7,
          23.7,
          35,
          32.4,
          27.2,
          26.6,
          25.8,
          23.5,
          30,
          39.1,
          39,
          35.1,
          32.3,
          37,
          37.7,
          34.1,
          34.7,
          34.4,
          29.9,
          33,
          33.7,
          32.4,
          32.9,
          31.6,
          28.1,
          30.7,
          25.4,
          24.2,
          22.4,
          26.6,
          20.2,
          17.6,
          28,
          27,
          34,
          31,
          29,
          27,
          24,
          36,
          37,
          31,
          38,
          36,
          36,
          36,
          34,
          38,
          32,
          38,
          25,
          38,
          26,
          22,
          32,
          36,
          27,
          27,
          44,
          32,
          28,
          31
         ],
         "yaxis": "y"
        },
        {
         "name": "y=yhat",
         "type": "scatter",
         "x": [
          9.889720235359164,
          39.99169788361996
         ],
         "xaxis": "x",
         "y": [
          9.889720235359164,
          39.99169788361996
         ],
         "yaxis": "y"
        },
        {
         "type": "bar",
         "x": [
          "basic",
          "nonlinear"
         ],
         "xaxis": "x2",
         "y": [
          3.4044340177796406,
          2.4964145836114002
         ],
         "yaxis": "y2"
        }
       ],
       "layout": {
        "showlegend": false,
        "template": {
         "data": {
          "bar": [
           {
            "error_x": {
             "color": "#2a3f5f"
            },
            "error_y": {
             "color": "#2a3f5f"
            },
            "marker": {
             "line": {
              "color": "#E5ECF6",
              "width": 0.5
             },
             "pattern": {
              "fillmode": "overlay",
              "size": 10,
              "solidity": 0.2
             }
            },
            "type": "bar"
           }
          ],
          "barpolar": [
           {
            "marker": {
             "line": {
              "color": "#E5ECF6",
              "width": 0.5
             },
             "pattern": {
              "fillmode": "overlay",
              "size": 10,
              "solidity": 0.2
             }
            },
            "type": "barpolar"
           }
          ],
          "carpet": [
           {
            "aaxis": {
             "endlinecolor": "#2a3f5f",
             "gridcolor": "white",
             "linecolor": "white",
             "minorgridcolor": "white",
             "startlinecolor": "#2a3f5f"
            },
            "baxis": {
             "endlinecolor": "#2a3f5f",
             "gridcolor": "white",
             "linecolor": "white",
             "minorgridcolor": "white",
             "startlinecolor": "#2a3f5f"
            },
            "type": "carpet"
           }
          ],
          "choropleth": [
           {
            "colorbar": {
             "outlinewidth": 0,
             "ticks": ""
            },
            "type": "choropleth"
           }
          ],
          "contour": [
           {
            "colorbar": {
             "outlinewidth": 0,
             "ticks": ""
            },
            "colorscale": [
             [
              0,
              "#0d0887"
             ],
             [
              0.1111111111111111,
              "#46039f"
             ],
             [
              0.2222222222222222,
              "#7201a8"
             ],
             [
              0.3333333333333333,
              "#9c179e"
             ],
             [
              0.4444444444444444,
              "#bd3786"
             ],
             [
              0.5555555555555556,
              "#d8576b"
             ],
             [
              0.6666666666666666,
              "#ed7953"
             ],
             [
              0.7777777777777778,
              "#fb9f3a"
             ],
             [
              0.8888888888888888,
              "#fdca26"
             ],
             [
              1,
              "#f0f921"
             ]
            ],
            "type": "contour"
           }
          ],
          "contourcarpet": [
           {
            "colorbar": {
             "outlinewidth": 0,
             "ticks": ""
            },
            "type": "contourcarpet"
           }
          ],
          "heatmap": [
           {
            "colorbar": {
             "outlinewidth": 0,
             "ticks": ""
            },
            "colorscale": [
             [
              0,
              "#0d0887"
             ],
             [
              0.1111111111111111,
              "#46039f"
             ],
             [
              0.2222222222222222,
              "#7201a8"
             ],
             [
              0.3333333333333333,
              "#9c179e"
             ],
             [
              0.4444444444444444,
              "#bd3786"
             ],
             [
              0.5555555555555556,
              "#d8576b"
             ],
             [
              0.6666666666666666,
              "#ed7953"
             ],
             [
              0.7777777777777778,
              "#fb9f3a"
             ],
             [
              0.8888888888888888,
              "#fdca26"
             ],
             [
              1,
              "#f0f921"
             ]
            ],
            "type": "heatmap"
           }
          ],
          "heatmapgl": [
           {
            "colorbar": {
             "outlinewidth": 0,
             "ticks": ""
            },
            "colorscale": [
             [
              0,
              "#0d0887"
             ],
             [
              0.1111111111111111,
              "#46039f"
             ],
             [
              0.2222222222222222,
              "#7201a8"
             ],
             [
              0.3333333333333333,
              "#9c179e"
             ],
             [
              0.4444444444444444,
              "#bd3786"
             ],
             [
              0.5555555555555556,
              "#d8576b"
             ],
             [
              0.6666666666666666,
              "#ed7953"
             ],
             [
              0.7777777777777778,
              "#fb9f3a"
             ],
             [
              0.8888888888888888,
              "#fdca26"
             ],
             [
              1,
              "#f0f921"
             ]
            ],
            "type": "heatmapgl"
           }
          ],
          "histogram": [
           {
            "marker": {
             "pattern": {
              "fillmode": "overlay",
              "size": 10,
              "solidity": 0.2
             }
            },
            "type": "histogram"
           }
          ],
          "histogram2d": [
           {
            "colorbar": {
             "outlinewidth": 0,
             "ticks": ""
            },
            "colorscale": [
             [
              0,
              "#0d0887"
             ],
             [
              0.1111111111111111,
              "#46039f"
             ],
             [
              0.2222222222222222,
              "#7201a8"
             ],
             [
              0.3333333333333333,
              "#9c179e"
             ],
             [
              0.4444444444444444,
              "#bd3786"
             ],
             [
              0.5555555555555556,
              "#d8576b"
             ],
             [
              0.6666666666666666,
              "#ed7953"
             ],
             [
              0.7777777777777778,
              "#fb9f3a"
             ],
             [
              0.8888888888888888,
              "#fdca26"
             ],
             [
              1,
              "#f0f921"
             ]
            ],
            "type": "histogram2d"
           }
          ],
          "histogram2dcontour": [
           {
            "colorbar": {
             "outlinewidth": 0,
             "ticks": ""
            },
            "colorscale": [
             [
              0,
              "#0d0887"
             ],
             [
              0.1111111111111111,
              "#46039f"
             ],
             [
              0.2222222222222222,
              "#7201a8"
             ],
             [
              0.3333333333333333,
              "#9c179e"
             ],
             [
              0.4444444444444444,
              "#bd3786"
             ],
             [
              0.5555555555555556,
              "#d8576b"
             ],
             [
              0.6666666666666666,
              "#ed7953"
             ],
             [
              0.7777777777777778,
              "#fb9f3a"
             ],
             [
              0.8888888888888888,
              "#fdca26"
             ],
             [
              1,
              "#f0f921"
             ]
            ],
            "type": "histogram2dcontour"
           }
          ],
          "mesh3d": [
           {
            "colorbar": {
             "outlinewidth": 0,
             "ticks": ""
            },
            "type": "mesh3d"
           }
          ],
          "parcoords": [
           {
            "line": {
             "colorbar": {
              "outlinewidth": 0,
              "ticks": ""
             }
            },
            "type": "parcoords"
           }
          ],
          "pie": [
           {
            "automargin": true,
            "type": "pie"
           }
          ],
          "scatter": [
           {
            "fillpattern": {
             "fillmode": "overlay",
             "size": 10,
             "solidity": 0.2
            },
            "type": "scatter"
           }
          ],
          "scatter3d": [
           {
            "line": {
             "colorbar": {
              "outlinewidth": 0,
              "ticks": ""
             }
            },
            "marker": {
             "colorbar": {
              "outlinewidth": 0,
              "ticks": ""
             }
            },
            "type": "scatter3d"
           }
          ],
          "scattercarpet": [
           {
            "marker": {
             "colorbar": {
              "outlinewidth": 0,
              "ticks": ""
             }
            },
            "type": "scattercarpet"
           }
          ],
          "scattergeo": [
           {
            "marker": {
             "colorbar": {
              "outlinewidth": 0,
              "ticks": ""
             }
            },
            "type": "scattergeo"
           }
          ],
          "scattergl": [
           {
            "marker": {
             "colorbar": {
              "outlinewidth": 0,
              "ticks": ""
             }
            },
            "type": "scattergl"
           }
          ],
          "scattermapbox": [
           {
            "marker": {
             "colorbar": {
              "outlinewidth": 0,
              "ticks": ""
             }
            },
            "type": "scattermapbox"
           }
          ],
          "scatterpolar": [
           {
            "marker": {
             "colorbar": {
              "outlinewidth": 0,
              "ticks": ""
             }
            },
            "type": "scatterpolar"
           }
          ],
          "scatterpolargl": [
           {
            "marker": {
             "colorbar": {
              "outlinewidth": 0,
              "ticks": ""
             }
            },
            "type": "scatterpolargl"
           }
          ],
          "scatterternary": [
           {
            "marker": {
             "colorbar": {
              "outlinewidth": 0,
              "ticks": ""
             }
            },
            "type": "scatterternary"
           }
          ],
          "surface": [
           {
            "colorbar": {
             "outlinewidth": 0,
             "ticks": ""
            },
            "colorscale": [
             [
              0,
              "#0d0887"
             ],
             [
              0.1111111111111111,
              "#46039f"
             ],
             [
              0.2222222222222222,
              "#7201a8"
             ],
             [
              0.3333333333333333,
              "#9c179e"
             ],
             [
              0.4444444444444444,
              "#bd3786"
             ],
             [
              0.5555555555555556,
              "#d8576b"
             ],
             [
              0.6666666666666666,
              "#ed7953"
             ],
             [
              0.7777777777777778,
              "#fb9f3a"
             ],
             [
              0.8888888888888888,
              "#fdca26"
             ],
             [
              1,
              "#f0f921"
             ]
            ],
            "type": "surface"
           }
          ],
          "table": [
           {
            "cells": {
             "fill": {
              "color": "#EBF0F8"
             },
             "line": {
              "color": "white"
             }
            },
            "header": {
             "fill": {
              "color": "#C8D4E3"
             },
             "line": {
              "color": "white"
             }
            },
            "type": "table"
           }
          ]
         },
         "layout": {
          "annotationdefaults": {
           "arrowcolor": "#2a3f5f",
           "arrowhead": 0,
           "arrowwidth": 1
          },
          "autotypenumbers": "strict",
          "coloraxis": {
           "colorbar": {
            "outlinewidth": 0,
            "ticks": ""
           }
          },
          "colorscale": {
           "diverging": [
            [
             0,
             "#8e0152"
            ],
            [
             0.1,
             "#c51b7d"
            ],
            [
             0.2,
             "#de77ae"
            ],
            [
             0.3,
             "#f1b6da"
            ],
            [
             0.4,
             "#fde0ef"
            ],
            [
             0.5,
             "#f7f7f7"
            ],
            [
             0.6,
             "#e6f5d0"
            ],
            [
             0.7,
             "#b8e186"
            ],
            [
             0.8,
             "#7fbc41"
            ],
            [
             0.9,
             "#4d9221"
            ],
            [
             1,
             "#276419"
            ]
           ],
           "sequential": [
            [
             0,
             "#0d0887"
            ],
            [
             0.1111111111111111,
             "#46039f"
            ],
            [
             0.2222222222222222,
             "#7201a8"
            ],
            [
             0.3333333333333333,
             "#9c179e"
            ],
            [
             0.4444444444444444,
             "#bd3786"
            ],
            [
             0.5555555555555556,
             "#d8576b"
            ],
            [
             0.6666666666666666,
             "#ed7953"
            ],
            [
             0.7777777777777778,
             "#fb9f3a"
            ],
            [
             0.8888888888888888,
             "#fdca26"
            ],
            [
             1,
             "#f0f921"
            ]
           ],
           "sequentialminus": [
            [
             0,
             "#0d0887"
            ],
            [
             0.1111111111111111,
             "#46039f"
            ],
            [
             0.2222222222222222,
             "#7201a8"
            ],
            [
             0.3333333333333333,
             "#9c179e"
            ],
            [
             0.4444444444444444,
             "#bd3786"
            ],
            [
             0.5555555555555556,
             "#d8576b"
            ],
            [
             0.6666666666666666,
             "#ed7953"
            ],
            [
             0.7777777777777778,
             "#fb9f3a"
            ],
            [
             0.8888888888888888,
             "#fdca26"
            ],
            [
             1,
             "#f0f921"
            ]
           ]
          },
          "colorway": [
           "#636efa",
           "#EF553B",
           "#00cc96",
           "#ab63fa",
           "#FFA15A",
           "#19d3f3",
           "#FF6692",
           "#B6E880",
           "#FF97FF",
           "#FECB52"
          ],
          "font": {
           "color": "#2a3f5f"
          },
          "geo": {
           "bgcolor": "white",
           "lakecolor": "white",
           "landcolor": "#E5ECF6",
           "showlakes": true,
           "showland": true,
           "subunitcolor": "white"
          },
          "hoverlabel": {
           "align": "left"
          },
          "hovermode": "closest",
          "mapbox": {
           "style": "light"
          },
          "paper_bgcolor": "white",
          "plot_bgcolor": "#E5ECF6",
          "polar": {
           "angularaxis": {
            "gridcolor": "white",
            "linecolor": "white",
            "ticks": ""
           },
           "bgcolor": "#E5ECF6",
           "radialaxis": {
            "gridcolor": "white",
            "linecolor": "white",
            "ticks": ""
           }
          },
          "scene": {
           "xaxis": {
            "backgroundcolor": "#E5ECF6",
            "gridcolor": "white",
            "gridwidth": 2,
            "linecolor": "white",
            "showbackground": true,
            "ticks": "",
            "zerolinecolor": "white"
           },
           "yaxis": {
            "backgroundcolor": "#E5ECF6",
            "gridcolor": "white",
            "gridwidth": 2,
            "linecolor": "white",
            "showbackground": true,
            "ticks": "",
            "zerolinecolor": "white"
           },
           "zaxis": {
            "backgroundcolor": "#E5ECF6",
            "gridcolor": "white",
            "gridwidth": 2,
            "linecolor": "white",
            "showbackground": true,
            "ticks": "",
            "zerolinecolor": "white"
           }
          },
          "shapedefaults": {
           "line": {
            "color": "#2a3f5f"
           }
          },
          "ternary": {
           "aaxis": {
            "gridcolor": "white",
            "linecolor": "white",
            "ticks": ""
           },
           "baxis": {
            "gridcolor": "white",
            "linecolor": "white",
            "ticks": ""
           },
           "bgcolor": "#E5ECF6",
           "caxis": {
            "gridcolor": "white",
            "linecolor": "white",
            "ticks": ""
           }
          },
          "title": {
           "x": 0.05
          },
          "xaxis": {
           "automargin": true,
           "gridcolor": "white",
           "linecolor": "white",
           "ticks": "",
           "title": {
            "standoff": 15
           },
           "zerolinecolor": "white",
           "zerolinewidth": 2
          },
          "yaxis": {
           "automargin": true,
           "gridcolor": "white",
           "linecolor": "white",
           "ticks": "",
           "title": {
            "standoff": 15
           },
           "zerolinecolor": "white",
           "zerolinewidth": 2
          }
         }
        },
        "xaxis": {
         "anchor": "y",
         "domain": [
          0,
          0.45
         ],
         "title": {
          "text": "Yhat"
         }
        },
        "xaxis2": {
         "anchor": "y2",
         "domain": [
          0.55,
          1
         ]
        },
        "yaxis": {
         "anchor": "x",
         "domain": [
          0,
          1
         ],
         "title": {
          "text": "Y"
         }
        },
        "yaxis2": {
         "anchor": "x2",
         "domain": [
          0,
          1
         ],
         "title": {
          "text": "RMSE"
         }
        }
       }
      }
     },
     "metadata": {},
     "output_type": "display_data"
    }
   ],
   "source": [
    "model = LinearRegression()\n",
    "model.fit(nonlinear_design_matrix(data), data['mpg'])\n",
    "evaluate_model(\"nonlinear\", model, nonlinear_design_matrix, models)"
   ]
  },
  {
   "cell_type": "markdown",
   "metadata": {},
   "source": [
    "### Domain Knowledge"
   ]
  },
  {
   "cell_type": "markdown",
   "metadata": {},
   "source": [
    "As data scientists, you will need domain expertise in the area which you are working in (either you yourself will be a domain expert or you will collaborate with a domain expert).\n",
    "\n",
    "In the case of the `mpg` dataset, let's say we asked an engine expert and learned the following:\n",
    "\n",
    "\"The displacement of an engine is defined as the product of the volume of each cylinder and number of cylinders.  However, not all cylinders fire at the same time (at least in a functioning engine) so the fuel economy might be more closely related to the volume of any one cylinder.\" \n",
    "\n",
    "![Cylinders from https://gifimage.net/piston-gif-3/](https://gifimage.net/wp-content/uploads/2018/04/piston-gif-3.gif)\n",
    "\n",
    "We can use this \"domain knowledge\" to compute a new feature encoding the volume per cylinder by taking the ratio of displacement and cylinders. "
   ]
  },
  {
   "cell_type": "code",
   "execution_count": 11,
   "metadata": {},
   "outputs": [
    {
     "data": {
      "text/html": [
       "<div>\n",
       "<style scoped>\n",
       "    .dataframe tbody tr th:only-of-type {\n",
       "        vertical-align: middle;\n",
       "    }\n",
       "\n",
       "    .dataframe tbody tr th {\n",
       "        vertical-align: top;\n",
       "    }\n",
       "\n",
       "    .dataframe thead th {\n",
       "        text-align: right;\n",
       "    }\n",
       "</style>\n",
       "<table border=\"1\" class=\"dataframe\">\n",
       "  <thead>\n",
       "    <tr style=\"text-align: right;\">\n",
       "      <th></th>\n",
       "      <th>cylinders</th>\n",
       "      <th>displacement</th>\n",
       "      <th>horsepower</th>\n",
       "      <th>weight</th>\n",
       "      <th>acceleration</th>\n",
       "      <th>model_year</th>\n",
       "      <th>cylinders^2</th>\n",
       "      <th>cylinders^3</th>\n",
       "      <th>log(cylinders)</th>\n",
       "      <th>sin(cylinders)</th>\n",
       "      <th>...</th>\n",
       "      <th>sin(weight)</th>\n",
       "      <th>acceleration^2</th>\n",
       "      <th>acceleration^3</th>\n",
       "      <th>log(acceleration)</th>\n",
       "      <th>sin(acceleration)</th>\n",
       "      <th>model_year^2</th>\n",
       "      <th>model_year^3</th>\n",
       "      <th>log(model_year)</th>\n",
       "      <th>sin(model_year)</th>\n",
       "      <th>displacement/cylinder</th>\n",
       "    </tr>\n",
       "  </thead>\n",
       "  <tbody>\n",
       "    <tr>\n",
       "      <th>0</th>\n",
       "      <td>8</td>\n",
       "      <td>307.0</td>\n",
       "      <td>130.0</td>\n",
       "      <td>3504</td>\n",
       "      <td>12.0</td>\n",
       "      <td>70</td>\n",
       "      <td>64</td>\n",
       "      <td>512</td>\n",
       "      <td>2.079442</td>\n",
       "      <td>0.989358</td>\n",
       "      <td>...</td>\n",
       "      <td>-0.901919</td>\n",
       "      <td>144.00</td>\n",
       "      <td>1728.000</td>\n",
       "      <td>2.484907</td>\n",
       "      <td>-0.536573</td>\n",
       "      <td>4900</td>\n",
       "      <td>343000</td>\n",
       "      <td>4.248495</td>\n",
       "      <td>0.773891</td>\n",
       "      <td>38.375</td>\n",
       "    </tr>\n",
       "    <tr>\n",
       "      <th>1</th>\n",
       "      <td>8</td>\n",
       "      <td>350.0</td>\n",
       "      <td>165.0</td>\n",
       "      <td>3693</td>\n",
       "      <td>11.5</td>\n",
       "      <td>70</td>\n",
       "      <td>64</td>\n",
       "      <td>512</td>\n",
       "      <td>2.079442</td>\n",
       "      <td>0.989358</td>\n",
       "      <td>...</td>\n",
       "      <td>-0.998328</td>\n",
       "      <td>132.25</td>\n",
       "      <td>1520.875</td>\n",
       "      <td>2.442347</td>\n",
       "      <td>-0.875452</td>\n",
       "      <td>4900</td>\n",
       "      <td>343000</td>\n",
       "      <td>4.248495</td>\n",
       "      <td>0.773891</td>\n",
       "      <td>43.750</td>\n",
       "    </tr>\n",
       "    <tr>\n",
       "      <th>2</th>\n",
       "      <td>8</td>\n",
       "      <td>318.0</td>\n",
       "      <td>150.0</td>\n",
       "      <td>3436</td>\n",
       "      <td>11.0</td>\n",
       "      <td>70</td>\n",
       "      <td>64</td>\n",
       "      <td>512</td>\n",
       "      <td>2.079442</td>\n",
       "      <td>0.989358</td>\n",
       "      <td>...</td>\n",
       "      <td>-0.784794</td>\n",
       "      <td>121.00</td>\n",
       "      <td>1331.000</td>\n",
       "      <td>2.397895</td>\n",
       "      <td>-0.999990</td>\n",
       "      <td>4900</td>\n",
       "      <td>343000</td>\n",
       "      <td>4.248495</td>\n",
       "      <td>0.773891</td>\n",
       "      <td>39.750</td>\n",
       "    </tr>\n",
       "    <tr>\n",
       "      <th>3</th>\n",
       "      <td>8</td>\n",
       "      <td>304.0</td>\n",
       "      <td>150.0</td>\n",
       "      <td>3433</td>\n",
       "      <td>12.0</td>\n",
       "      <td>70</td>\n",
       "      <td>64</td>\n",
       "      <td>512</td>\n",
       "      <td>2.079442</td>\n",
       "      <td>0.989358</td>\n",
       "      <td>...</td>\n",
       "      <td>0.689480</td>\n",
       "      <td>144.00</td>\n",
       "      <td>1728.000</td>\n",
       "      <td>2.484907</td>\n",
       "      <td>-0.536573</td>\n",
       "      <td>4900</td>\n",
       "      <td>343000</td>\n",
       "      <td>4.248495</td>\n",
       "      <td>0.773891</td>\n",
       "      <td>38.000</td>\n",
       "    </tr>\n",
       "    <tr>\n",
       "      <th>4</th>\n",
       "      <td>8</td>\n",
       "      <td>302.0</td>\n",
       "      <td>140.0</td>\n",
       "      <td>3449</td>\n",
       "      <td>10.5</td>\n",
       "      <td>70</td>\n",
       "      <td>64</td>\n",
       "      <td>512</td>\n",
       "      <td>2.079442</td>\n",
       "      <td>0.989358</td>\n",
       "      <td>...</td>\n",
       "      <td>-0.451757</td>\n",
       "      <td>110.25</td>\n",
       "      <td>1157.625</td>\n",
       "      <td>2.351375</td>\n",
       "      <td>-0.879696</td>\n",
       "      <td>4900</td>\n",
       "      <td>343000</td>\n",
       "      <td>4.248495</td>\n",
       "      <td>0.773891</td>\n",
       "      <td>37.750</td>\n",
       "    </tr>\n",
       "    <tr>\n",
       "      <th>...</th>\n",
       "      <td>...</td>\n",
       "      <td>...</td>\n",
       "      <td>...</td>\n",
       "      <td>...</td>\n",
       "      <td>...</td>\n",
       "      <td>...</td>\n",
       "      <td>...</td>\n",
       "      <td>...</td>\n",
       "      <td>...</td>\n",
       "      <td>...</td>\n",
       "      <td>...</td>\n",
       "      <td>...</td>\n",
       "      <td>...</td>\n",
       "      <td>...</td>\n",
       "      <td>...</td>\n",
       "      <td>...</td>\n",
       "      <td>...</td>\n",
       "      <td>...</td>\n",
       "      <td>...</td>\n",
       "      <td>...</td>\n",
       "      <td>...</td>\n",
       "    </tr>\n",
       "    <tr>\n",
       "      <th>393</th>\n",
       "      <td>4</td>\n",
       "      <td>140.0</td>\n",
       "      <td>86.0</td>\n",
       "      <td>2790</td>\n",
       "      <td>15.6</td>\n",
       "      <td>82</td>\n",
       "      <td>16</td>\n",
       "      <td>64</td>\n",
       "      <td>1.386294</td>\n",
       "      <td>-0.756802</td>\n",
       "      <td>...</td>\n",
       "      <td>0.262608</td>\n",
       "      <td>243.36</td>\n",
       "      <td>3796.416</td>\n",
       "      <td>2.747271</td>\n",
       "      <td>0.107754</td>\n",
       "      <td>6724</td>\n",
       "      <td>551368</td>\n",
       "      <td>4.406719</td>\n",
       "      <td>0.313229</td>\n",
       "      <td>35.000</td>\n",
       "    </tr>\n",
       "    <tr>\n",
       "      <th>394</th>\n",
       "      <td>4</td>\n",
       "      <td>97.0</td>\n",
       "      <td>52.0</td>\n",
       "      <td>2130</td>\n",
       "      <td>24.6</td>\n",
       "      <td>82</td>\n",
       "      <td>16</td>\n",
       "      <td>64</td>\n",
       "      <td>1.386294</td>\n",
       "      <td>-0.756802</td>\n",
       "      <td>...</td>\n",
       "      <td>0.000181</td>\n",
       "      <td>605.16</td>\n",
       "      <td>14886.936</td>\n",
       "      <td>3.202746</td>\n",
       "      <td>-0.507897</td>\n",
       "      <td>6724</td>\n",
       "      <td>551368</td>\n",
       "      <td>4.406719</td>\n",
       "      <td>0.313229</td>\n",
       "      <td>24.250</td>\n",
       "    </tr>\n",
       "    <tr>\n",
       "      <th>395</th>\n",
       "      <td>4</td>\n",
       "      <td>135.0</td>\n",
       "      <td>84.0</td>\n",
       "      <td>2295</td>\n",
       "      <td>11.6</td>\n",
       "      <td>82</td>\n",
       "      <td>16</td>\n",
       "      <td>64</td>\n",
       "      <td>1.386294</td>\n",
       "      <td>-0.756802</td>\n",
       "      <td>...</td>\n",
       "      <td>0.997785</td>\n",
       "      <td>134.56</td>\n",
       "      <td>1560.896</td>\n",
       "      <td>2.451005</td>\n",
       "      <td>-0.822829</td>\n",
       "      <td>6724</td>\n",
       "      <td>551368</td>\n",
       "      <td>4.406719</td>\n",
       "      <td>0.313229</td>\n",
       "      <td>33.750</td>\n",
       "    </tr>\n",
       "    <tr>\n",
       "      <th>396</th>\n",
       "      <td>4</td>\n",
       "      <td>120.0</td>\n",
       "      <td>79.0</td>\n",
       "      <td>2625</td>\n",
       "      <td>18.6</td>\n",
       "      <td>82</td>\n",
       "      <td>16</td>\n",
       "      <td>64</td>\n",
       "      <td>1.386294</td>\n",
       "      <td>-0.756802</td>\n",
       "      <td>...</td>\n",
       "      <td>-0.980198</td>\n",
       "      <td>345.96</td>\n",
       "      <td>6434.856</td>\n",
       "      <td>2.923162</td>\n",
       "      <td>-0.246974</td>\n",
       "      <td>6724</td>\n",
       "      <td>551368</td>\n",
       "      <td>4.406719</td>\n",
       "      <td>0.313229</td>\n",
       "      <td>30.000</td>\n",
       "    </tr>\n",
       "    <tr>\n",
       "      <th>397</th>\n",
       "      <td>4</td>\n",
       "      <td>119.0</td>\n",
       "      <td>82.0</td>\n",
       "      <td>2720</td>\n",
       "      <td>19.4</td>\n",
       "      <td>82</td>\n",
       "      <td>16</td>\n",
       "      <td>64</td>\n",
       "      <td>1.386294</td>\n",
       "      <td>-0.756802</td>\n",
       "      <td>...</td>\n",
       "      <td>-0.580415</td>\n",
       "      <td>376.36</td>\n",
       "      <td>7301.384</td>\n",
       "      <td>2.965273</td>\n",
       "      <td>0.523066</td>\n",
       "      <td>6724</td>\n",
       "      <td>551368</td>\n",
       "      <td>4.406719</td>\n",
       "      <td>0.313229</td>\n",
       "      <td>29.750</td>\n",
       "    </tr>\n",
       "  </tbody>\n",
       "</table>\n",
       "<p>392 rows × 31 columns</p>\n",
       "</div>"
      ],
      "text/plain": [
       "     cylinders  displacement  horsepower  weight  acceleration  model_year  \\\n",
       "0            8         307.0       130.0    3504          12.0          70   \n",
       "1            8         350.0       165.0    3693          11.5          70   \n",
       "2            8         318.0       150.0    3436          11.0          70   \n",
       "3            8         304.0       150.0    3433          12.0          70   \n",
       "4            8         302.0       140.0    3449          10.5          70   \n",
       "..         ...           ...         ...     ...           ...         ...   \n",
       "393          4         140.0        86.0    2790          15.6          82   \n",
       "394          4          97.0        52.0    2130          24.6          82   \n",
       "395          4         135.0        84.0    2295          11.6          82   \n",
       "396          4         120.0        79.0    2625          18.6          82   \n",
       "397          4         119.0        82.0    2720          19.4          82   \n",
       "\n",
       "     cylinders^2  cylinders^3  log(cylinders)  sin(cylinders)  ...  \\\n",
       "0             64          512        2.079442        0.989358  ...   \n",
       "1             64          512        2.079442        0.989358  ...   \n",
       "2             64          512        2.079442        0.989358  ...   \n",
       "3             64          512        2.079442        0.989358  ...   \n",
       "4             64          512        2.079442        0.989358  ...   \n",
       "..           ...          ...             ...             ...  ...   \n",
       "393           16           64        1.386294       -0.756802  ...   \n",
       "394           16           64        1.386294       -0.756802  ...   \n",
       "395           16           64        1.386294       -0.756802  ...   \n",
       "396           16           64        1.386294       -0.756802  ...   \n",
       "397           16           64        1.386294       -0.756802  ...   \n",
       "\n",
       "     sin(weight)  acceleration^2  acceleration^3  log(acceleration)  \\\n",
       "0      -0.901919          144.00        1728.000           2.484907   \n",
       "1      -0.998328          132.25        1520.875           2.442347   \n",
       "2      -0.784794          121.00        1331.000           2.397895   \n",
       "3       0.689480          144.00        1728.000           2.484907   \n",
       "4      -0.451757          110.25        1157.625           2.351375   \n",
       "..           ...             ...             ...                ...   \n",
       "393     0.262608          243.36        3796.416           2.747271   \n",
       "394     0.000181          605.16       14886.936           3.202746   \n",
       "395     0.997785          134.56        1560.896           2.451005   \n",
       "396    -0.980198          345.96        6434.856           2.923162   \n",
       "397    -0.580415          376.36        7301.384           2.965273   \n",
       "\n",
       "     sin(acceleration)  model_year^2  model_year^3  log(model_year)  \\\n",
       "0            -0.536573          4900        343000         4.248495   \n",
       "1            -0.875452          4900        343000         4.248495   \n",
       "2            -0.999990          4900        343000         4.248495   \n",
       "3            -0.536573          4900        343000         4.248495   \n",
       "4            -0.879696          4900        343000         4.248495   \n",
       "..                 ...           ...           ...              ...   \n",
       "393           0.107754          6724        551368         4.406719   \n",
       "394          -0.507897          6724        551368         4.406719   \n",
       "395          -0.822829          6724        551368         4.406719   \n",
       "396          -0.246974          6724        551368         4.406719   \n",
       "397           0.523066          6724        551368         4.406719   \n",
       "\n",
       "     sin(model_year)  displacement/cylinder  \n",
       "0           0.773891                 38.375  \n",
       "1           0.773891                 43.750  \n",
       "2           0.773891                 39.750  \n",
       "3           0.773891                 38.000  \n",
       "4           0.773891                 37.750  \n",
       "..               ...                    ...  \n",
       "393         0.313229                 35.000  \n",
       "394         0.313229                 24.250  \n",
       "395         0.313229                 33.750  \n",
       "396         0.313229                 30.000  \n",
       "397         0.313229                 29.750  \n",
       "\n",
       "[392 rows x 31 columns]"
      ]
     },
     "execution_count": 11,
     "metadata": {},
     "output_type": "execute_result"
    }
   ],
   "source": [
    "def displacement_design_matrix(df):\n",
    "    X = nonlinear_design_matrix(df)\n",
    "    X['displacement/cylinder'] = X['displacement'] / X['cylinders']\n",
    "    return X\n",
    "\n",
    "displacement_design_matrix(data)"
   ]
  },
  {
   "cell_type": "code",
   "execution_count": 12,
   "metadata": {},
   "outputs": [
    {
     "name": "stdout",
     "output_type": "stream",
     "text": [
      "Root Mean Squared Error: 2.4900607098696863\n"
     ]
    },
    {
     "data": {
      "application/vnd.plotly.v1+json": {
       "config": {
        "plotlyServerURL": "https://plot.ly"
       },
       "data": [
        {
         "mode": "markers",
         "type": "scatter",
         "x": [
          17.484280676946582,
          15.216643720918,
          16.607494206567026,
          15.418779910954072,
          17.22480919309055,
          13.722227810852019,
          13.514207408860784,
          13.69616695824243,
          14.21002374681575,
          13.842488433831932,
          15.26409386573323,
          15.18881272037288,
          16.773403613357914,
          14.547739132453898,
          25.017752845488758,
          19.536142222669696,
          19.877515265193324,
          21.499851724642213,
          28.01135872006853,
          30.772811538578026,
          23.674766532293688,
          25.617502678662277,
          25.21053772727828,
          25.495603837513045,
          21.04134989203976,
          11.83499244219638,
          11.2949145792536,
          12.328672143695258,
          9.822738230049254,
          26.56070209644986,
          22.94005672963067,
          24.749622760889906,
          20.303938493796522,
          16.006365096150148,
          16.924315343680064,
          17.75360815601016,
          16.50548913291823,
          13.6722980401928,
          13.493052905823788,
          12.97690011632767,
          13.52722672182972,
          12.624736045529971,
          13.216396483976496,
          11.747612647332062,
          17.93826169991644,
          22.280222940322346,
          17.100898058128223,
          18.42891257980955,
          24.703097049845383,
          25.20838208295845,
          29.035620335369458,
          28.764633035912993,
          30.78138293092161,
          29.954724458015335,
          27.564257557264682,
          27.329848990664686,
          23.62880165930983,
          26.328490559769307,
          29.743045751124555,
          20.61839827520089,
          23.63235296988387,
          13.4213431098824,
          12.765799165654244,
          12.788903076278075,
          13.146871852844924,
          13.990460041733968,
          11.845329579336976,
          12.840919263834621,
          12.417022256070595,
          11.640167987006862,
          18.269483695346935,
          13.149323975496372,
          14.030831212895464,
          12.285753058094087,
          12.357220088690156,
          18.86764961607787,
          22.27148172485522,
          18.945843801360752,
          26.290321836091607,
          22.901126893249966,
          24.776045187946693,
          22.0679329111681,
          26.655348359186974,
          25.903061685853572,
          12.120551192940184,
          14.423618513313158,
          14.198714291218494,
          13.175405954052621,
          13.953068714467918,
          11.335882592734379,
          14.990556175324855,
          13.373587903716725,
          12.612468037491453,
          12.42800207251912,
          12.131931950853868,
          13.111255464908027,
          16.626075958492947,
          16.502561081427302,
          17.556361193864177,
          18.471706028535664,
          17.85154450794198,
          29.736003232312214,
          12.399970725088679,
          12.799308967475554,
          12.087278277445876,
          12.625297769487588,
          18.38095572059774,
          24.630853717513673,
          22.294113715973253,
          23.568546618268556,
          20.034166760738117,
          22.98815997217116,
          21.41945747760201,
          25.864751037684073,
          14.27695703012796,
          14.911565360455825,
          34.0583642833335,
          25.61477015807577,
          23.0928971054891,
          19.22777225025311,
          15.342825931978041,
          20.905904528053725,
          18.975757895665083,
          13.355565143890999,
          17.706280675835842,
          18.303307820021473,
          17.370306055227957,
          30.445720428821915,
          23.945338240550882,
          31.745081769110584,
          23.03221670889343,
          17.147799715435212,
          15.784607961673828,
          16.484104613267846,
          13.858757018178949,
          13.4891789677622,
          14.016476202702506,
          13.359358867593983,
          12.475910567584833,
          26.939638323993677,
          31.59322119483204,
          27.205810660640054,
          32.34583062042748,
          29.849497117949795,
          28.846732146837894,
          28.604459875547036,
          26.43492537962993,
          22.95207132480664,
          24.312019975827752,
          31.455603161836734,
          18.064862359497965,
          17.52302499797588,
          18.725383496832364,
          18.989882672942258,
          14.931242801178087,
          14.70684675575012,
          13.815114594544866,
          14.763466420467012,
          15.805800627664212,
          16.650346717682623,
          15.77180145767943,
          16.62121729105911,
          17.879725457243694,
          17.845460053717943,
          17.454941136288653,
          28.075911050790637,
          22.450442120145453,
          18.718419548813472,
          22.37256266885015,
          22.701497449136696,
          28.743425237055817,
          23.08119049475954,
          19.233084191801936,
          30.367634403207376,
          18.248207564891345,
          22.71623734690911,
          21.50758245245379,
          21.30904577664387,
          21.897025581670277,
          30.988735277029264,
          25.683877828625555,
          26.30439861227387,
          23.17815413086373,
          27.720302998494844,
          27.614788805562966,
          16.017500265639683,
          15.348830212803477,
          16.39611483378667,
          15.542357857169009,
          18.447851554292356,
          18.588788863499758,
          19.790536049609727,
          18.909254887826137,
          32.988805005472386,
          29.984396018625375,
          30.777591011739787,
          31.568893921853487,
          17.45794361037406,
          18.770022897683702,
          17.546172486257092,
          18.458484718577893,
          31.771379487639933,
          31.008260427579444,
          28.61932083875581,
          25.288767261475186,
          20.736141633248735,
          14.925692817244453,
          21.10628401328995,
          20.113958404270306,
          17.14268094538056,
          14.565533968114323,
          16.823059677393758,
          15.04554264429862,
          14.167248194376043,
          29.858057425635707,
          28.70850639791024,
          33.38270329495754,
          25.76632700490336,
          32.092875473289496,
          16.81881997941946,
          16.465806640684605,
          16.033967855455558,
          16.402450063330434,
          18.5415106040291,
          18.587170105132827,
          18.462835686022117,
          18.39772681258364,
          16.0863789717896,
          16.53244291023202,
          14.869061264203992,
          15.514668884115963,
          30.374204808055765,
          23.546428784734417,
          28.505818865348374,
          23.25397484196219,
          30.89047111015134,
          29.550913068540467,
          30.680796017491048,
          29.92548668204745,
          22.77957714924105,
          24.870756497711227,
          17.67388312525418,
          34.54196113727812,
          32.8764318151525,
          35.23950802853324,
          32.62576683472071,
          33.54744633462815,
          19.17432462220222,
          18.146905446631536,
          18.28619647475898,
          19.046930889856412,
          20.664977048287255,
          22.653414708674973,
          25.105471319248863,
          20.308555101708407,
          21.260743757465207,
          20.380990424097945,
          22.16053434132482,
          18.750003271537935,
          19.431753425385978,
          17.699275980639868,
          16.605129787537408,
          20.20211892432235,
          17.90955097387905,
          31.80802313121694,
          26.005097732409922,
          27.86878635251196,
          30.894248373667324,
          25.93411991326502,
          24.16952556571505,
          24.36892134397749,
          27.291142111862428,
          26.55086857819788,
          21.0634625470193,
          23.360542397624158,
          18.88813887323704,
          32.99486021075154,
          31.87377748660674,
          21.621122969333555,
          23.5882760697732,
          25.718189481857735,
          22.448664477816237,
          21.564362348100985,
          19.370576095254364,
          20.298932018966298,
          20.34688272483345,
          19.14366648608211,
          18.21180474807261,
          19.22080173485756,
          19.802318062244012,
          19.055459604536736,
          35.24093584093407,
          36.05840579880078,
          33.772894458940755,
          28.281718550424557,
          24.957094218054408,
          19.794380527608155,
          29.416365772656718,
          22.205865111071944,
          34.05297300329494,
          33.114269330771094,
          34.61761004126129,
          34.54092712455986,
          27.01639556729424,
          27.410720979821235,
          25.439358341144725,
          28.95324275740859,
          34.702883148767796,
          35.83525885444942,
          34.992664907584185,
          37.13984925594923,
          28.241308696006854,
          26.814785268528794,
          25.65918473973852,
          23.405852162522024,
          33.95774011134108,
          28.206606746215584,
          30.221441373450944,
          30.538897806484783,
          32.773951543736985,
          36.430688150900096,
          27.57322952352297,
          35.73677551418314,
          37.590340445201036,
          38.81100747191613,
          30.593048996740436,
          27.309610023446112,
          37.01324007770381,
          34.32859323297362,
          36.77742712285726,
          26.315514701646862,
          26.222731954110714,
          30.03254890408971,
          32.82161273242946,
          30.4665874361026,
          29.461262194108713,
          29.90263328270794,
          27.98301281482145,
          32.638027712208896,
          39.1188365062726,
          37.946603572349886,
          38.82087496059921,
          35.30234006516184,
          36.574977912741815,
          36.78855779025889,
          36.678769635095705,
          35.402409200433794,
          36.112453363271015,
          33.60921796614184,
          34.99845208295392,
          34.226098338345764,
          32.68596547501784,
          29.730016594961853,
          30.037761426477118,
          26.334919789958803,
          26.75421381301203,
          27.179058986872406,
          26.261496297520353,
          23.641396145249928,
          22.474364412817522,
          25.57273652461845,
          25.103147453242855,
          29.53904691133266,
          29.735300794388422,
          31.287648742541023,
          31.14470222617001,
          30.176724092420045,
          27.96972492187615,
          27.662866153648793,
          35.08194994048608,
          35.807685496813065,
          36.20544474296912,
          35.72681738459869,
          35.116609876256916,
          32.463022379917675,
          34.09996096919258,
          33.39739327952884,
          36.89577897080744,
          36.74615190290206,
          36.618627409603505,
          24.896240021898848,
          26.57007703639738,
          29.93116612151971,
          25.105929763871245,
          29.460600547350623,
          32.50543897914031,
          27.38402074960959,
          28.488727381482022,
          39.873506131810245,
          34.22344845670523,
          29.52027502953206,
          28.83736907167713
         ],
         "xaxis": "x",
         "y": [
          18,
          15,
          18,
          16,
          17,
          15,
          14,
          14,
          14,
          15,
          15,
          14,
          15,
          14,
          24,
          22,
          18,
          21,
          27,
          26,
          25,
          24,
          25,
          26,
          21,
          10,
          10,
          11,
          9,
          27,
          28,
          25,
          19,
          16,
          17,
          19,
          18,
          14,
          14,
          14,
          14,
          12,
          13,
          13,
          18,
          22,
          19,
          18,
          23,
          28,
          30,
          30,
          31,
          35,
          27,
          26,
          24,
          25,
          23,
          20,
          21,
          13,
          14,
          15,
          14,
          17,
          11,
          13,
          12,
          13,
          19,
          15,
          13,
          13,
          14,
          18,
          22,
          21,
          26,
          22,
          28,
          23,
          28,
          27,
          13,
          14,
          13,
          14,
          15,
          12,
          13,
          13,
          14,
          13,
          12,
          13,
          18,
          16,
          18,
          18,
          23,
          26,
          11,
          12,
          13,
          12,
          18,
          20,
          21,
          22,
          18,
          19,
          21,
          26,
          15,
          16,
          29,
          24,
          20,
          19,
          15,
          24,
          20,
          11,
          20,
          19,
          15,
          31,
          26,
          32,
          25,
          16,
          16,
          18,
          16,
          13,
          14,
          14,
          14,
          29,
          26,
          26,
          31,
          32,
          28,
          24,
          26,
          24,
          26,
          31,
          19,
          18,
          15,
          15,
          16,
          15,
          16,
          14,
          17,
          16,
          15,
          18,
          21,
          20,
          13,
          29,
          23,
          20,
          23,
          24,
          25,
          24,
          18,
          29,
          19,
          23,
          23,
          22,
          25,
          33,
          28,
          25,
          25,
          26,
          27,
          17.5,
          16,
          15.5,
          14.5,
          22,
          22,
          24,
          22.5,
          29,
          24.5,
          29,
          33,
          20,
          18,
          18.5,
          17.5,
          29.5,
          32,
          28,
          26.5,
          20,
          13,
          19,
          19,
          16.5,
          16.5,
          13,
          13,
          13,
          31.5,
          30,
          36,
          25.5,
          33.5,
          17.5,
          17,
          15.5,
          15,
          17.5,
          20.5,
          19,
          18.5,
          16,
          15.5,
          15.5,
          16,
          29,
          24.5,
          26,
          25.5,
          30.5,
          33.5,
          30,
          30.5,
          22,
          21.5,
          21.5,
          43.1,
          36.1,
          32.8,
          39.4,
          36.1,
          19.9,
          19.4,
          20.2,
          19.2,
          20.5,
          20.2,
          25.1,
          20.5,
          19.4,
          20.6,
          20.8,
          18.6,
          18.1,
          19.2,
          17.7,
          18.1,
          17.5,
          30,
          27.5,
          27.2,
          30.9,
          21.1,
          23.2,
          23.8,
          23.9,
          20.3,
          17,
          21.6,
          16.2,
          31.5,
          29.5,
          21.5,
          19.8,
          22.3,
          20.2,
          20.6,
          17,
          17.6,
          16.5,
          18.2,
          16.9,
          15.5,
          19.2,
          18.5,
          31.9,
          34.1,
          35.7,
          27.4,
          25.4,
          23,
          27.2,
          23.9,
          34.2,
          34.5,
          31.8,
          37.3,
          28.4,
          28.8,
          26.8,
          33.5,
          41.5,
          38.1,
          32.1,
          37.2,
          28,
          26.4,
          24.3,
          19.1,
          34.3,
          29.8,
          31.3,
          37,
          32.2,
          46.6,
          27.9,
          40.8,
          44.3,
          43.4,
          36.4,
          30,
          44.6,
          33.8,
          29.8,
          32.7,
          23.7,
          35,
          32.4,
          27.2,
          26.6,
          25.8,
          23.5,
          30,
          39.1,
          39,
          35.1,
          32.3,
          37,
          37.7,
          34.1,
          34.7,
          34.4,
          29.9,
          33,
          33.7,
          32.4,
          32.9,
          31.6,
          28.1,
          30.7,
          25.4,
          24.2,
          22.4,
          26.6,
          20.2,
          17.6,
          28,
          27,
          34,
          31,
          29,
          27,
          24,
          36,
          37,
          31,
          38,
          36,
          36,
          36,
          34,
          38,
          32,
          38,
          25,
          38,
          26,
          22,
          32,
          36,
          27,
          27,
          44,
          32,
          28,
          31
         ],
         "yaxis": "y"
        },
        {
         "name": "y=yhat",
         "type": "scatter",
         "x": [
          9.822738230049254,
          39.873506131810245
         ],
         "xaxis": "x",
         "y": [
          9.822738230049254,
          39.873506131810245
         ],
         "yaxis": "y"
        },
        {
         "type": "bar",
         "x": [
          "basic",
          "nonlinear",
          "displacement"
         ],
         "xaxis": "x2",
         "y": [
          3.4044340177796406,
          2.4964145836114002,
          2.4900607098696863
         ],
         "yaxis": "y2"
        }
       ],
       "layout": {
        "showlegend": false,
        "template": {
         "data": {
          "bar": [
           {
            "error_x": {
             "color": "#2a3f5f"
            },
            "error_y": {
             "color": "#2a3f5f"
            },
            "marker": {
             "line": {
              "color": "#E5ECF6",
              "width": 0.5
             },
             "pattern": {
              "fillmode": "overlay",
              "size": 10,
              "solidity": 0.2
             }
            },
            "type": "bar"
           }
          ],
          "barpolar": [
           {
            "marker": {
             "line": {
              "color": "#E5ECF6",
              "width": 0.5
             },
             "pattern": {
              "fillmode": "overlay",
              "size": 10,
              "solidity": 0.2
             }
            },
            "type": "barpolar"
           }
          ],
          "carpet": [
           {
            "aaxis": {
             "endlinecolor": "#2a3f5f",
             "gridcolor": "white",
             "linecolor": "white",
             "minorgridcolor": "white",
             "startlinecolor": "#2a3f5f"
            },
            "baxis": {
             "endlinecolor": "#2a3f5f",
             "gridcolor": "white",
             "linecolor": "white",
             "minorgridcolor": "white",
             "startlinecolor": "#2a3f5f"
            },
            "type": "carpet"
           }
          ],
          "choropleth": [
           {
            "colorbar": {
             "outlinewidth": 0,
             "ticks": ""
            },
            "type": "choropleth"
           }
          ],
          "contour": [
           {
            "colorbar": {
             "outlinewidth": 0,
             "ticks": ""
            },
            "colorscale": [
             [
              0,
              "#0d0887"
             ],
             [
              0.1111111111111111,
              "#46039f"
             ],
             [
              0.2222222222222222,
              "#7201a8"
             ],
             [
              0.3333333333333333,
              "#9c179e"
             ],
             [
              0.4444444444444444,
              "#bd3786"
             ],
             [
              0.5555555555555556,
              "#d8576b"
             ],
             [
              0.6666666666666666,
              "#ed7953"
             ],
             [
              0.7777777777777778,
              "#fb9f3a"
             ],
             [
              0.8888888888888888,
              "#fdca26"
             ],
             [
              1,
              "#f0f921"
             ]
            ],
            "type": "contour"
           }
          ],
          "contourcarpet": [
           {
            "colorbar": {
             "outlinewidth": 0,
             "ticks": ""
            },
            "type": "contourcarpet"
           }
          ],
          "heatmap": [
           {
            "colorbar": {
             "outlinewidth": 0,
             "ticks": ""
            },
            "colorscale": [
             [
              0,
              "#0d0887"
             ],
             [
              0.1111111111111111,
              "#46039f"
             ],
             [
              0.2222222222222222,
              "#7201a8"
             ],
             [
              0.3333333333333333,
              "#9c179e"
             ],
             [
              0.4444444444444444,
              "#bd3786"
             ],
             [
              0.5555555555555556,
              "#d8576b"
             ],
             [
              0.6666666666666666,
              "#ed7953"
             ],
             [
              0.7777777777777778,
              "#fb9f3a"
             ],
             [
              0.8888888888888888,
              "#fdca26"
             ],
             [
              1,
              "#f0f921"
             ]
            ],
            "type": "heatmap"
           }
          ],
          "heatmapgl": [
           {
            "colorbar": {
             "outlinewidth": 0,
             "ticks": ""
            },
            "colorscale": [
             [
              0,
              "#0d0887"
             ],
             [
              0.1111111111111111,
              "#46039f"
             ],
             [
              0.2222222222222222,
              "#7201a8"
             ],
             [
              0.3333333333333333,
              "#9c179e"
             ],
             [
              0.4444444444444444,
              "#bd3786"
             ],
             [
              0.5555555555555556,
              "#d8576b"
             ],
             [
              0.6666666666666666,
              "#ed7953"
             ],
             [
              0.7777777777777778,
              "#fb9f3a"
             ],
             [
              0.8888888888888888,
              "#fdca26"
             ],
             [
              1,
              "#f0f921"
             ]
            ],
            "type": "heatmapgl"
           }
          ],
          "histogram": [
           {
            "marker": {
             "pattern": {
              "fillmode": "overlay",
              "size": 10,
              "solidity": 0.2
             }
            },
            "type": "histogram"
           }
          ],
          "histogram2d": [
           {
            "colorbar": {
             "outlinewidth": 0,
             "ticks": ""
            },
            "colorscale": [
             [
              0,
              "#0d0887"
             ],
             [
              0.1111111111111111,
              "#46039f"
             ],
             [
              0.2222222222222222,
              "#7201a8"
             ],
             [
              0.3333333333333333,
              "#9c179e"
             ],
             [
              0.4444444444444444,
              "#bd3786"
             ],
             [
              0.5555555555555556,
              "#d8576b"
             ],
             [
              0.6666666666666666,
              "#ed7953"
             ],
             [
              0.7777777777777778,
              "#fb9f3a"
             ],
             [
              0.8888888888888888,
              "#fdca26"
             ],
             [
              1,
              "#f0f921"
             ]
            ],
            "type": "histogram2d"
           }
          ],
          "histogram2dcontour": [
           {
            "colorbar": {
             "outlinewidth": 0,
             "ticks": ""
            },
            "colorscale": [
             [
              0,
              "#0d0887"
             ],
             [
              0.1111111111111111,
              "#46039f"
             ],
             [
              0.2222222222222222,
              "#7201a8"
             ],
             [
              0.3333333333333333,
              "#9c179e"
             ],
             [
              0.4444444444444444,
              "#bd3786"
             ],
             [
              0.5555555555555556,
              "#d8576b"
             ],
             [
              0.6666666666666666,
              "#ed7953"
             ],
             [
              0.7777777777777778,
              "#fb9f3a"
             ],
             [
              0.8888888888888888,
              "#fdca26"
             ],
             [
              1,
              "#f0f921"
             ]
            ],
            "type": "histogram2dcontour"
           }
          ],
          "mesh3d": [
           {
            "colorbar": {
             "outlinewidth": 0,
             "ticks": ""
            },
            "type": "mesh3d"
           }
          ],
          "parcoords": [
           {
            "line": {
             "colorbar": {
              "outlinewidth": 0,
              "ticks": ""
             }
            },
            "type": "parcoords"
           }
          ],
          "pie": [
           {
            "automargin": true,
            "type": "pie"
           }
          ],
          "scatter": [
           {
            "fillpattern": {
             "fillmode": "overlay",
             "size": 10,
             "solidity": 0.2
            },
            "type": "scatter"
           }
          ],
          "scatter3d": [
           {
            "line": {
             "colorbar": {
              "outlinewidth": 0,
              "ticks": ""
             }
            },
            "marker": {
             "colorbar": {
              "outlinewidth": 0,
              "ticks": ""
             }
            },
            "type": "scatter3d"
           }
          ],
          "scattercarpet": [
           {
            "marker": {
             "colorbar": {
              "outlinewidth": 0,
              "ticks": ""
             }
            },
            "type": "scattercarpet"
           }
          ],
          "scattergeo": [
           {
            "marker": {
             "colorbar": {
              "outlinewidth": 0,
              "ticks": ""
             }
            },
            "type": "scattergeo"
           }
          ],
          "scattergl": [
           {
            "marker": {
             "colorbar": {
              "outlinewidth": 0,
              "ticks": ""
             }
            },
            "type": "scattergl"
           }
          ],
          "scattermapbox": [
           {
            "marker": {
             "colorbar": {
              "outlinewidth": 0,
              "ticks": ""
             }
            },
            "type": "scattermapbox"
           }
          ],
          "scatterpolar": [
           {
            "marker": {
             "colorbar": {
              "outlinewidth": 0,
              "ticks": ""
             }
            },
            "type": "scatterpolar"
           }
          ],
          "scatterpolargl": [
           {
            "marker": {
             "colorbar": {
              "outlinewidth": 0,
              "ticks": ""
             }
            },
            "type": "scatterpolargl"
           }
          ],
          "scatterternary": [
           {
            "marker": {
             "colorbar": {
              "outlinewidth": 0,
              "ticks": ""
             }
            },
            "type": "scatterternary"
           }
          ],
          "surface": [
           {
            "colorbar": {
             "outlinewidth": 0,
             "ticks": ""
            },
            "colorscale": [
             [
              0,
              "#0d0887"
             ],
             [
              0.1111111111111111,
              "#46039f"
             ],
             [
              0.2222222222222222,
              "#7201a8"
             ],
             [
              0.3333333333333333,
              "#9c179e"
             ],
             [
              0.4444444444444444,
              "#bd3786"
             ],
             [
              0.5555555555555556,
              "#d8576b"
             ],
             [
              0.6666666666666666,
              "#ed7953"
             ],
             [
              0.7777777777777778,
              "#fb9f3a"
             ],
             [
              0.8888888888888888,
              "#fdca26"
             ],
             [
              1,
              "#f0f921"
             ]
            ],
            "type": "surface"
           }
          ],
          "table": [
           {
            "cells": {
             "fill": {
              "color": "#EBF0F8"
             },
             "line": {
              "color": "white"
             }
            },
            "header": {
             "fill": {
              "color": "#C8D4E3"
             },
             "line": {
              "color": "white"
             }
            },
            "type": "table"
           }
          ]
         },
         "layout": {
          "annotationdefaults": {
           "arrowcolor": "#2a3f5f",
           "arrowhead": 0,
           "arrowwidth": 1
          },
          "autotypenumbers": "strict",
          "coloraxis": {
           "colorbar": {
            "outlinewidth": 0,
            "ticks": ""
           }
          },
          "colorscale": {
           "diverging": [
            [
             0,
             "#8e0152"
            ],
            [
             0.1,
             "#c51b7d"
            ],
            [
             0.2,
             "#de77ae"
            ],
            [
             0.3,
             "#f1b6da"
            ],
            [
             0.4,
             "#fde0ef"
            ],
            [
             0.5,
             "#f7f7f7"
            ],
            [
             0.6,
             "#e6f5d0"
            ],
            [
             0.7,
             "#b8e186"
            ],
            [
             0.8,
             "#7fbc41"
            ],
            [
             0.9,
             "#4d9221"
            ],
            [
             1,
             "#276419"
            ]
           ],
           "sequential": [
            [
             0,
             "#0d0887"
            ],
            [
             0.1111111111111111,
             "#46039f"
            ],
            [
             0.2222222222222222,
             "#7201a8"
            ],
            [
             0.3333333333333333,
             "#9c179e"
            ],
            [
             0.4444444444444444,
             "#bd3786"
            ],
            [
             0.5555555555555556,
             "#d8576b"
            ],
            [
             0.6666666666666666,
             "#ed7953"
            ],
            [
             0.7777777777777778,
             "#fb9f3a"
            ],
            [
             0.8888888888888888,
             "#fdca26"
            ],
            [
             1,
             "#f0f921"
            ]
           ],
           "sequentialminus": [
            [
             0,
             "#0d0887"
            ],
            [
             0.1111111111111111,
             "#46039f"
            ],
            [
             0.2222222222222222,
             "#7201a8"
            ],
            [
             0.3333333333333333,
             "#9c179e"
            ],
            [
             0.4444444444444444,
             "#bd3786"
            ],
            [
             0.5555555555555556,
             "#d8576b"
            ],
            [
             0.6666666666666666,
             "#ed7953"
            ],
            [
             0.7777777777777778,
             "#fb9f3a"
            ],
            [
             0.8888888888888888,
             "#fdca26"
            ],
            [
             1,
             "#f0f921"
            ]
           ]
          },
          "colorway": [
           "#636efa",
           "#EF553B",
           "#00cc96",
           "#ab63fa",
           "#FFA15A",
           "#19d3f3",
           "#FF6692",
           "#B6E880",
           "#FF97FF",
           "#FECB52"
          ],
          "font": {
           "color": "#2a3f5f"
          },
          "geo": {
           "bgcolor": "white",
           "lakecolor": "white",
           "landcolor": "#E5ECF6",
           "showlakes": true,
           "showland": true,
           "subunitcolor": "white"
          },
          "hoverlabel": {
           "align": "left"
          },
          "hovermode": "closest",
          "mapbox": {
           "style": "light"
          },
          "paper_bgcolor": "white",
          "plot_bgcolor": "#E5ECF6",
          "polar": {
           "angularaxis": {
            "gridcolor": "white",
            "linecolor": "white",
            "ticks": ""
           },
           "bgcolor": "#E5ECF6",
           "radialaxis": {
            "gridcolor": "white",
            "linecolor": "white",
            "ticks": ""
           }
          },
          "scene": {
           "xaxis": {
            "backgroundcolor": "#E5ECF6",
            "gridcolor": "white",
            "gridwidth": 2,
            "linecolor": "white",
            "showbackground": true,
            "ticks": "",
            "zerolinecolor": "white"
           },
           "yaxis": {
            "backgroundcolor": "#E5ECF6",
            "gridcolor": "white",
            "gridwidth": 2,
            "linecolor": "white",
            "showbackground": true,
            "ticks": "",
            "zerolinecolor": "white"
           },
           "zaxis": {
            "backgroundcolor": "#E5ECF6",
            "gridcolor": "white",
            "gridwidth": 2,
            "linecolor": "white",
            "showbackground": true,
            "ticks": "",
            "zerolinecolor": "white"
           }
          },
          "shapedefaults": {
           "line": {
            "color": "#2a3f5f"
           }
          },
          "ternary": {
           "aaxis": {
            "gridcolor": "white",
            "linecolor": "white",
            "ticks": ""
           },
           "baxis": {
            "gridcolor": "white",
            "linecolor": "white",
            "ticks": ""
           },
           "bgcolor": "#E5ECF6",
           "caxis": {
            "gridcolor": "white",
            "linecolor": "white",
            "ticks": ""
           }
          },
          "title": {
           "x": 0.05
          },
          "xaxis": {
           "automargin": true,
           "gridcolor": "white",
           "linecolor": "white",
           "ticks": "",
           "title": {
            "standoff": 15
           },
           "zerolinecolor": "white",
           "zerolinewidth": 2
          },
          "yaxis": {
           "automargin": true,
           "gridcolor": "white",
           "linecolor": "white",
           "ticks": "",
           "title": {
            "standoff": 15
           },
           "zerolinecolor": "white",
           "zerolinewidth": 2
          }
         }
        },
        "xaxis": {
         "anchor": "y",
         "domain": [
          0,
          0.45
         ],
         "title": {
          "text": "Yhat"
         }
        },
        "xaxis2": {
         "anchor": "y2",
         "domain": [
          0.55,
          1
         ]
        },
        "yaxis": {
         "anchor": "x",
         "domain": [
          0,
          1
         ],
         "title": {
          "text": "Y"
         }
        },
        "yaxis2": {
         "anchor": "x2",
         "domain": [
          0,
          1
         ],
         "title": {
          "text": "RMSE"
         }
        }
       }
      }
     },
     "metadata": {},
     "output_type": "display_data"
    }
   ],
   "source": [
    "model = LinearRegression()\n",
    "model.fit(displacement_design_matrix(data), data['mpg'])\n",
    "evaluate_model(\"displacement\", model, displacement_design_matrix, models)"
   ]
  },
  {
   "cell_type": "markdown",
   "metadata": {},
   "source": [
    "## Categorical Data"
   ]
  },
  {
   "cell_type": "markdown",
   "metadata": {},
   "source": [
    "The `origin` column in this data set is categorical (nominal) data taking on a fixed set of possible values."
   ]
  },
  {
   "cell_type": "code",
   "execution_count": 13,
   "metadata": {},
   "outputs": [
    {
     "data": {
      "text/html": [
       "<div>\n",
       "<style scoped>\n",
       "    .dataframe tbody tr th:only-of-type {\n",
       "        vertical-align: middle;\n",
       "    }\n",
       "\n",
       "    .dataframe tbody tr th {\n",
       "        vertical-align: top;\n",
       "    }\n",
       "\n",
       "    .dataframe thead th {\n",
       "        text-align: right;\n",
       "    }\n",
       "</style>\n",
       "<table border=\"1\" class=\"dataframe\">\n",
       "  <thead>\n",
       "    <tr style=\"text-align: right;\">\n",
       "      <th></th>\n",
       "      <th>mpg</th>\n",
       "      <th>cylinders</th>\n",
       "      <th>displacement</th>\n",
       "      <th>horsepower</th>\n",
       "      <th>weight</th>\n",
       "      <th>acceleration</th>\n",
       "      <th>model_year</th>\n",
       "      <th>origin</th>\n",
       "      <th>name</th>\n",
       "    </tr>\n",
       "  </thead>\n",
       "  <tbody>\n",
       "    <tr>\n",
       "      <th>0</th>\n",
       "      <td>18.0</td>\n",
       "      <td>8</td>\n",
       "      <td>307.0</td>\n",
       "      <td>130.0</td>\n",
       "      <td>3504</td>\n",
       "      <td>12.0</td>\n",
       "      <td>70</td>\n",
       "      <td>usa</td>\n",
       "      <td>chevrolet chevelle malibu</td>\n",
       "    </tr>\n",
       "    <tr>\n",
       "      <th>1</th>\n",
       "      <td>15.0</td>\n",
       "      <td>8</td>\n",
       "      <td>350.0</td>\n",
       "      <td>165.0</td>\n",
       "      <td>3693</td>\n",
       "      <td>11.5</td>\n",
       "      <td>70</td>\n",
       "      <td>usa</td>\n",
       "      <td>buick skylark 320</td>\n",
       "    </tr>\n",
       "    <tr>\n",
       "      <th>2</th>\n",
       "      <td>18.0</td>\n",
       "      <td>8</td>\n",
       "      <td>318.0</td>\n",
       "      <td>150.0</td>\n",
       "      <td>3436</td>\n",
       "      <td>11.0</td>\n",
       "      <td>70</td>\n",
       "      <td>usa</td>\n",
       "      <td>plymouth satellite</td>\n",
       "    </tr>\n",
       "    <tr>\n",
       "      <th>3</th>\n",
       "      <td>16.0</td>\n",
       "      <td>8</td>\n",
       "      <td>304.0</td>\n",
       "      <td>150.0</td>\n",
       "      <td>3433</td>\n",
       "      <td>12.0</td>\n",
       "      <td>70</td>\n",
       "      <td>usa</td>\n",
       "      <td>amc rebel sst</td>\n",
       "    </tr>\n",
       "    <tr>\n",
       "      <th>4</th>\n",
       "      <td>17.0</td>\n",
       "      <td>8</td>\n",
       "      <td>302.0</td>\n",
       "      <td>140.0</td>\n",
       "      <td>3449</td>\n",
       "      <td>10.5</td>\n",
       "      <td>70</td>\n",
       "      <td>usa</td>\n",
       "      <td>ford torino</td>\n",
       "    </tr>\n",
       "  </tbody>\n",
       "</table>\n",
       "</div>"
      ],
      "text/plain": [
       "    mpg  cylinders  displacement  horsepower  weight  acceleration  \\\n",
       "0  18.0          8         307.0       130.0    3504          12.0   \n",
       "1  15.0          8         350.0       165.0    3693          11.5   \n",
       "2  18.0          8         318.0       150.0    3436          11.0   \n",
       "3  16.0          8         304.0       150.0    3433          12.0   \n",
       "4  17.0          8         302.0       140.0    3449          10.5   \n",
       "\n",
       "   model_year origin                       name  \n",
       "0          70    usa  chevrolet chevelle malibu  \n",
       "1          70    usa          buick skylark 320  \n",
       "2          70    usa         plymouth satellite  \n",
       "3          70    usa              amc rebel sst  \n",
       "4          70    usa                ford torino  "
      ]
     },
     "execution_count": 13,
     "metadata": {},
     "output_type": "execute_result"
    }
   ],
   "source": [
    "data.head()"
   ]
  },
  {
   "cell_type": "code",
   "execution_count": 14,
   "metadata": {},
   "outputs": [
    {
     "data": {
      "application/vnd.plotly.v1+json": {
       "config": {
        "plotlyServerURL": "https://plot.ly"
       },
       "data": [
        {
         "alignmentgroup": "True",
         "bingroup": "x",
         "hovertemplate": "origin=%{x}<br>count=%{y}<extra></extra>",
         "legendgroup": "",
         "marker": {
          "color": "#636efa",
          "pattern": {
           "shape": ""
          }
         },
         "name": "",
         "offsetgroup": "",
         "orientation": "v",
         "showlegend": false,
         "type": "histogram",
         "x": [
          "usa",
          "usa",
          "usa",
          "usa",
          "usa",
          "usa",
          "usa",
          "usa",
          "usa",
          "usa",
          "usa",
          "usa",
          "usa",
          "usa",
          "japan",
          "usa",
          "usa",
          "usa",
          "japan",
          "europe",
          "europe",
          "europe",
          "europe",
          "europe",
          "usa",
          "usa",
          "usa",
          "usa",
          "usa",
          "japan",
          "usa",
          "japan",
          "usa",
          "usa",
          "usa",
          "usa",
          "usa",
          "usa",
          "usa",
          "usa",
          "usa",
          "usa",
          "usa",
          "usa",
          "usa",
          "usa",
          "usa",
          "usa",
          "usa",
          "europe",
          "europe",
          "europe",
          "japan",
          "japan",
          "europe",
          "usa",
          "japan",
          "usa",
          "europe",
          "usa",
          "usa",
          "usa",
          "usa",
          "usa",
          "usa",
          "usa",
          "usa",
          "usa",
          "usa",
          "usa",
          "japan",
          "usa",
          "usa",
          "usa",
          "usa",
          "europe",
          "europe",
          "europe",
          "europe",
          "usa",
          "japan",
          "japan",
          "usa",
          "japan",
          "usa",
          "usa",
          "usa",
          "usa",
          "usa",
          "usa",
          "usa",
          "usa",
          "usa",
          "usa",
          "usa",
          "usa",
          "usa",
          "usa",
          "usa",
          "usa",
          "usa",
          "europe",
          "usa",
          "usa",
          "usa",
          "usa",
          "usa",
          "japan",
          "usa",
          "japan",
          "japan",
          "usa",
          "usa",
          "europe",
          "usa",
          "usa",
          "europe",
          "europe",
          "europe",
          "europe",
          "usa",
          "europe",
          "japan",
          "usa",
          "usa",
          "usa",
          "usa",
          "japan",
          "usa",
          "japan",
          "usa",
          "usa",
          "usa",
          "usa",
          "usa",
          "usa",
          "usa",
          "usa",
          "usa",
          "europe",
          "europe",
          "europe",
          "japan",
          "japan",
          "usa",
          "europe",
          "europe",
          "japan",
          "japan",
          "europe",
          "usa",
          "usa",
          "usa",
          "usa",
          "usa",
          "usa",
          "usa",
          "usa",
          "usa",
          "usa",
          "usa",
          "usa",
          "usa",
          "usa",
          "usa",
          "japan",
          "usa",
          "usa",
          "usa",
          "japan",
          "europe",
          "japan",
          "usa",
          "europe",
          "usa",
          "europe",
          "europe",
          "europe",
          "europe",
          "japan",
          "europe",
          "europe",
          "usa",
          "usa",
          "europe",
          "usa",
          "usa",
          "usa",
          "usa",
          "usa",
          "usa",
          "usa",
          "usa",
          "usa",
          "usa",
          "europe",
          "japan",
          "usa",
          "usa",
          "usa",
          "usa",
          "europe",
          "japan",
          "japan",
          "usa",
          "europe",
          "usa",
          "europe",
          "japan",
          "europe",
          "usa",
          "usa",
          "usa",
          "usa",
          "japan",
          "usa",
          "europe",
          "usa",
          "japan",
          "usa",
          "usa",
          "usa",
          "usa",
          "usa",
          "usa",
          "usa",
          "usa",
          "usa",
          "usa",
          "usa",
          "usa",
          "europe",
          "usa",
          "japan",
          "usa",
          "usa",
          "usa",
          "japan",
          "europe",
          "japan",
          "europe",
          "japan",
          "europe",
          "usa",
          "japan",
          "japan",
          "japan",
          "usa",
          "usa",
          "usa",
          "usa",
          "usa",
          "usa",
          "usa",
          "usa",
          "usa",
          "usa",
          "usa",
          "usa",
          "usa",
          "usa",
          "usa",
          "usa",
          "usa",
          "usa",
          "japan",
          "japan",
          "usa",
          "japan",
          "usa",
          "usa",
          "japan",
          "europe",
          "europe",
          "europe",
          "europe",
          "europe",
          "japan",
          "usa",
          "usa",
          "usa",
          "usa",
          "usa",
          "usa",
          "usa",
          "usa",
          "usa",
          "usa",
          "usa",
          "usa",
          "usa",
          "europe",
          "japan",
          "usa",
          "usa",
          "europe",
          "usa",
          "europe",
          "usa",
          "usa",
          "usa",
          "japan",
          "europe",
          "usa",
          "usa",
          "usa",
          "usa",
          "europe",
          "japan",
          "usa",
          "japan",
          "usa",
          "usa",
          "usa",
          "usa",
          "europe",
          "japan",
          "japan",
          "japan",
          "japan",
          "japan",
          "usa",
          "japan",
          "europe",
          "europe",
          "europe",
          "europe",
          "japan",
          "japan",
          "europe",
          "japan",
          "japan",
          "europe",
          "japan",
          "usa",
          "usa",
          "usa",
          "usa",
          "usa",
          "japan",
          "usa",
          "japan",
          "japan",
          "japan",
          "japan",
          "japan",
          "usa",
          "usa",
          "usa",
          "europe",
          "japan",
          "japan",
          "japan",
          "japan",
          "europe",
          "europe",
          "japan",
          "japan",
          "usa",
          "usa",
          "usa",
          "usa",
          "usa",
          "usa",
          "usa",
          "usa",
          "usa",
          "usa",
          "usa",
          "europe",
          "japan",
          "japan",
          "usa",
          "usa",
          "japan",
          "japan",
          "japan",
          "japan",
          "japan",
          "japan",
          "usa",
          "usa",
          "usa",
          "usa",
          "japan",
          "usa",
          "usa",
          "usa",
          "europe",
          "usa",
          "usa",
          "usa"
         ],
         "xaxis": "x",
         "yaxis": "y"
        }
       ],
       "layout": {
        "barmode": "relative",
        "legend": {
         "tracegroupgap": 0
        },
        "margin": {
         "t": 60
        },
        "template": {
         "data": {
          "bar": [
           {
            "error_x": {
             "color": "#2a3f5f"
            },
            "error_y": {
             "color": "#2a3f5f"
            },
            "marker": {
             "line": {
              "color": "#E5ECF6",
              "width": 0.5
             },
             "pattern": {
              "fillmode": "overlay",
              "size": 10,
              "solidity": 0.2
             }
            },
            "type": "bar"
           }
          ],
          "barpolar": [
           {
            "marker": {
             "line": {
              "color": "#E5ECF6",
              "width": 0.5
             },
             "pattern": {
              "fillmode": "overlay",
              "size": 10,
              "solidity": 0.2
             }
            },
            "type": "barpolar"
           }
          ],
          "carpet": [
           {
            "aaxis": {
             "endlinecolor": "#2a3f5f",
             "gridcolor": "white",
             "linecolor": "white",
             "minorgridcolor": "white",
             "startlinecolor": "#2a3f5f"
            },
            "baxis": {
             "endlinecolor": "#2a3f5f",
             "gridcolor": "white",
             "linecolor": "white",
             "minorgridcolor": "white",
             "startlinecolor": "#2a3f5f"
            },
            "type": "carpet"
           }
          ],
          "choropleth": [
           {
            "colorbar": {
             "outlinewidth": 0,
             "ticks": ""
            },
            "type": "choropleth"
           }
          ],
          "contour": [
           {
            "colorbar": {
             "outlinewidth": 0,
             "ticks": ""
            },
            "colorscale": [
             [
              0,
              "#0d0887"
             ],
             [
              0.1111111111111111,
              "#46039f"
             ],
             [
              0.2222222222222222,
              "#7201a8"
             ],
             [
              0.3333333333333333,
              "#9c179e"
             ],
             [
              0.4444444444444444,
              "#bd3786"
             ],
             [
              0.5555555555555556,
              "#d8576b"
             ],
             [
              0.6666666666666666,
              "#ed7953"
             ],
             [
              0.7777777777777778,
              "#fb9f3a"
             ],
             [
              0.8888888888888888,
              "#fdca26"
             ],
             [
              1,
              "#f0f921"
             ]
            ],
            "type": "contour"
           }
          ],
          "contourcarpet": [
           {
            "colorbar": {
             "outlinewidth": 0,
             "ticks": ""
            },
            "type": "contourcarpet"
           }
          ],
          "heatmap": [
           {
            "colorbar": {
             "outlinewidth": 0,
             "ticks": ""
            },
            "colorscale": [
             [
              0,
              "#0d0887"
             ],
             [
              0.1111111111111111,
              "#46039f"
             ],
             [
              0.2222222222222222,
              "#7201a8"
             ],
             [
              0.3333333333333333,
              "#9c179e"
             ],
             [
              0.4444444444444444,
              "#bd3786"
             ],
             [
              0.5555555555555556,
              "#d8576b"
             ],
             [
              0.6666666666666666,
              "#ed7953"
             ],
             [
              0.7777777777777778,
              "#fb9f3a"
             ],
             [
              0.8888888888888888,
              "#fdca26"
             ],
             [
              1,
              "#f0f921"
             ]
            ],
            "type": "heatmap"
           }
          ],
          "heatmapgl": [
           {
            "colorbar": {
             "outlinewidth": 0,
             "ticks": ""
            },
            "colorscale": [
             [
              0,
              "#0d0887"
             ],
             [
              0.1111111111111111,
              "#46039f"
             ],
             [
              0.2222222222222222,
              "#7201a8"
             ],
             [
              0.3333333333333333,
              "#9c179e"
             ],
             [
              0.4444444444444444,
              "#bd3786"
             ],
             [
              0.5555555555555556,
              "#d8576b"
             ],
             [
              0.6666666666666666,
              "#ed7953"
             ],
             [
              0.7777777777777778,
              "#fb9f3a"
             ],
             [
              0.8888888888888888,
              "#fdca26"
             ],
             [
              1,
              "#f0f921"
             ]
            ],
            "type": "heatmapgl"
           }
          ],
          "histogram": [
           {
            "marker": {
             "pattern": {
              "fillmode": "overlay",
              "size": 10,
              "solidity": 0.2
             }
            },
            "type": "histogram"
           }
          ],
          "histogram2d": [
           {
            "colorbar": {
             "outlinewidth": 0,
             "ticks": ""
            },
            "colorscale": [
             [
              0,
              "#0d0887"
             ],
             [
              0.1111111111111111,
              "#46039f"
             ],
             [
              0.2222222222222222,
              "#7201a8"
             ],
             [
              0.3333333333333333,
              "#9c179e"
             ],
             [
              0.4444444444444444,
              "#bd3786"
             ],
             [
              0.5555555555555556,
              "#d8576b"
             ],
             [
              0.6666666666666666,
              "#ed7953"
             ],
             [
              0.7777777777777778,
              "#fb9f3a"
             ],
             [
              0.8888888888888888,
              "#fdca26"
             ],
             [
              1,
              "#f0f921"
             ]
            ],
            "type": "histogram2d"
           }
          ],
          "histogram2dcontour": [
           {
            "colorbar": {
             "outlinewidth": 0,
             "ticks": ""
            },
            "colorscale": [
             [
              0,
              "#0d0887"
             ],
             [
              0.1111111111111111,
              "#46039f"
             ],
             [
              0.2222222222222222,
              "#7201a8"
             ],
             [
              0.3333333333333333,
              "#9c179e"
             ],
             [
              0.4444444444444444,
              "#bd3786"
             ],
             [
              0.5555555555555556,
              "#d8576b"
             ],
             [
              0.6666666666666666,
              "#ed7953"
             ],
             [
              0.7777777777777778,
              "#fb9f3a"
             ],
             [
              0.8888888888888888,
              "#fdca26"
             ],
             [
              1,
              "#f0f921"
             ]
            ],
            "type": "histogram2dcontour"
           }
          ],
          "mesh3d": [
           {
            "colorbar": {
             "outlinewidth": 0,
             "ticks": ""
            },
            "type": "mesh3d"
           }
          ],
          "parcoords": [
           {
            "line": {
             "colorbar": {
              "outlinewidth": 0,
              "ticks": ""
             }
            },
            "type": "parcoords"
           }
          ],
          "pie": [
           {
            "automargin": true,
            "type": "pie"
           }
          ],
          "scatter": [
           {
            "fillpattern": {
             "fillmode": "overlay",
             "size": 10,
             "solidity": 0.2
            },
            "type": "scatter"
           }
          ],
          "scatter3d": [
           {
            "line": {
             "colorbar": {
              "outlinewidth": 0,
              "ticks": ""
             }
            },
            "marker": {
             "colorbar": {
              "outlinewidth": 0,
              "ticks": ""
             }
            },
            "type": "scatter3d"
           }
          ],
          "scattercarpet": [
           {
            "marker": {
             "colorbar": {
              "outlinewidth": 0,
              "ticks": ""
             }
            },
            "type": "scattercarpet"
           }
          ],
          "scattergeo": [
           {
            "marker": {
             "colorbar": {
              "outlinewidth": 0,
              "ticks": ""
             }
            },
            "type": "scattergeo"
           }
          ],
          "scattergl": [
           {
            "marker": {
             "colorbar": {
              "outlinewidth": 0,
              "ticks": ""
             }
            },
            "type": "scattergl"
           }
          ],
          "scattermapbox": [
           {
            "marker": {
             "colorbar": {
              "outlinewidth": 0,
              "ticks": ""
             }
            },
            "type": "scattermapbox"
           }
          ],
          "scatterpolar": [
           {
            "marker": {
             "colorbar": {
              "outlinewidth": 0,
              "ticks": ""
             }
            },
            "type": "scatterpolar"
           }
          ],
          "scatterpolargl": [
           {
            "marker": {
             "colorbar": {
              "outlinewidth": 0,
              "ticks": ""
             }
            },
            "type": "scatterpolargl"
           }
          ],
          "scatterternary": [
           {
            "marker": {
             "colorbar": {
              "outlinewidth": 0,
              "ticks": ""
             }
            },
            "type": "scatterternary"
           }
          ],
          "surface": [
           {
            "colorbar": {
             "outlinewidth": 0,
             "ticks": ""
            },
            "colorscale": [
             [
              0,
              "#0d0887"
             ],
             [
              0.1111111111111111,
              "#46039f"
             ],
             [
              0.2222222222222222,
              "#7201a8"
             ],
             [
              0.3333333333333333,
              "#9c179e"
             ],
             [
              0.4444444444444444,
              "#bd3786"
             ],
             [
              0.5555555555555556,
              "#d8576b"
             ],
             [
              0.6666666666666666,
              "#ed7953"
             ],
             [
              0.7777777777777778,
              "#fb9f3a"
             ],
             [
              0.8888888888888888,
              "#fdca26"
             ],
             [
              1,
              "#f0f921"
             ]
            ],
            "type": "surface"
           }
          ],
          "table": [
           {
            "cells": {
             "fill": {
              "color": "#EBF0F8"
             },
             "line": {
              "color": "white"
             }
            },
            "header": {
             "fill": {
              "color": "#C8D4E3"
             },
             "line": {
              "color": "white"
             }
            },
            "type": "table"
           }
          ]
         },
         "layout": {
          "annotationdefaults": {
           "arrowcolor": "#2a3f5f",
           "arrowhead": 0,
           "arrowwidth": 1
          },
          "autotypenumbers": "strict",
          "coloraxis": {
           "colorbar": {
            "outlinewidth": 0,
            "ticks": ""
           }
          },
          "colorscale": {
           "diverging": [
            [
             0,
             "#8e0152"
            ],
            [
             0.1,
             "#c51b7d"
            ],
            [
             0.2,
             "#de77ae"
            ],
            [
             0.3,
             "#f1b6da"
            ],
            [
             0.4,
             "#fde0ef"
            ],
            [
             0.5,
             "#f7f7f7"
            ],
            [
             0.6,
             "#e6f5d0"
            ],
            [
             0.7,
             "#b8e186"
            ],
            [
             0.8,
             "#7fbc41"
            ],
            [
             0.9,
             "#4d9221"
            ],
            [
             1,
             "#276419"
            ]
           ],
           "sequential": [
            [
             0,
             "#0d0887"
            ],
            [
             0.1111111111111111,
             "#46039f"
            ],
            [
             0.2222222222222222,
             "#7201a8"
            ],
            [
             0.3333333333333333,
             "#9c179e"
            ],
            [
             0.4444444444444444,
             "#bd3786"
            ],
            [
             0.5555555555555556,
             "#d8576b"
            ],
            [
             0.6666666666666666,
             "#ed7953"
            ],
            [
             0.7777777777777778,
             "#fb9f3a"
            ],
            [
             0.8888888888888888,
             "#fdca26"
            ],
            [
             1,
             "#f0f921"
            ]
           ],
           "sequentialminus": [
            [
             0,
             "#0d0887"
            ],
            [
             0.1111111111111111,
             "#46039f"
            ],
            [
             0.2222222222222222,
             "#7201a8"
            ],
            [
             0.3333333333333333,
             "#9c179e"
            ],
            [
             0.4444444444444444,
             "#bd3786"
            ],
            [
             0.5555555555555556,
             "#d8576b"
            ],
            [
             0.6666666666666666,
             "#ed7953"
            ],
            [
             0.7777777777777778,
             "#fb9f3a"
            ],
            [
             0.8888888888888888,
             "#fdca26"
            ],
            [
             1,
             "#f0f921"
            ]
           ]
          },
          "colorway": [
           "#636efa",
           "#EF553B",
           "#00cc96",
           "#ab63fa",
           "#FFA15A",
           "#19d3f3",
           "#FF6692",
           "#B6E880",
           "#FF97FF",
           "#FECB52"
          ],
          "font": {
           "color": "#2a3f5f"
          },
          "geo": {
           "bgcolor": "white",
           "lakecolor": "white",
           "landcolor": "#E5ECF6",
           "showlakes": true,
           "showland": true,
           "subunitcolor": "white"
          },
          "hoverlabel": {
           "align": "left"
          },
          "hovermode": "closest",
          "mapbox": {
           "style": "light"
          },
          "paper_bgcolor": "white",
          "plot_bgcolor": "#E5ECF6",
          "polar": {
           "angularaxis": {
            "gridcolor": "white",
            "linecolor": "white",
            "ticks": ""
           },
           "bgcolor": "#E5ECF6",
           "radialaxis": {
            "gridcolor": "white",
            "linecolor": "white",
            "ticks": ""
           }
          },
          "scene": {
           "xaxis": {
            "backgroundcolor": "#E5ECF6",
            "gridcolor": "white",
            "gridwidth": 2,
            "linecolor": "white",
            "showbackground": true,
            "ticks": "",
            "zerolinecolor": "white"
           },
           "yaxis": {
            "backgroundcolor": "#E5ECF6",
            "gridcolor": "white",
            "gridwidth": 2,
            "linecolor": "white",
            "showbackground": true,
            "ticks": "",
            "zerolinecolor": "white"
           },
           "zaxis": {
            "backgroundcolor": "#E5ECF6",
            "gridcolor": "white",
            "gridwidth": 2,
            "linecolor": "white",
            "showbackground": true,
            "ticks": "",
            "zerolinecolor": "white"
           }
          },
          "shapedefaults": {
           "line": {
            "color": "#2a3f5f"
           }
          },
          "ternary": {
           "aaxis": {
            "gridcolor": "white",
            "linecolor": "white",
            "ticks": ""
           },
           "baxis": {
            "gridcolor": "white",
            "linecolor": "white",
            "ticks": ""
           },
           "bgcolor": "#E5ECF6",
           "caxis": {
            "gridcolor": "white",
            "linecolor": "white",
            "ticks": ""
           }
          },
          "title": {
           "x": 0.05
          },
          "xaxis": {
           "automargin": true,
           "gridcolor": "white",
           "linecolor": "white",
           "ticks": "",
           "title": {
            "standoff": 15
           },
           "zerolinecolor": "white",
           "zerolinewidth": 2
          },
          "yaxis": {
           "automargin": true,
           "gridcolor": "white",
           "linecolor": "white",
           "ticks": "",
           "title": {
            "standoff": 15
           },
           "zerolinecolor": "white",
           "zerolinewidth": 2
          }
         }
        },
        "xaxis": {
         "anchor": "y",
         "domain": [
          0,
          1
         ],
         "title": {
          "text": "origin"
         }
        },
        "yaxis": {
         "anchor": "x",
         "domain": [
          0,
          1
         ],
         "title": {
          "text": "count"
         }
        }
       }
      }
     },
     "metadata": {},
     "output_type": "display_data"
    }
   ],
   "source": [
    "px.histogram(data, x='origin')"
   ]
  },
  {
   "cell_type": "markdown",
   "metadata": {},
   "source": [
    "To use this kind of data in a model, we need to transform into a vector encoding that treats each distinct value as a separate dimension.  This is called One-hot Encoding. "
   ]
  },
  {
   "cell_type": "markdown",
   "metadata": {},
   "source": [
    "### One-Hot Encoding\n",
    "\n",
    "One-Hot encoding, sometimes also called dummy encoding, is a simple mechanism to encode categorical data as real numbers such that the magnitude of each dimension is meaningful.  Suppose a feature can take on $k$ distinct values (e.g., $k=50$ for 50 states in the United Stated).  A new feature (dimension) is created for each distinct value.  For each record, all the new features are set to zero except the one corresponding to the value in the original feature. \n",
    "\n",
    "<img src=\"images/one_hot_state.png\" width=\"600px\">\n",
    "\n",
    "The term one-hot encoding comes from a digital circuit encoding of a categorical state as particular \"hot\" wire:\n",
    "\n",
    "<img src=\"images/one_hot_encoding.png\" width=\"400px\">"
   ]
  },
  {
   "cell_type": "markdown",
   "metadata": {},
   "source": [
    "#### One-Hot Encoding in Pandas\n",
    "\n",
    "We can construct a one-hot encoding of the origin column using the `pandas.get_dummies` function:"
   ]
  },
  {
   "cell_type": "code",
   "execution_count": 15,
   "metadata": {},
   "outputs": [
    {
     "data": {
      "text/plain": [
       "0         usa\n",
       "1         usa\n",
       "2         usa\n",
       "3         usa\n",
       "4         usa\n",
       "        ...  \n",
       "393       usa\n",
       "394    europe\n",
       "395       usa\n",
       "396       usa\n",
       "397       usa\n",
       "Name: origin, Length: 392, dtype: object"
      ]
     },
     "execution_count": 15,
     "metadata": {},
     "output_type": "execute_result"
    }
   ],
   "source": [
    "data['origin']"
   ]
  },
  {
   "cell_type": "code",
   "execution_count": 16,
   "metadata": {},
   "outputs": [
    {
     "data": {
      "text/html": [
       "<div>\n",
       "<style scoped>\n",
       "    .dataframe tbody tr th:only-of-type {\n",
       "        vertical-align: middle;\n",
       "    }\n",
       "\n",
       "    .dataframe tbody tr th {\n",
       "        vertical-align: top;\n",
       "    }\n",
       "\n",
       "    .dataframe thead th {\n",
       "        text-align: right;\n",
       "    }\n",
       "</style>\n",
       "<table border=\"1\" class=\"dataframe\">\n",
       "  <thead>\n",
       "    <tr style=\"text-align: right;\">\n",
       "      <th></th>\n",
       "      <th>origin_europe</th>\n",
       "      <th>origin_japan</th>\n",
       "      <th>origin_usa</th>\n",
       "    </tr>\n",
       "  </thead>\n",
       "  <tbody>\n",
       "    <tr>\n",
       "      <th>0</th>\n",
       "      <td>0</td>\n",
       "      <td>0</td>\n",
       "      <td>1</td>\n",
       "    </tr>\n",
       "    <tr>\n",
       "      <th>1</th>\n",
       "      <td>0</td>\n",
       "      <td>0</td>\n",
       "      <td>1</td>\n",
       "    </tr>\n",
       "    <tr>\n",
       "      <th>2</th>\n",
       "      <td>0</td>\n",
       "      <td>0</td>\n",
       "      <td>1</td>\n",
       "    </tr>\n",
       "    <tr>\n",
       "      <th>3</th>\n",
       "      <td>0</td>\n",
       "      <td>0</td>\n",
       "      <td>1</td>\n",
       "    </tr>\n",
       "    <tr>\n",
       "      <th>4</th>\n",
       "      <td>0</td>\n",
       "      <td>0</td>\n",
       "      <td>1</td>\n",
       "    </tr>\n",
       "    <tr>\n",
       "      <th>...</th>\n",
       "      <td>...</td>\n",
       "      <td>...</td>\n",
       "      <td>...</td>\n",
       "    </tr>\n",
       "    <tr>\n",
       "      <th>393</th>\n",
       "      <td>0</td>\n",
       "      <td>0</td>\n",
       "      <td>1</td>\n",
       "    </tr>\n",
       "    <tr>\n",
       "      <th>394</th>\n",
       "      <td>1</td>\n",
       "      <td>0</td>\n",
       "      <td>0</td>\n",
       "    </tr>\n",
       "    <tr>\n",
       "      <th>395</th>\n",
       "      <td>0</td>\n",
       "      <td>0</td>\n",
       "      <td>1</td>\n",
       "    </tr>\n",
       "    <tr>\n",
       "      <th>396</th>\n",
       "      <td>0</td>\n",
       "      <td>0</td>\n",
       "      <td>1</td>\n",
       "    </tr>\n",
       "    <tr>\n",
       "      <th>397</th>\n",
       "      <td>0</td>\n",
       "      <td>0</td>\n",
       "      <td>1</td>\n",
       "    </tr>\n",
       "  </tbody>\n",
       "</table>\n",
       "<p>392 rows × 3 columns</p>\n",
       "</div>"
      ],
      "text/plain": [
       "     origin_europe  origin_japan  origin_usa\n",
       "0                0             0           1\n",
       "1                0             0           1\n",
       "2                0             0           1\n",
       "3                0             0           1\n",
       "4                0             0           1\n",
       "..             ...           ...         ...\n",
       "393              0             0           1\n",
       "394              1             0           0\n",
       "395              0             0           1\n",
       "396              0             0           1\n",
       "397              0             0           1\n",
       "\n",
       "[392 rows x 3 columns]"
      ]
     },
     "execution_count": 16,
     "metadata": {},
     "output_type": "execute_result"
    }
   ],
   "source": [
    "pd.get_dummies(data[['origin']])"
   ]
  },
  {
   "cell_type": "markdown",
   "metadata": {},
   "source": [
    "Using the `pandas.get_dummies`, we can build a new design matrix which extends our previous features with the additional one-hot encoded columns."
   ]
  },
  {
   "cell_type": "code",
   "execution_count": 17,
   "metadata": {},
   "outputs": [
    {
     "data": {
      "text/html": [
       "<div>\n",
       "<style scoped>\n",
       "    .dataframe tbody tr th:only-of-type {\n",
       "        vertical-align: middle;\n",
       "    }\n",
       "\n",
       "    .dataframe tbody tr th {\n",
       "        vertical-align: top;\n",
       "    }\n",
       "\n",
       "    .dataframe thead th {\n",
       "        text-align: right;\n",
       "    }\n",
       "</style>\n",
       "<table border=\"1\" class=\"dataframe\">\n",
       "  <thead>\n",
       "    <tr style=\"text-align: right;\">\n",
       "      <th></th>\n",
       "      <th>cylinders</th>\n",
       "      <th>displacement</th>\n",
       "      <th>horsepower</th>\n",
       "      <th>weight</th>\n",
       "      <th>acceleration</th>\n",
       "      <th>model_year</th>\n",
       "      <th>cylinders^2</th>\n",
       "      <th>cylinders^3</th>\n",
       "      <th>log(cylinders)</th>\n",
       "      <th>sin(cylinders)</th>\n",
       "      <th>...</th>\n",
       "      <th>log(acceleration)</th>\n",
       "      <th>sin(acceleration)</th>\n",
       "      <th>model_year^2</th>\n",
       "      <th>model_year^3</th>\n",
       "      <th>log(model_year)</th>\n",
       "      <th>sin(model_year)</th>\n",
       "      <th>displacement/cylinder</th>\n",
       "      <th>origin_europe</th>\n",
       "      <th>origin_japan</th>\n",
       "      <th>origin_usa</th>\n",
       "    </tr>\n",
       "  </thead>\n",
       "  <tbody>\n",
       "    <tr>\n",
       "      <th>0</th>\n",
       "      <td>8</td>\n",
       "      <td>307.0</td>\n",
       "      <td>130.0</td>\n",
       "      <td>3504</td>\n",
       "      <td>12.0</td>\n",
       "      <td>70</td>\n",
       "      <td>64</td>\n",
       "      <td>512</td>\n",
       "      <td>2.079442</td>\n",
       "      <td>0.989358</td>\n",
       "      <td>...</td>\n",
       "      <td>2.484907</td>\n",
       "      <td>-0.536573</td>\n",
       "      <td>4900</td>\n",
       "      <td>343000</td>\n",
       "      <td>4.248495</td>\n",
       "      <td>0.773891</td>\n",
       "      <td>38.375</td>\n",
       "      <td>0</td>\n",
       "      <td>0</td>\n",
       "      <td>1</td>\n",
       "    </tr>\n",
       "    <tr>\n",
       "      <th>1</th>\n",
       "      <td>8</td>\n",
       "      <td>350.0</td>\n",
       "      <td>165.0</td>\n",
       "      <td>3693</td>\n",
       "      <td>11.5</td>\n",
       "      <td>70</td>\n",
       "      <td>64</td>\n",
       "      <td>512</td>\n",
       "      <td>2.079442</td>\n",
       "      <td>0.989358</td>\n",
       "      <td>...</td>\n",
       "      <td>2.442347</td>\n",
       "      <td>-0.875452</td>\n",
       "      <td>4900</td>\n",
       "      <td>343000</td>\n",
       "      <td>4.248495</td>\n",
       "      <td>0.773891</td>\n",
       "      <td>43.750</td>\n",
       "      <td>0</td>\n",
       "      <td>0</td>\n",
       "      <td>1</td>\n",
       "    </tr>\n",
       "    <tr>\n",
       "      <th>2</th>\n",
       "      <td>8</td>\n",
       "      <td>318.0</td>\n",
       "      <td>150.0</td>\n",
       "      <td>3436</td>\n",
       "      <td>11.0</td>\n",
       "      <td>70</td>\n",
       "      <td>64</td>\n",
       "      <td>512</td>\n",
       "      <td>2.079442</td>\n",
       "      <td>0.989358</td>\n",
       "      <td>...</td>\n",
       "      <td>2.397895</td>\n",
       "      <td>-0.999990</td>\n",
       "      <td>4900</td>\n",
       "      <td>343000</td>\n",
       "      <td>4.248495</td>\n",
       "      <td>0.773891</td>\n",
       "      <td>39.750</td>\n",
       "      <td>0</td>\n",
       "      <td>0</td>\n",
       "      <td>1</td>\n",
       "    </tr>\n",
       "    <tr>\n",
       "      <th>3</th>\n",
       "      <td>8</td>\n",
       "      <td>304.0</td>\n",
       "      <td>150.0</td>\n",
       "      <td>3433</td>\n",
       "      <td>12.0</td>\n",
       "      <td>70</td>\n",
       "      <td>64</td>\n",
       "      <td>512</td>\n",
       "      <td>2.079442</td>\n",
       "      <td>0.989358</td>\n",
       "      <td>...</td>\n",
       "      <td>2.484907</td>\n",
       "      <td>-0.536573</td>\n",
       "      <td>4900</td>\n",
       "      <td>343000</td>\n",
       "      <td>4.248495</td>\n",
       "      <td>0.773891</td>\n",
       "      <td>38.000</td>\n",
       "      <td>0</td>\n",
       "      <td>0</td>\n",
       "      <td>1</td>\n",
       "    </tr>\n",
       "    <tr>\n",
       "      <th>4</th>\n",
       "      <td>8</td>\n",
       "      <td>302.0</td>\n",
       "      <td>140.0</td>\n",
       "      <td>3449</td>\n",
       "      <td>10.5</td>\n",
       "      <td>70</td>\n",
       "      <td>64</td>\n",
       "      <td>512</td>\n",
       "      <td>2.079442</td>\n",
       "      <td>0.989358</td>\n",
       "      <td>...</td>\n",
       "      <td>2.351375</td>\n",
       "      <td>-0.879696</td>\n",
       "      <td>4900</td>\n",
       "      <td>343000</td>\n",
       "      <td>4.248495</td>\n",
       "      <td>0.773891</td>\n",
       "      <td>37.750</td>\n",
       "      <td>0</td>\n",
       "      <td>0</td>\n",
       "      <td>1</td>\n",
       "    </tr>\n",
       "    <tr>\n",
       "      <th>...</th>\n",
       "      <td>...</td>\n",
       "      <td>...</td>\n",
       "      <td>...</td>\n",
       "      <td>...</td>\n",
       "      <td>...</td>\n",
       "      <td>...</td>\n",
       "      <td>...</td>\n",
       "      <td>...</td>\n",
       "      <td>...</td>\n",
       "      <td>...</td>\n",
       "      <td>...</td>\n",
       "      <td>...</td>\n",
       "      <td>...</td>\n",
       "      <td>...</td>\n",
       "      <td>...</td>\n",
       "      <td>...</td>\n",
       "      <td>...</td>\n",
       "      <td>...</td>\n",
       "      <td>...</td>\n",
       "      <td>...</td>\n",
       "      <td>...</td>\n",
       "    </tr>\n",
       "    <tr>\n",
       "      <th>393</th>\n",
       "      <td>4</td>\n",
       "      <td>140.0</td>\n",
       "      <td>86.0</td>\n",
       "      <td>2790</td>\n",
       "      <td>15.6</td>\n",
       "      <td>82</td>\n",
       "      <td>16</td>\n",
       "      <td>64</td>\n",
       "      <td>1.386294</td>\n",
       "      <td>-0.756802</td>\n",
       "      <td>...</td>\n",
       "      <td>2.747271</td>\n",
       "      <td>0.107754</td>\n",
       "      <td>6724</td>\n",
       "      <td>551368</td>\n",
       "      <td>4.406719</td>\n",
       "      <td>0.313229</td>\n",
       "      <td>35.000</td>\n",
       "      <td>0</td>\n",
       "      <td>0</td>\n",
       "      <td>1</td>\n",
       "    </tr>\n",
       "    <tr>\n",
       "      <th>394</th>\n",
       "      <td>4</td>\n",
       "      <td>97.0</td>\n",
       "      <td>52.0</td>\n",
       "      <td>2130</td>\n",
       "      <td>24.6</td>\n",
       "      <td>82</td>\n",
       "      <td>16</td>\n",
       "      <td>64</td>\n",
       "      <td>1.386294</td>\n",
       "      <td>-0.756802</td>\n",
       "      <td>...</td>\n",
       "      <td>3.202746</td>\n",
       "      <td>-0.507897</td>\n",
       "      <td>6724</td>\n",
       "      <td>551368</td>\n",
       "      <td>4.406719</td>\n",
       "      <td>0.313229</td>\n",
       "      <td>24.250</td>\n",
       "      <td>1</td>\n",
       "      <td>0</td>\n",
       "      <td>0</td>\n",
       "    </tr>\n",
       "    <tr>\n",
       "      <th>395</th>\n",
       "      <td>4</td>\n",
       "      <td>135.0</td>\n",
       "      <td>84.0</td>\n",
       "      <td>2295</td>\n",
       "      <td>11.6</td>\n",
       "      <td>82</td>\n",
       "      <td>16</td>\n",
       "      <td>64</td>\n",
       "      <td>1.386294</td>\n",
       "      <td>-0.756802</td>\n",
       "      <td>...</td>\n",
       "      <td>2.451005</td>\n",
       "      <td>-0.822829</td>\n",
       "      <td>6724</td>\n",
       "      <td>551368</td>\n",
       "      <td>4.406719</td>\n",
       "      <td>0.313229</td>\n",
       "      <td>33.750</td>\n",
       "      <td>0</td>\n",
       "      <td>0</td>\n",
       "      <td>1</td>\n",
       "    </tr>\n",
       "    <tr>\n",
       "      <th>396</th>\n",
       "      <td>4</td>\n",
       "      <td>120.0</td>\n",
       "      <td>79.0</td>\n",
       "      <td>2625</td>\n",
       "      <td>18.6</td>\n",
       "      <td>82</td>\n",
       "      <td>16</td>\n",
       "      <td>64</td>\n",
       "      <td>1.386294</td>\n",
       "      <td>-0.756802</td>\n",
       "      <td>...</td>\n",
       "      <td>2.923162</td>\n",
       "      <td>-0.246974</td>\n",
       "      <td>6724</td>\n",
       "      <td>551368</td>\n",
       "      <td>4.406719</td>\n",
       "      <td>0.313229</td>\n",
       "      <td>30.000</td>\n",
       "      <td>0</td>\n",
       "      <td>0</td>\n",
       "      <td>1</td>\n",
       "    </tr>\n",
       "    <tr>\n",
       "      <th>397</th>\n",
       "      <td>4</td>\n",
       "      <td>119.0</td>\n",
       "      <td>82.0</td>\n",
       "      <td>2720</td>\n",
       "      <td>19.4</td>\n",
       "      <td>82</td>\n",
       "      <td>16</td>\n",
       "      <td>64</td>\n",
       "      <td>1.386294</td>\n",
       "      <td>-0.756802</td>\n",
       "      <td>...</td>\n",
       "      <td>2.965273</td>\n",
       "      <td>0.523066</td>\n",
       "      <td>6724</td>\n",
       "      <td>551368</td>\n",
       "      <td>4.406719</td>\n",
       "      <td>0.313229</td>\n",
       "      <td>29.750</td>\n",
       "      <td>0</td>\n",
       "      <td>0</td>\n",
       "      <td>1</td>\n",
       "    </tr>\n",
       "  </tbody>\n",
       "</table>\n",
       "<p>392 rows × 34 columns</p>\n",
       "</div>"
      ],
      "text/plain": [
       "     cylinders  displacement  horsepower  weight  acceleration  model_year  \\\n",
       "0            8         307.0       130.0    3504          12.0          70   \n",
       "1            8         350.0       165.0    3693          11.5          70   \n",
       "2            8         318.0       150.0    3436          11.0          70   \n",
       "3            8         304.0       150.0    3433          12.0          70   \n",
       "4            8         302.0       140.0    3449          10.5          70   \n",
       "..         ...           ...         ...     ...           ...         ...   \n",
       "393          4         140.0        86.0    2790          15.6          82   \n",
       "394          4          97.0        52.0    2130          24.6          82   \n",
       "395          4         135.0        84.0    2295          11.6          82   \n",
       "396          4         120.0        79.0    2625          18.6          82   \n",
       "397          4         119.0        82.0    2720          19.4          82   \n",
       "\n",
       "     cylinders^2  cylinders^3  log(cylinders)  sin(cylinders)  ...  \\\n",
       "0             64          512        2.079442        0.989358  ...   \n",
       "1             64          512        2.079442        0.989358  ...   \n",
       "2             64          512        2.079442        0.989358  ...   \n",
       "3             64          512        2.079442        0.989358  ...   \n",
       "4             64          512        2.079442        0.989358  ...   \n",
       "..           ...          ...             ...             ...  ...   \n",
       "393           16           64        1.386294       -0.756802  ...   \n",
       "394           16           64        1.386294       -0.756802  ...   \n",
       "395           16           64        1.386294       -0.756802  ...   \n",
       "396           16           64        1.386294       -0.756802  ...   \n",
       "397           16           64        1.386294       -0.756802  ...   \n",
       "\n",
       "     log(acceleration)  sin(acceleration)  model_year^2  model_year^3  \\\n",
       "0             2.484907          -0.536573          4900        343000   \n",
       "1             2.442347          -0.875452          4900        343000   \n",
       "2             2.397895          -0.999990          4900        343000   \n",
       "3             2.484907          -0.536573          4900        343000   \n",
       "4             2.351375          -0.879696          4900        343000   \n",
       "..                 ...                ...           ...           ...   \n",
       "393           2.747271           0.107754          6724        551368   \n",
       "394           3.202746          -0.507897          6724        551368   \n",
       "395           2.451005          -0.822829          6724        551368   \n",
       "396           2.923162          -0.246974          6724        551368   \n",
       "397           2.965273           0.523066          6724        551368   \n",
       "\n",
       "     log(model_year)  sin(model_year)  displacement/cylinder  origin_europe  \\\n",
       "0           4.248495         0.773891                 38.375              0   \n",
       "1           4.248495         0.773891                 43.750              0   \n",
       "2           4.248495         0.773891                 39.750              0   \n",
       "3           4.248495         0.773891                 38.000              0   \n",
       "4           4.248495         0.773891                 37.750              0   \n",
       "..               ...              ...                    ...            ...   \n",
       "393         4.406719         0.313229                 35.000              0   \n",
       "394         4.406719         0.313229                 24.250              1   \n",
       "395         4.406719         0.313229                 33.750              0   \n",
       "396         4.406719         0.313229                 30.000              0   \n",
       "397         4.406719         0.313229                 29.750              0   \n",
       "\n",
       "     origin_japan  origin_usa  \n",
       "0               0           1  \n",
       "1               0           1  \n",
       "2               0           1  \n",
       "3               0           1  \n",
       "4               0           1  \n",
       "..            ...         ...  \n",
       "393             0           1  \n",
       "394             0           0  \n",
       "395             0           1  \n",
       "396             0           1  \n",
       "397             0           1  \n",
       "\n",
       "[392 rows x 34 columns]"
      ]
     },
     "execution_count": 17,
     "metadata": {},
     "output_type": "execute_result"
    }
   ],
   "source": [
    "def pandas_ohe_design_matrix(df):\n",
    "    X = displacement_design_matrix(df)\n",
    "    return X.join(pd.get_dummies(df[['origin']]))\n",
    "\n",
    "pandas_ohe_design_matrix(data)"
   ]
  },
  {
   "cell_type": "code",
   "execution_count": 18,
   "metadata": {},
   "outputs": [
    {
     "name": "stdout",
     "output_type": "stream",
     "text": [
      "Root Mean Squared Error: 2.4675755658965426\n"
     ]
    },
    {
     "data": {
      "application/vnd.plotly.v1+json": {
       "config": {
        "plotlyServerURL": "https://plot.ly"
       },
       "data": [
        {
         "mode": "markers",
         "type": "scatter",
         "x": [
          17.544524331071443,
          15.214766188740214,
          16.637357511259324,
          15.335996226477619,
          17.230862049924326,
          13.603876183157809,
          13.562118125008965,
          13.813349201784149,
          14.250077306515777,
          13.7876913105747,
          15.213895941064948,
          15.198256570487501,
          16.767887703120323,
          14.58494788241751,
          25.70349003379306,
          19.388970626364426,
          19.81899551016886,
          21.520271461758057,
          28.428483630692426,
          30.711777154596348,
          23.52160173417451,
          25.422919858637215,
          24.918763117368144,
          25.241793329923894,
          21.08114546552588,
          11.61329768264386,
          11.351720780439791,
          12.391242698169663,
          9.72409387105381,
          27.043790044478556,
          22.718214485686985,
          25.50099259953913,
          20.435095848014498,
          16.03639194013067,
          17.004407087212712,
          17.96317570532392,
          16.55105542346155,
          13.744695358883291,
          13.51789125452342,
          13.026954617724186,
          13.597837966232873,
          12.609321828293105,
          13.277100317944132,
          11.812431758731691,
          17.895048181069797,
          22.259348452467748,
          17.230996498495188,
          18.673714626057517,
          24.356086044423137,
          25.181555351899988,
          28.70290622122593,
          28.435794216644354,
          30.886944761282393,
          29.88238994085623,
          27.374403795504804,
          26.672469528718466,
          24.34939049555487,
          25.638373691525885,
          29.79608469517916,
          20.43110669831185,
          23.214709687553295,
          13.527543878983124,
          12.763955478873868,
          12.8801864349698,
          13.201822635668577,
          13.97370314757427,
          11.789276714074731,
          12.895565778453602,
          12.507210611955088,
          11.669204944638295,
          18.26531046666878,
          13.119474709803399,
          14.177537486079927,
          12.265569634695566,
          12.416032411732886,
          18.652440060364825,
          22.34721990539765,
          18.972365809387156,
          26.04970111509374,
          22.51581639151209,
          25.182128029397973,
          22.83389022519532,
          26.08537297521343,
          26.33353789485318,
          12.14180207717709,
          14.376618450190108,
          14.207470916287093,
          13.14411368427227,
          14.013882064465179,
          11.259806388815377,
          14.962166516001162,
          13.408628484002293,
          12.664296893558458,
          12.457589228861252,
          12.178455393303011,
          12.936702950932158,
          16.578898379632847,
          16.52370970967968,
          17.540614292102873,
          18.623542001088026,
          17.748588047387784,
          29.78602867799509,
          12.405899853551091,
          12.791517357365592,
          11.905985076407887,
          12.682977970712273,
          18.412728077103566,
          25.062971145907795,
          22.255762170946582,
          24.036784836465813,
          20.055027372032782,
          22.556322846827243,
          20.924280757738416,
          25.620128649715298,
          14.290187122452153,
          14.871796427782101,
          33.694639431139876,
          25.67947980790632,
          22.978223449958932,
          18.974750132400914,
          15.421213350086873,
          20.73887658351032,
          19.647589912134208,
          13.422041244440152,
          17.527443440279967,
          18.272038456118935,
          17.374139232792913,
          30.82637812631401,
          23.55792955085144,
          31.891605792219707,
          22.861449337086015,
          17.13012426536352,
          15.5801590615647,
          16.419330982945212,
          13.84099859827711,
          13.481825168688374,
          14.080132884523664,
          13.318856359742313,
          12.344121276812075,
          26.725005148729906,
          31.16400056071143,
          26.982965272750334,
          32.50696190647068,
          30.191319937188382,
          28.01640880816558,
          28.155836116334285,
          26.54193107145784,
          23.682424404879384,
          24.800089510194084,
          31.03273232578067,
          18.141307757069626,
          17.514668881093712,
          19.136827858853394,
          19.357912607910293,
          14.937303117660122,
          14.72305372521896,
          13.848596485310736,
          14.79313587231809,
          15.811285140242944,
          16.656736971800456,
          15.588099884686017,
          16.70863057123188,
          17.88423579733626,
          18.091125889633076,
          17.483946856708826,
          28.614096842256004,
          22.23263225319897,
          18.697531918059212,
          22.219011372064415,
          23.634959161298866,
          28.352085147288562,
          23.852539435320068,
          18.763624089971927,
          30.005217942702984,
          18.322084806600287,
          22.525775746591535,
          21.423190813292422,
          21.157702139134017,
          21.714760478515927,
          31.520291196426115,
          25.551341412411603,
          26.2974825199517,
          22.934508573514904,
          27.096213677220476,
          27.388179133597077,
          16.0900774747397,
          15.403854129001047,
          16.40057691481161,
          15.55694897433932,
          18.498051782081347,
          18.6414362994783,
          19.889736763650035,
          19.00459720442086,
          32.45009655001013,
          29.657924935671872,
          30.43072668100649,
          32.119320602239895,
          17.46736801199677,
          19.09869130458719,
          17.543432127631604,
          18.43034981911569,
          31.52882950743333,
          31.42193065552874,
          29.162621129778017,
          25.30696563427591,
          20.914085772950784,
          14.992646571523437,
          21.12185567792676,
          20.85302146921549,
          17.082882027657433,
          14.637456350888897,
          16.88270824094252,
          14.997791578767647,
          14.203073403432427,
          30.5727983753668,
          28.34003720419969,
          33.013571906972174,
          25.288745159636164,
          32.49169017065287,
          16.874846110211365,
          16.50508516085756,
          16.095888482209375,
          16.36382973875243,
          18.532655305792105,
          18.57211087203541,
          18.4379678085661,
          18.477860780293668,
          16.070514181908948,
          16.58222157344335,
          14.900035729686351,
          15.482182275111882,
          30.050819303091885,
          23.499331623151193,
          29.067108962104612,
          23.01012978719973,
          30.419471511700976,
          28.90710304811364,
          31.241013013177508,
          29.704461824469945,
          23.252205446076914,
          24.688439778926295,
          17.847444701429595,
          34.32928582956356,
          32.26034010058174,
          35.661113179989115,
          33.05404618783177,
          33.98929879682055,
          19.144900205605154,
          18.18237893623791,
          18.250247152472184,
          18.997636577700177,
          20.58959940760724,
          22.66255188039213,
          24.80840890095078,
          20.24169088414601,
          21.27595866561387,
          20.32561124352469,
          22.139737856410648,
          18.66847924024478,
          19.185153523688314,
          17.71946564051268,
          16.533526430994243,
          20.195428926378554,
          17.954164757110448,
          31.237369304153617,
          26.895134684223194,
          28.649412293799287,
          30.476982812645474,
          26.818194253611182,
          24.03770208410333,
          24.274751673611718,
          28.051742930018918,
          26.389861316662973,
          20.862893169221934,
          23.049710228063304,
          18.617352413613844,
          32.53555795294051,
          32.527785480034254,
          21.498061335087186,
          23.508983907881884,
          25.307139412069773,
          22.402115418031826,
          21.367869203961163,
          19.2682787653348,
          20.16200010614193,
          20.22864022115664,
          19.04702225921301,
          18.072672704865,
          19.092598730420832,
          19.701583457628658,
          18.71519783547319,
          34.73622443482054,
          36.57494695156856,
          32.95892995173472,
          27.759685307396467,
          25.39284628353016,
          19.609910658146873,
          29.810178344702763,
          22.33730255796945,
          33.67984723442805,
          32.70071677098622,
          35.0338132741399,
          34.20315019707323,
          26.82883713706906,
          26.93756547756675,
          24.92751957119799,
          28.82563372403456,
          34.46068831568573,
          36.176327102059076,
          34.34639176730616,
          37.591574513950036,
          28.020421377919774,
          26.359290732602858,
          25.463297689251704,
          23.387045021556332,
          33.54239413198957,
          28.987850875838376,
          30.944517574296697,
          31.240357630297694,
          33.319191317244076,
          36.87533568598519,
          27.394806904831967,
          36.121452099199814,
          37.2918560853841,
          38.56589306528713,
          30.318119438864414,
          27.655504371680763,
          37.366245614723994,
          34.792747931516715,
          36.19928821651774,
          27.001866521878583,
          26.032524264715903,
          29.896078670358293,
          33.43615543785472,
          30.178466272188416,
          29.307572627946683,
          29.860394499824906,
          27.451689595894095,
          32.379670801155044,
          39.345802019287476,
          37.10339587555063,
          39.07332735418095,
          35.72507312825928,
          36.962651452190585,
          37.11147340829939,
          37.018544366410424,
          35.0217782560303,
          35.48378739651707,
          33.09014027108606,
          34.920123213541046,
          34.84563447248547,
          33.20586645580079,
          30.392837240397057,
          30.808869856122328,
          26.545627054806573,
          26.4787752011498,
          27.9010397609527,
          26.461891463834945,
          23.469736386024124,
          22.392899534251228,
          25.431504803418647,
          25.095721424219846,
          29.04907912109411,
          29.23718267505683,
          30.76744083644371,
          30.633888437583664,
          29.902658316531415,
          27.8111285422965,
          27.235777216379574,
          34.979186262277835,
          36.23282524527167,
          36.57656740476523,
          35.406207531661494,
          34.504245111696946,
          33.13795028975346,
          34.780136510344164,
          34.04773185390968,
          37.317850698469556,
          37.14375389486668,
          37.0288533471612,
          24.48585343756349,
          26.633506989506714,
          29.950469736502782,
          24.99102654672697,
          30.577324254462837,
          32.32460041298236,
          27.189023202350654,
          28.15318343434592,
          39.864021962407605,
          34.04782527194311,
          29.029609838978104,
          28.450080725423504
         ],
         "xaxis": "x",
         "y": [
          18,
          15,
          18,
          16,
          17,
          15,
          14,
          14,
          14,
          15,
          15,
          14,
          15,
          14,
          24,
          22,
          18,
          21,
          27,
          26,
          25,
          24,
          25,
          26,
          21,
          10,
          10,
          11,
          9,
          27,
          28,
          25,
          19,
          16,
          17,
          19,
          18,
          14,
          14,
          14,
          14,
          12,
          13,
          13,
          18,
          22,
          19,
          18,
          23,
          28,
          30,
          30,
          31,
          35,
          27,
          26,
          24,
          25,
          23,
          20,
          21,
          13,
          14,
          15,
          14,
          17,
          11,
          13,
          12,
          13,
          19,
          15,
          13,
          13,
          14,
          18,
          22,
          21,
          26,
          22,
          28,
          23,
          28,
          27,
          13,
          14,
          13,
          14,
          15,
          12,
          13,
          13,
          14,
          13,
          12,
          13,
          18,
          16,
          18,
          18,
          23,
          26,
          11,
          12,
          13,
          12,
          18,
          20,
          21,
          22,
          18,
          19,
          21,
          26,
          15,
          16,
          29,
          24,
          20,
          19,
          15,
          24,
          20,
          11,
          20,
          19,
          15,
          31,
          26,
          32,
          25,
          16,
          16,
          18,
          16,
          13,
          14,
          14,
          14,
          29,
          26,
          26,
          31,
          32,
          28,
          24,
          26,
          24,
          26,
          31,
          19,
          18,
          15,
          15,
          16,
          15,
          16,
          14,
          17,
          16,
          15,
          18,
          21,
          20,
          13,
          29,
          23,
          20,
          23,
          24,
          25,
          24,
          18,
          29,
          19,
          23,
          23,
          22,
          25,
          33,
          28,
          25,
          25,
          26,
          27,
          17.5,
          16,
          15.5,
          14.5,
          22,
          22,
          24,
          22.5,
          29,
          24.5,
          29,
          33,
          20,
          18,
          18.5,
          17.5,
          29.5,
          32,
          28,
          26.5,
          20,
          13,
          19,
          19,
          16.5,
          16.5,
          13,
          13,
          13,
          31.5,
          30,
          36,
          25.5,
          33.5,
          17.5,
          17,
          15.5,
          15,
          17.5,
          20.5,
          19,
          18.5,
          16,
          15.5,
          15.5,
          16,
          29,
          24.5,
          26,
          25.5,
          30.5,
          33.5,
          30,
          30.5,
          22,
          21.5,
          21.5,
          43.1,
          36.1,
          32.8,
          39.4,
          36.1,
          19.9,
          19.4,
          20.2,
          19.2,
          20.5,
          20.2,
          25.1,
          20.5,
          19.4,
          20.6,
          20.8,
          18.6,
          18.1,
          19.2,
          17.7,
          18.1,
          17.5,
          30,
          27.5,
          27.2,
          30.9,
          21.1,
          23.2,
          23.8,
          23.9,
          20.3,
          17,
          21.6,
          16.2,
          31.5,
          29.5,
          21.5,
          19.8,
          22.3,
          20.2,
          20.6,
          17,
          17.6,
          16.5,
          18.2,
          16.9,
          15.5,
          19.2,
          18.5,
          31.9,
          34.1,
          35.7,
          27.4,
          25.4,
          23,
          27.2,
          23.9,
          34.2,
          34.5,
          31.8,
          37.3,
          28.4,
          28.8,
          26.8,
          33.5,
          41.5,
          38.1,
          32.1,
          37.2,
          28,
          26.4,
          24.3,
          19.1,
          34.3,
          29.8,
          31.3,
          37,
          32.2,
          46.6,
          27.9,
          40.8,
          44.3,
          43.4,
          36.4,
          30,
          44.6,
          33.8,
          29.8,
          32.7,
          23.7,
          35,
          32.4,
          27.2,
          26.6,
          25.8,
          23.5,
          30,
          39.1,
          39,
          35.1,
          32.3,
          37,
          37.7,
          34.1,
          34.7,
          34.4,
          29.9,
          33,
          33.7,
          32.4,
          32.9,
          31.6,
          28.1,
          30.7,
          25.4,
          24.2,
          22.4,
          26.6,
          20.2,
          17.6,
          28,
          27,
          34,
          31,
          29,
          27,
          24,
          36,
          37,
          31,
          38,
          36,
          36,
          36,
          34,
          38,
          32,
          38,
          25,
          38,
          26,
          22,
          32,
          36,
          27,
          27,
          44,
          32,
          28,
          31
         ],
         "yaxis": "y"
        },
        {
         "name": "y=yhat",
         "type": "scatter",
         "x": [
          9.72409387105381,
          39.864021962407605
         ],
         "xaxis": "x",
         "y": [
          9.72409387105381,
          39.864021962407605
         ],
         "yaxis": "y"
        },
        {
         "type": "bar",
         "x": [
          "basic",
          "nonlinear",
          "displacement",
          "ohe"
         ],
         "xaxis": "x2",
         "y": [
          3.4044340177796406,
          2.4964145836114002,
          2.4900607098696863,
          2.4675755658965426
         ],
         "yaxis": "y2"
        }
       ],
       "layout": {
        "showlegend": false,
        "template": {
         "data": {
          "bar": [
           {
            "error_x": {
             "color": "#2a3f5f"
            },
            "error_y": {
             "color": "#2a3f5f"
            },
            "marker": {
             "line": {
              "color": "#E5ECF6",
              "width": 0.5
             },
             "pattern": {
              "fillmode": "overlay",
              "size": 10,
              "solidity": 0.2
             }
            },
            "type": "bar"
           }
          ],
          "barpolar": [
           {
            "marker": {
             "line": {
              "color": "#E5ECF6",
              "width": 0.5
             },
             "pattern": {
              "fillmode": "overlay",
              "size": 10,
              "solidity": 0.2
             }
            },
            "type": "barpolar"
           }
          ],
          "carpet": [
           {
            "aaxis": {
             "endlinecolor": "#2a3f5f",
             "gridcolor": "white",
             "linecolor": "white",
             "minorgridcolor": "white",
             "startlinecolor": "#2a3f5f"
            },
            "baxis": {
             "endlinecolor": "#2a3f5f",
             "gridcolor": "white",
             "linecolor": "white",
             "minorgridcolor": "white",
             "startlinecolor": "#2a3f5f"
            },
            "type": "carpet"
           }
          ],
          "choropleth": [
           {
            "colorbar": {
             "outlinewidth": 0,
             "ticks": ""
            },
            "type": "choropleth"
           }
          ],
          "contour": [
           {
            "colorbar": {
             "outlinewidth": 0,
             "ticks": ""
            },
            "colorscale": [
             [
              0,
              "#0d0887"
             ],
             [
              0.1111111111111111,
              "#46039f"
             ],
             [
              0.2222222222222222,
              "#7201a8"
             ],
             [
              0.3333333333333333,
              "#9c179e"
             ],
             [
              0.4444444444444444,
              "#bd3786"
             ],
             [
              0.5555555555555556,
              "#d8576b"
             ],
             [
              0.6666666666666666,
              "#ed7953"
             ],
             [
              0.7777777777777778,
              "#fb9f3a"
             ],
             [
              0.8888888888888888,
              "#fdca26"
             ],
             [
              1,
              "#f0f921"
             ]
            ],
            "type": "contour"
           }
          ],
          "contourcarpet": [
           {
            "colorbar": {
             "outlinewidth": 0,
             "ticks": ""
            },
            "type": "contourcarpet"
           }
          ],
          "heatmap": [
           {
            "colorbar": {
             "outlinewidth": 0,
             "ticks": ""
            },
            "colorscale": [
             [
              0,
              "#0d0887"
             ],
             [
              0.1111111111111111,
              "#46039f"
             ],
             [
              0.2222222222222222,
              "#7201a8"
             ],
             [
              0.3333333333333333,
              "#9c179e"
             ],
             [
              0.4444444444444444,
              "#bd3786"
             ],
             [
              0.5555555555555556,
              "#d8576b"
             ],
             [
              0.6666666666666666,
              "#ed7953"
             ],
             [
              0.7777777777777778,
              "#fb9f3a"
             ],
             [
              0.8888888888888888,
              "#fdca26"
             ],
             [
              1,
              "#f0f921"
             ]
            ],
            "type": "heatmap"
           }
          ],
          "heatmapgl": [
           {
            "colorbar": {
             "outlinewidth": 0,
             "ticks": ""
            },
            "colorscale": [
             [
              0,
              "#0d0887"
             ],
             [
              0.1111111111111111,
              "#46039f"
             ],
             [
              0.2222222222222222,
              "#7201a8"
             ],
             [
              0.3333333333333333,
              "#9c179e"
             ],
             [
              0.4444444444444444,
              "#bd3786"
             ],
             [
              0.5555555555555556,
              "#d8576b"
             ],
             [
              0.6666666666666666,
              "#ed7953"
             ],
             [
              0.7777777777777778,
              "#fb9f3a"
             ],
             [
              0.8888888888888888,
              "#fdca26"
             ],
             [
              1,
              "#f0f921"
             ]
            ],
            "type": "heatmapgl"
           }
          ],
          "histogram": [
           {
            "marker": {
             "pattern": {
              "fillmode": "overlay",
              "size": 10,
              "solidity": 0.2
             }
            },
            "type": "histogram"
           }
          ],
          "histogram2d": [
           {
            "colorbar": {
             "outlinewidth": 0,
             "ticks": ""
            },
            "colorscale": [
             [
              0,
              "#0d0887"
             ],
             [
              0.1111111111111111,
              "#46039f"
             ],
             [
              0.2222222222222222,
              "#7201a8"
             ],
             [
              0.3333333333333333,
              "#9c179e"
             ],
             [
              0.4444444444444444,
              "#bd3786"
             ],
             [
              0.5555555555555556,
              "#d8576b"
             ],
             [
              0.6666666666666666,
              "#ed7953"
             ],
             [
              0.7777777777777778,
              "#fb9f3a"
             ],
             [
              0.8888888888888888,
              "#fdca26"
             ],
             [
              1,
              "#f0f921"
             ]
            ],
            "type": "histogram2d"
           }
          ],
          "histogram2dcontour": [
           {
            "colorbar": {
             "outlinewidth": 0,
             "ticks": ""
            },
            "colorscale": [
             [
              0,
              "#0d0887"
             ],
             [
              0.1111111111111111,
              "#46039f"
             ],
             [
              0.2222222222222222,
              "#7201a8"
             ],
             [
              0.3333333333333333,
              "#9c179e"
             ],
             [
              0.4444444444444444,
              "#bd3786"
             ],
             [
              0.5555555555555556,
              "#d8576b"
             ],
             [
              0.6666666666666666,
              "#ed7953"
             ],
             [
              0.7777777777777778,
              "#fb9f3a"
             ],
             [
              0.8888888888888888,
              "#fdca26"
             ],
             [
              1,
              "#f0f921"
             ]
            ],
            "type": "histogram2dcontour"
           }
          ],
          "mesh3d": [
           {
            "colorbar": {
             "outlinewidth": 0,
             "ticks": ""
            },
            "type": "mesh3d"
           }
          ],
          "parcoords": [
           {
            "line": {
             "colorbar": {
              "outlinewidth": 0,
              "ticks": ""
             }
            },
            "type": "parcoords"
           }
          ],
          "pie": [
           {
            "automargin": true,
            "type": "pie"
           }
          ],
          "scatter": [
           {
            "fillpattern": {
             "fillmode": "overlay",
             "size": 10,
             "solidity": 0.2
            },
            "type": "scatter"
           }
          ],
          "scatter3d": [
           {
            "line": {
             "colorbar": {
              "outlinewidth": 0,
              "ticks": ""
             }
            },
            "marker": {
             "colorbar": {
              "outlinewidth": 0,
              "ticks": ""
             }
            },
            "type": "scatter3d"
           }
          ],
          "scattercarpet": [
           {
            "marker": {
             "colorbar": {
              "outlinewidth": 0,
              "ticks": ""
             }
            },
            "type": "scattercarpet"
           }
          ],
          "scattergeo": [
           {
            "marker": {
             "colorbar": {
              "outlinewidth": 0,
              "ticks": ""
             }
            },
            "type": "scattergeo"
           }
          ],
          "scattergl": [
           {
            "marker": {
             "colorbar": {
              "outlinewidth": 0,
              "ticks": ""
             }
            },
            "type": "scattergl"
           }
          ],
          "scattermapbox": [
           {
            "marker": {
             "colorbar": {
              "outlinewidth": 0,
              "ticks": ""
             }
            },
            "type": "scattermapbox"
           }
          ],
          "scatterpolar": [
           {
            "marker": {
             "colorbar": {
              "outlinewidth": 0,
              "ticks": ""
             }
            },
            "type": "scatterpolar"
           }
          ],
          "scatterpolargl": [
           {
            "marker": {
             "colorbar": {
              "outlinewidth": 0,
              "ticks": ""
             }
            },
            "type": "scatterpolargl"
           }
          ],
          "scatterternary": [
           {
            "marker": {
             "colorbar": {
              "outlinewidth": 0,
              "ticks": ""
             }
            },
            "type": "scatterternary"
           }
          ],
          "surface": [
           {
            "colorbar": {
             "outlinewidth": 0,
             "ticks": ""
            },
            "colorscale": [
             [
              0,
              "#0d0887"
             ],
             [
              0.1111111111111111,
              "#46039f"
             ],
             [
              0.2222222222222222,
              "#7201a8"
             ],
             [
              0.3333333333333333,
              "#9c179e"
             ],
             [
              0.4444444444444444,
              "#bd3786"
             ],
             [
              0.5555555555555556,
              "#d8576b"
             ],
             [
              0.6666666666666666,
              "#ed7953"
             ],
             [
              0.7777777777777778,
              "#fb9f3a"
             ],
             [
              0.8888888888888888,
              "#fdca26"
             ],
             [
              1,
              "#f0f921"
             ]
            ],
            "type": "surface"
           }
          ],
          "table": [
           {
            "cells": {
             "fill": {
              "color": "#EBF0F8"
             },
             "line": {
              "color": "white"
             }
            },
            "header": {
             "fill": {
              "color": "#C8D4E3"
             },
             "line": {
              "color": "white"
             }
            },
            "type": "table"
           }
          ]
         },
         "layout": {
          "annotationdefaults": {
           "arrowcolor": "#2a3f5f",
           "arrowhead": 0,
           "arrowwidth": 1
          },
          "autotypenumbers": "strict",
          "coloraxis": {
           "colorbar": {
            "outlinewidth": 0,
            "ticks": ""
           }
          },
          "colorscale": {
           "diverging": [
            [
             0,
             "#8e0152"
            ],
            [
             0.1,
             "#c51b7d"
            ],
            [
             0.2,
             "#de77ae"
            ],
            [
             0.3,
             "#f1b6da"
            ],
            [
             0.4,
             "#fde0ef"
            ],
            [
             0.5,
             "#f7f7f7"
            ],
            [
             0.6,
             "#e6f5d0"
            ],
            [
             0.7,
             "#b8e186"
            ],
            [
             0.8,
             "#7fbc41"
            ],
            [
             0.9,
             "#4d9221"
            ],
            [
             1,
             "#276419"
            ]
           ],
           "sequential": [
            [
             0,
             "#0d0887"
            ],
            [
             0.1111111111111111,
             "#46039f"
            ],
            [
             0.2222222222222222,
             "#7201a8"
            ],
            [
             0.3333333333333333,
             "#9c179e"
            ],
            [
             0.4444444444444444,
             "#bd3786"
            ],
            [
             0.5555555555555556,
             "#d8576b"
            ],
            [
             0.6666666666666666,
             "#ed7953"
            ],
            [
             0.7777777777777778,
             "#fb9f3a"
            ],
            [
             0.8888888888888888,
             "#fdca26"
            ],
            [
             1,
             "#f0f921"
            ]
           ],
           "sequentialminus": [
            [
             0,
             "#0d0887"
            ],
            [
             0.1111111111111111,
             "#46039f"
            ],
            [
             0.2222222222222222,
             "#7201a8"
            ],
            [
             0.3333333333333333,
             "#9c179e"
            ],
            [
             0.4444444444444444,
             "#bd3786"
            ],
            [
             0.5555555555555556,
             "#d8576b"
            ],
            [
             0.6666666666666666,
             "#ed7953"
            ],
            [
             0.7777777777777778,
             "#fb9f3a"
            ],
            [
             0.8888888888888888,
             "#fdca26"
            ],
            [
             1,
             "#f0f921"
            ]
           ]
          },
          "colorway": [
           "#636efa",
           "#EF553B",
           "#00cc96",
           "#ab63fa",
           "#FFA15A",
           "#19d3f3",
           "#FF6692",
           "#B6E880",
           "#FF97FF",
           "#FECB52"
          ],
          "font": {
           "color": "#2a3f5f"
          },
          "geo": {
           "bgcolor": "white",
           "lakecolor": "white",
           "landcolor": "#E5ECF6",
           "showlakes": true,
           "showland": true,
           "subunitcolor": "white"
          },
          "hoverlabel": {
           "align": "left"
          },
          "hovermode": "closest",
          "mapbox": {
           "style": "light"
          },
          "paper_bgcolor": "white",
          "plot_bgcolor": "#E5ECF6",
          "polar": {
           "angularaxis": {
            "gridcolor": "white",
            "linecolor": "white",
            "ticks": ""
           },
           "bgcolor": "#E5ECF6",
           "radialaxis": {
            "gridcolor": "white",
            "linecolor": "white",
            "ticks": ""
           }
          },
          "scene": {
           "xaxis": {
            "backgroundcolor": "#E5ECF6",
            "gridcolor": "white",
            "gridwidth": 2,
            "linecolor": "white",
            "showbackground": true,
            "ticks": "",
            "zerolinecolor": "white"
           },
           "yaxis": {
            "backgroundcolor": "#E5ECF6",
            "gridcolor": "white",
            "gridwidth": 2,
            "linecolor": "white",
            "showbackground": true,
            "ticks": "",
            "zerolinecolor": "white"
           },
           "zaxis": {
            "backgroundcolor": "#E5ECF6",
            "gridcolor": "white",
            "gridwidth": 2,
            "linecolor": "white",
            "showbackground": true,
            "ticks": "",
            "zerolinecolor": "white"
           }
          },
          "shapedefaults": {
           "line": {
            "color": "#2a3f5f"
           }
          },
          "ternary": {
           "aaxis": {
            "gridcolor": "white",
            "linecolor": "white",
            "ticks": ""
           },
           "baxis": {
            "gridcolor": "white",
            "linecolor": "white",
            "ticks": ""
           },
           "bgcolor": "#E5ECF6",
           "caxis": {
            "gridcolor": "white",
            "linecolor": "white",
            "ticks": ""
           }
          },
          "title": {
           "x": 0.05
          },
          "xaxis": {
           "automargin": true,
           "gridcolor": "white",
           "linecolor": "white",
           "ticks": "",
           "title": {
            "standoff": 15
           },
           "zerolinecolor": "white",
           "zerolinewidth": 2
          },
          "yaxis": {
           "automargin": true,
           "gridcolor": "white",
           "linecolor": "white",
           "ticks": "",
           "title": {
            "standoff": 15
           },
           "zerolinecolor": "white",
           "zerolinewidth": 2
          }
         }
        },
        "xaxis": {
         "anchor": "y",
         "domain": [
          0,
          0.45
         ],
         "title": {
          "text": "Yhat"
         }
        },
        "xaxis2": {
         "anchor": "y2",
         "domain": [
          0.55,
          1
         ]
        },
        "yaxis": {
         "anchor": "x",
         "domain": [
          0,
          1
         ],
         "title": {
          "text": "Y"
         }
        },
        "yaxis2": {
         "anchor": "x2",
         "domain": [
          0,
          1
         ],
         "title": {
          "text": "RMSE"
         }
        }
       }
      }
     },
     "metadata": {},
     "output_type": "display_data"
    }
   ],
   "source": [
    "model = LinearRegression()\n",
    "model.fit(pandas_ohe_design_matrix(data), data['mpg'])\n",
    "evaluate_model(\"ohe\", model, pandas_ohe_design_matrix, models)"
   ]
  },
  {
   "cell_type": "markdown",
   "metadata": {},
   "source": [
    "Unfortunately, there is a problem with our method of one-hot encoding. If we try to use our model to make a prediction on just one data point, the model will fail:"
   ]
  },
  {
   "cell_type": "code",
   "execution_count": 19,
   "metadata": {},
   "outputs": [
    {
     "name": "stdout",
     "output_type": "stream",
     "text": [
      "The feature names should match those that were passed during fit.\n",
      "Feature names seen at fit time, yet now missing:\n",
      "- origin_europe\n",
      "- origin_japan\n",
      "\n"
     ]
    }
   ],
   "source": [
    "try:\n",
    "    model.predict(pandas_ohe_design_matrix(data.head(1)))\n",
    "except Exception as e:\n",
    "    print(e)"
   ]
  },
  {
   "cell_type": "markdown",
   "metadata": {},
   "source": [
    "To see why this fails look at the generated features for the row we are trying to predict:"
   ]
  },
  {
   "cell_type": "code",
   "execution_count": 20,
   "metadata": {},
   "outputs": [
    {
     "data": {
      "text/html": [
       "<div>\n",
       "<style scoped>\n",
       "    .dataframe tbody tr th:only-of-type {\n",
       "        vertical-align: middle;\n",
       "    }\n",
       "\n",
       "    .dataframe tbody tr th {\n",
       "        vertical-align: top;\n",
       "    }\n",
       "\n",
       "    .dataframe thead th {\n",
       "        text-align: right;\n",
       "    }\n",
       "</style>\n",
       "<table border=\"1\" class=\"dataframe\">\n",
       "  <thead>\n",
       "    <tr style=\"text-align: right;\">\n",
       "      <th></th>\n",
       "      <th>cylinders</th>\n",
       "      <th>displacement</th>\n",
       "      <th>horsepower</th>\n",
       "      <th>weight</th>\n",
       "      <th>acceleration</th>\n",
       "      <th>model_year</th>\n",
       "      <th>cylinders^2</th>\n",
       "      <th>cylinders^3</th>\n",
       "      <th>log(cylinders)</th>\n",
       "      <th>sin(cylinders)</th>\n",
       "      <th>...</th>\n",
       "      <th>acceleration^2</th>\n",
       "      <th>acceleration^3</th>\n",
       "      <th>log(acceleration)</th>\n",
       "      <th>sin(acceleration)</th>\n",
       "      <th>model_year^2</th>\n",
       "      <th>model_year^3</th>\n",
       "      <th>log(model_year)</th>\n",
       "      <th>sin(model_year)</th>\n",
       "      <th>displacement/cylinder</th>\n",
       "      <th>origin_usa</th>\n",
       "    </tr>\n",
       "  </thead>\n",
       "  <tbody>\n",
       "    <tr>\n",
       "      <th>0</th>\n",
       "      <td>8</td>\n",
       "      <td>307.0</td>\n",
       "      <td>130.0</td>\n",
       "      <td>3504</td>\n",
       "      <td>12.0</td>\n",
       "      <td>70</td>\n",
       "      <td>64</td>\n",
       "      <td>512</td>\n",
       "      <td>2.079442</td>\n",
       "      <td>0.989358</td>\n",
       "      <td>...</td>\n",
       "      <td>144.0</td>\n",
       "      <td>1728.0</td>\n",
       "      <td>2.484907</td>\n",
       "      <td>-0.536573</td>\n",
       "      <td>4900</td>\n",
       "      <td>343000</td>\n",
       "      <td>4.248495</td>\n",
       "      <td>0.773891</td>\n",
       "      <td>38.375</td>\n",
       "      <td>1</td>\n",
       "    </tr>\n",
       "  </tbody>\n",
       "</table>\n",
       "<p>1 rows × 32 columns</p>\n",
       "</div>"
      ],
      "text/plain": [
       "   cylinders  displacement  horsepower  weight  acceleration  model_year  \\\n",
       "0          8         307.0       130.0    3504          12.0          70   \n",
       "\n",
       "   cylinders^2  cylinders^3  log(cylinders)  sin(cylinders)  ...  \\\n",
       "0           64          512        2.079442        0.989358  ...   \n",
       "\n",
       "   acceleration^2  acceleration^3  log(acceleration)  sin(acceleration)  \\\n",
       "0           144.0          1728.0           2.484907          -0.536573   \n",
       "\n",
       "   model_year^2  model_year^3  log(model_year)  sin(model_year)  \\\n",
       "0          4900        343000         4.248495         0.773891   \n",
       "\n",
       "   displacement/cylinder  origin_usa  \n",
       "0                 38.375           1  \n",
       "\n",
       "[1 rows x 32 columns]"
      ]
     },
     "execution_count": 20,
     "metadata": {},
     "output_type": "execute_result"
    }
   ],
   "source": [
    "pandas_ohe_design_matrix(data.head(1))"
   ]
  },
  {
   "cell_type": "markdown",
   "metadata": {},
   "source": [
    "Notice that the columns `origin_japan` and `origin_europe` don't appear. This means there is a mismatch between the number of model parameters and the number of features, which is why the model fails."
   ]
  },
  {
   "cell_type": "markdown",
   "metadata": {},
   "source": [
    "There are a couple solutions. We could maintain a list of all the values each categorical variable takes and always make sure to add columns for these values. Alternatively, we could use a library function designed to solve this problem. The second option is much easier.  "
   ]
  },
  {
   "cell_type": "markdown",
   "metadata": {},
   "source": [
    "#### Scikit-learn One-hot Encoder"
   ]
  },
  {
   "cell_type": "markdown",
   "metadata": {},
   "source": [
    "The scikit-learn library has a wide range feature transformations and a framework for composing them in reusable (stable) pipelines.  Let's first look at a basic [`OneHotEncoder`](https://scikit-learn.org/stable/modules/generated/sklearn.preprocessing.OneHotEncoder.html) transformation."
   ]
  },
  {
   "cell_type": "code",
   "execution_count": 21,
   "metadata": {},
   "outputs": [],
   "source": [
    "from sklearn.preprocessing import OneHotEncoder\n",
    "oh_enc = OneHotEncoder()"
   ]
  },
  {
   "cell_type": "markdown",
   "metadata": {},
   "source": [
    "We then fit that instance to some data.  This is where we would determine the specific values that a categorical feature can take:"
   ]
  },
  {
   "cell_type": "code",
   "execution_count": 22,
   "metadata": {},
   "outputs": [
    {
     "data": {
      "text/html": [
       "<style>#sk-container-id-1 {color: black;}#sk-container-id-1 pre{padding: 0;}#sk-container-id-1 div.sk-toggleable {background-color: white;}#sk-container-id-1 label.sk-toggleable__label {cursor: pointer;display: block;width: 100%;margin-bottom: 0;padding: 0.3em;box-sizing: border-box;text-align: center;}#sk-container-id-1 label.sk-toggleable__label-arrow:before {content: \"▸\";float: left;margin-right: 0.25em;color: #696969;}#sk-container-id-1 label.sk-toggleable__label-arrow:hover:before {color: black;}#sk-container-id-1 div.sk-estimator:hover label.sk-toggleable__label-arrow:before {color: black;}#sk-container-id-1 div.sk-toggleable__content {max-height: 0;max-width: 0;overflow: hidden;text-align: left;background-color: #f0f8ff;}#sk-container-id-1 div.sk-toggleable__content pre {margin: 0.2em;color: black;border-radius: 0.25em;background-color: #f0f8ff;}#sk-container-id-1 input.sk-toggleable__control:checked~div.sk-toggleable__content {max-height: 200px;max-width: 100%;overflow: auto;}#sk-container-id-1 input.sk-toggleable__control:checked~label.sk-toggleable__label-arrow:before {content: \"▾\";}#sk-container-id-1 div.sk-estimator input.sk-toggleable__control:checked~label.sk-toggleable__label {background-color: #d4ebff;}#sk-container-id-1 div.sk-label input.sk-toggleable__control:checked~label.sk-toggleable__label {background-color: #d4ebff;}#sk-container-id-1 input.sk-hidden--visually {border: 0;clip: rect(1px 1px 1px 1px);clip: rect(1px, 1px, 1px, 1px);height: 1px;margin: -1px;overflow: hidden;padding: 0;position: absolute;width: 1px;}#sk-container-id-1 div.sk-estimator {font-family: monospace;background-color: #f0f8ff;border: 1px dotted black;border-radius: 0.25em;box-sizing: border-box;margin-bottom: 0.5em;}#sk-container-id-1 div.sk-estimator:hover {background-color: #d4ebff;}#sk-container-id-1 div.sk-parallel-item::after {content: \"\";width: 100%;border-bottom: 1px solid gray;flex-grow: 1;}#sk-container-id-1 div.sk-label:hover label.sk-toggleable__label {background-color: #d4ebff;}#sk-container-id-1 div.sk-serial::before {content: \"\";position: absolute;border-left: 1px solid gray;box-sizing: border-box;top: 0;bottom: 0;left: 50%;z-index: 0;}#sk-container-id-1 div.sk-serial {display: flex;flex-direction: column;align-items: center;background-color: white;padding-right: 0.2em;padding-left: 0.2em;position: relative;}#sk-container-id-1 div.sk-item {position: relative;z-index: 1;}#sk-container-id-1 div.sk-parallel {display: flex;align-items: stretch;justify-content: center;background-color: white;position: relative;}#sk-container-id-1 div.sk-item::before, #sk-container-id-1 div.sk-parallel-item::before {content: \"\";position: absolute;border-left: 1px solid gray;box-sizing: border-box;top: 0;bottom: 0;left: 50%;z-index: -1;}#sk-container-id-1 div.sk-parallel-item {display: flex;flex-direction: column;z-index: 1;position: relative;background-color: white;}#sk-container-id-1 div.sk-parallel-item:first-child::after {align-self: flex-end;width: 50%;}#sk-container-id-1 div.sk-parallel-item:last-child::after {align-self: flex-start;width: 50%;}#sk-container-id-1 div.sk-parallel-item:only-child::after {width: 0;}#sk-container-id-1 div.sk-dashed-wrapped {border: 1px dashed gray;margin: 0 0.4em 0.5em 0.4em;box-sizing: border-box;padding-bottom: 0.4em;background-color: white;}#sk-container-id-1 div.sk-label label {font-family: monospace;font-weight: bold;display: inline-block;line-height: 1.2em;}#sk-container-id-1 div.sk-label-container {text-align: center;}#sk-container-id-1 div.sk-container {/* jupyter's `normalize.less` sets `[hidden] { display: none; }` but bootstrap.min.css set `[hidden] { display: none !important; }` so we also need the `!important` here to be able to override the default hidden behavior on the sphinx rendered scikit-learn.org. See: https://github.com/scikit-learn/scikit-learn/issues/21755 */display: inline-block !important;position: relative;}#sk-container-id-1 div.sk-text-repr-fallback {display: none;}</style><div id=\"sk-container-id-1\" class=\"sk-top-container\"><div class=\"sk-text-repr-fallback\"><pre>OneHotEncoder()</pre><b>In a Jupyter environment, please rerun this cell to show the HTML representation or trust the notebook. <br />On GitHub, the HTML representation is unable to render, please try loading this page with nbviewer.org.</b></div><div class=\"sk-container\" hidden><div class=\"sk-item\"><div class=\"sk-estimator sk-toggleable\"><input class=\"sk-toggleable__control sk-hidden--visually\" id=\"sk-estimator-id-1\" type=\"checkbox\" checked><label for=\"sk-estimator-id-1\" class=\"sk-toggleable__label sk-toggleable__label-arrow\">OneHotEncoder</label><div class=\"sk-toggleable__content\"><pre>OneHotEncoder()</pre></div></div></div></div></div>"
      ],
      "text/plain": [
       "OneHotEncoder()"
      ]
     },
     "execution_count": 22,
     "metadata": {},
     "output_type": "execute_result"
    }
   ],
   "source": [
    "oh_enc.fit(data[['origin']])"
   ]
  },
  {
   "cell_type": "markdown",
   "metadata": {},
   "source": [
    "Once we fit the transformation, we can then use it transform new data:"
   ]
  },
  {
   "cell_type": "code",
   "execution_count": 23,
   "metadata": {},
   "outputs": [
    {
     "data": {
      "text/plain": [
       "<5x3 sparse matrix of type '<class 'numpy.float64'>'\n",
       "\twith 5 stored elements in Compressed Sparse Row format>"
      ]
     },
     "execution_count": 23,
     "metadata": {},
     "output_type": "execute_result"
    }
   ],
   "source": [
    "oh_enc.transform(data[['origin']].head())"
   ]
  },
  {
   "cell_type": "code",
   "execution_count": 24,
   "metadata": {},
   "outputs": [
    {
     "data": {
      "text/plain": [
       "matrix([[0., 0., 1.],\n",
       "        [0., 0., 1.],\n",
       "        [0., 0., 1.],\n",
       "        [0., 0., 1.],\n",
       "        [0., 0., 1.]])"
      ]
     },
     "execution_count": 24,
     "metadata": {},
     "output_type": "execute_result"
    }
   ],
   "source": [
    "oh_enc.transform(data[['origin']].head()).todense()"
   ]
  },
  {
   "cell_type": "markdown",
   "metadata": {},
   "source": [
    "We can also inspect the categories of the one-hot encoder:"
   ]
  },
  {
   "cell_type": "code",
   "execution_count": 25,
   "metadata": {},
   "outputs": [
    {
     "data": {
      "text/plain": [
       "array(['origin_europe', 'origin_japan', 'origin_usa'], dtype=object)"
      ]
     },
     "execution_count": 25,
     "metadata": {},
     "output_type": "execute_result"
    }
   ],
   "source": [
    "oh_enc.get_feature_names_out()"
   ]
  },
  {
   "cell_type": "markdown",
   "metadata": {},
   "source": [
    "We can update our design matrix function to use the `OneHotEncoder` we just fitted."
   ]
  },
  {
   "cell_type": "code",
   "execution_count": 26,
   "metadata": {},
   "outputs": [
    {
     "data": {
      "text/html": [
       "<div>\n",
       "<style scoped>\n",
       "    .dataframe tbody tr th:only-of-type {\n",
       "        vertical-align: middle;\n",
       "    }\n",
       "\n",
       "    .dataframe tbody tr th {\n",
       "        vertical-align: top;\n",
       "    }\n",
       "\n",
       "    .dataframe thead th {\n",
       "        text-align: right;\n",
       "    }\n",
       "</style>\n",
       "<table border=\"1\" class=\"dataframe\">\n",
       "  <thead>\n",
       "    <tr style=\"text-align: right;\">\n",
       "      <th></th>\n",
       "      <th>cylinders</th>\n",
       "      <th>displacement</th>\n",
       "      <th>horsepower</th>\n",
       "      <th>weight</th>\n",
       "      <th>acceleration</th>\n",
       "      <th>model_year</th>\n",
       "      <th>cylinders^2</th>\n",
       "      <th>cylinders^3</th>\n",
       "      <th>log(cylinders)</th>\n",
       "      <th>sin(cylinders)</th>\n",
       "      <th>...</th>\n",
       "      <th>log(acceleration)</th>\n",
       "      <th>sin(acceleration)</th>\n",
       "      <th>model_year^2</th>\n",
       "      <th>model_year^3</th>\n",
       "      <th>log(model_year)</th>\n",
       "      <th>sin(model_year)</th>\n",
       "      <th>displacement/cylinder</th>\n",
       "      <th>origin_europe</th>\n",
       "      <th>origin_japan</th>\n",
       "      <th>origin_usa</th>\n",
       "    </tr>\n",
       "  </thead>\n",
       "  <tbody>\n",
       "    <tr>\n",
       "      <th>0</th>\n",
       "      <td>8</td>\n",
       "      <td>307.0</td>\n",
       "      <td>130.0</td>\n",
       "      <td>3504</td>\n",
       "      <td>12.0</td>\n",
       "      <td>70</td>\n",
       "      <td>64</td>\n",
       "      <td>512</td>\n",
       "      <td>2.079442</td>\n",
       "      <td>0.989358</td>\n",
       "      <td>...</td>\n",
       "      <td>2.484907</td>\n",
       "      <td>-0.536573</td>\n",
       "      <td>4900</td>\n",
       "      <td>343000</td>\n",
       "      <td>4.248495</td>\n",
       "      <td>0.773891</td>\n",
       "      <td>38.375</td>\n",
       "      <td>0.0</td>\n",
       "      <td>0.0</td>\n",
       "      <td>1.0</td>\n",
       "    </tr>\n",
       "    <tr>\n",
       "      <th>1</th>\n",
       "      <td>8</td>\n",
       "      <td>350.0</td>\n",
       "      <td>165.0</td>\n",
       "      <td>3693</td>\n",
       "      <td>11.5</td>\n",
       "      <td>70</td>\n",
       "      <td>64</td>\n",
       "      <td>512</td>\n",
       "      <td>2.079442</td>\n",
       "      <td>0.989358</td>\n",
       "      <td>...</td>\n",
       "      <td>2.442347</td>\n",
       "      <td>-0.875452</td>\n",
       "      <td>4900</td>\n",
       "      <td>343000</td>\n",
       "      <td>4.248495</td>\n",
       "      <td>0.773891</td>\n",
       "      <td>43.750</td>\n",
       "      <td>0.0</td>\n",
       "      <td>0.0</td>\n",
       "      <td>1.0</td>\n",
       "    </tr>\n",
       "    <tr>\n",
       "      <th>2</th>\n",
       "      <td>8</td>\n",
       "      <td>318.0</td>\n",
       "      <td>150.0</td>\n",
       "      <td>3436</td>\n",
       "      <td>11.0</td>\n",
       "      <td>70</td>\n",
       "      <td>64</td>\n",
       "      <td>512</td>\n",
       "      <td>2.079442</td>\n",
       "      <td>0.989358</td>\n",
       "      <td>...</td>\n",
       "      <td>2.397895</td>\n",
       "      <td>-0.999990</td>\n",
       "      <td>4900</td>\n",
       "      <td>343000</td>\n",
       "      <td>4.248495</td>\n",
       "      <td>0.773891</td>\n",
       "      <td>39.750</td>\n",
       "      <td>0.0</td>\n",
       "      <td>0.0</td>\n",
       "      <td>1.0</td>\n",
       "    </tr>\n",
       "    <tr>\n",
       "      <th>3</th>\n",
       "      <td>8</td>\n",
       "      <td>304.0</td>\n",
       "      <td>150.0</td>\n",
       "      <td>3433</td>\n",
       "      <td>12.0</td>\n",
       "      <td>70</td>\n",
       "      <td>64</td>\n",
       "      <td>512</td>\n",
       "      <td>2.079442</td>\n",
       "      <td>0.989358</td>\n",
       "      <td>...</td>\n",
       "      <td>2.484907</td>\n",
       "      <td>-0.536573</td>\n",
       "      <td>4900</td>\n",
       "      <td>343000</td>\n",
       "      <td>4.248495</td>\n",
       "      <td>0.773891</td>\n",
       "      <td>38.000</td>\n",
       "      <td>0.0</td>\n",
       "      <td>0.0</td>\n",
       "      <td>1.0</td>\n",
       "    </tr>\n",
       "    <tr>\n",
       "      <th>4</th>\n",
       "      <td>8</td>\n",
       "      <td>302.0</td>\n",
       "      <td>140.0</td>\n",
       "      <td>3449</td>\n",
       "      <td>10.5</td>\n",
       "      <td>70</td>\n",
       "      <td>64</td>\n",
       "      <td>512</td>\n",
       "      <td>2.079442</td>\n",
       "      <td>0.989358</td>\n",
       "      <td>...</td>\n",
       "      <td>2.351375</td>\n",
       "      <td>-0.879696</td>\n",
       "      <td>4900</td>\n",
       "      <td>343000</td>\n",
       "      <td>4.248495</td>\n",
       "      <td>0.773891</td>\n",
       "      <td>37.750</td>\n",
       "      <td>0.0</td>\n",
       "      <td>0.0</td>\n",
       "      <td>1.0</td>\n",
       "    </tr>\n",
       "    <tr>\n",
       "      <th>...</th>\n",
       "      <td>...</td>\n",
       "      <td>...</td>\n",
       "      <td>...</td>\n",
       "      <td>...</td>\n",
       "      <td>...</td>\n",
       "      <td>...</td>\n",
       "      <td>...</td>\n",
       "      <td>...</td>\n",
       "      <td>...</td>\n",
       "      <td>...</td>\n",
       "      <td>...</td>\n",
       "      <td>...</td>\n",
       "      <td>...</td>\n",
       "      <td>...</td>\n",
       "      <td>...</td>\n",
       "      <td>...</td>\n",
       "      <td>...</td>\n",
       "      <td>...</td>\n",
       "      <td>...</td>\n",
       "      <td>...</td>\n",
       "      <td>...</td>\n",
       "    </tr>\n",
       "    <tr>\n",
       "      <th>393</th>\n",
       "      <td>4</td>\n",
       "      <td>140.0</td>\n",
       "      <td>86.0</td>\n",
       "      <td>2790</td>\n",
       "      <td>15.6</td>\n",
       "      <td>82</td>\n",
       "      <td>16</td>\n",
       "      <td>64</td>\n",
       "      <td>1.386294</td>\n",
       "      <td>-0.756802</td>\n",
       "      <td>...</td>\n",
       "      <td>2.747271</td>\n",
       "      <td>0.107754</td>\n",
       "      <td>6724</td>\n",
       "      <td>551368</td>\n",
       "      <td>4.406719</td>\n",
       "      <td>0.313229</td>\n",
       "      <td>35.000</td>\n",
       "      <td>0.0</td>\n",
       "      <td>0.0</td>\n",
       "      <td>1.0</td>\n",
       "    </tr>\n",
       "    <tr>\n",
       "      <th>394</th>\n",
       "      <td>4</td>\n",
       "      <td>97.0</td>\n",
       "      <td>52.0</td>\n",
       "      <td>2130</td>\n",
       "      <td>24.6</td>\n",
       "      <td>82</td>\n",
       "      <td>16</td>\n",
       "      <td>64</td>\n",
       "      <td>1.386294</td>\n",
       "      <td>-0.756802</td>\n",
       "      <td>...</td>\n",
       "      <td>3.202746</td>\n",
       "      <td>-0.507897</td>\n",
       "      <td>6724</td>\n",
       "      <td>551368</td>\n",
       "      <td>4.406719</td>\n",
       "      <td>0.313229</td>\n",
       "      <td>24.250</td>\n",
       "      <td>1.0</td>\n",
       "      <td>0.0</td>\n",
       "      <td>0.0</td>\n",
       "    </tr>\n",
       "    <tr>\n",
       "      <th>395</th>\n",
       "      <td>4</td>\n",
       "      <td>135.0</td>\n",
       "      <td>84.0</td>\n",
       "      <td>2295</td>\n",
       "      <td>11.6</td>\n",
       "      <td>82</td>\n",
       "      <td>16</td>\n",
       "      <td>64</td>\n",
       "      <td>1.386294</td>\n",
       "      <td>-0.756802</td>\n",
       "      <td>...</td>\n",
       "      <td>2.451005</td>\n",
       "      <td>-0.822829</td>\n",
       "      <td>6724</td>\n",
       "      <td>551368</td>\n",
       "      <td>4.406719</td>\n",
       "      <td>0.313229</td>\n",
       "      <td>33.750</td>\n",
       "      <td>0.0</td>\n",
       "      <td>0.0</td>\n",
       "      <td>1.0</td>\n",
       "    </tr>\n",
       "    <tr>\n",
       "      <th>396</th>\n",
       "      <td>4</td>\n",
       "      <td>120.0</td>\n",
       "      <td>79.0</td>\n",
       "      <td>2625</td>\n",
       "      <td>18.6</td>\n",
       "      <td>82</td>\n",
       "      <td>16</td>\n",
       "      <td>64</td>\n",
       "      <td>1.386294</td>\n",
       "      <td>-0.756802</td>\n",
       "      <td>...</td>\n",
       "      <td>2.923162</td>\n",
       "      <td>-0.246974</td>\n",
       "      <td>6724</td>\n",
       "      <td>551368</td>\n",
       "      <td>4.406719</td>\n",
       "      <td>0.313229</td>\n",
       "      <td>30.000</td>\n",
       "      <td>0.0</td>\n",
       "      <td>0.0</td>\n",
       "      <td>1.0</td>\n",
       "    </tr>\n",
       "    <tr>\n",
       "      <th>397</th>\n",
       "      <td>4</td>\n",
       "      <td>119.0</td>\n",
       "      <td>82.0</td>\n",
       "      <td>2720</td>\n",
       "      <td>19.4</td>\n",
       "      <td>82</td>\n",
       "      <td>16</td>\n",
       "      <td>64</td>\n",
       "      <td>1.386294</td>\n",
       "      <td>-0.756802</td>\n",
       "      <td>...</td>\n",
       "      <td>2.965273</td>\n",
       "      <td>0.523066</td>\n",
       "      <td>6724</td>\n",
       "      <td>551368</td>\n",
       "      <td>4.406719</td>\n",
       "      <td>0.313229</td>\n",
       "      <td>29.750</td>\n",
       "      <td>0.0</td>\n",
       "      <td>0.0</td>\n",
       "      <td>1.0</td>\n",
       "    </tr>\n",
       "  </tbody>\n",
       "</table>\n",
       "<p>392 rows × 34 columns</p>\n",
       "</div>"
      ],
      "text/plain": [
       "     cylinders  displacement  horsepower  weight  acceleration  model_year  \\\n",
       "0            8         307.0       130.0    3504          12.0          70   \n",
       "1            8         350.0       165.0    3693          11.5          70   \n",
       "2            8         318.0       150.0    3436          11.0          70   \n",
       "3            8         304.0       150.0    3433          12.0          70   \n",
       "4            8         302.0       140.0    3449          10.5          70   \n",
       "..         ...           ...         ...     ...           ...         ...   \n",
       "393          4         140.0        86.0    2790          15.6          82   \n",
       "394          4          97.0        52.0    2130          24.6          82   \n",
       "395          4         135.0        84.0    2295          11.6          82   \n",
       "396          4         120.0        79.0    2625          18.6          82   \n",
       "397          4         119.0        82.0    2720          19.4          82   \n",
       "\n",
       "     cylinders^2  cylinders^3  log(cylinders)  sin(cylinders)  ...  \\\n",
       "0             64          512        2.079442        0.989358  ...   \n",
       "1             64          512        2.079442        0.989358  ...   \n",
       "2             64          512        2.079442        0.989358  ...   \n",
       "3             64          512        2.079442        0.989358  ...   \n",
       "4             64          512        2.079442        0.989358  ...   \n",
       "..           ...          ...             ...             ...  ...   \n",
       "393           16           64        1.386294       -0.756802  ...   \n",
       "394           16           64        1.386294       -0.756802  ...   \n",
       "395           16           64        1.386294       -0.756802  ...   \n",
       "396           16           64        1.386294       -0.756802  ...   \n",
       "397           16           64        1.386294       -0.756802  ...   \n",
       "\n",
       "     log(acceleration)  sin(acceleration)  model_year^2  model_year^3  \\\n",
       "0             2.484907          -0.536573          4900        343000   \n",
       "1             2.442347          -0.875452          4900        343000   \n",
       "2             2.397895          -0.999990          4900        343000   \n",
       "3             2.484907          -0.536573          4900        343000   \n",
       "4             2.351375          -0.879696          4900        343000   \n",
       "..                 ...                ...           ...           ...   \n",
       "393           2.747271           0.107754          6724        551368   \n",
       "394           3.202746          -0.507897          6724        551368   \n",
       "395           2.451005          -0.822829          6724        551368   \n",
       "396           2.923162          -0.246974          6724        551368   \n",
       "397           2.965273           0.523066          6724        551368   \n",
       "\n",
       "     log(model_year)  sin(model_year)  displacement/cylinder  origin_europe  \\\n",
       "0           4.248495         0.773891                 38.375            0.0   \n",
       "1           4.248495         0.773891                 43.750            0.0   \n",
       "2           4.248495         0.773891                 39.750            0.0   \n",
       "3           4.248495         0.773891                 38.000            0.0   \n",
       "4           4.248495         0.773891                 37.750            0.0   \n",
       "..               ...              ...                    ...            ...   \n",
       "393         4.406719         0.313229                 35.000            0.0   \n",
       "394         4.406719         0.313229                 24.250            1.0   \n",
       "395         4.406719         0.313229                 33.750            0.0   \n",
       "396         4.406719         0.313229                 30.000            0.0   \n",
       "397         4.406719         0.313229                 29.750            0.0   \n",
       "\n",
       "     origin_japan  origin_usa  \n",
       "0             0.0         1.0  \n",
       "1             0.0         1.0  \n",
       "2             0.0         1.0  \n",
       "3             0.0         1.0  \n",
       "4             0.0         1.0  \n",
       "..            ...         ...  \n",
       "393           0.0         1.0  \n",
       "394           0.0         0.0  \n",
       "395           0.0         1.0  \n",
       "396           0.0         1.0  \n",
       "397           0.0         1.0  \n",
       "\n",
       "[392 rows x 34 columns]"
      ]
     },
     "execution_count": 26,
     "metadata": {},
     "output_type": "execute_result"
    }
   ],
   "source": [
    "def sklearn_ohe_design_matrix(df):\n",
    "    X = displacement_design_matrix(df)\n",
    "    ohe_cols = pd.DataFrame(oh_enc.transform(df[['origin']]).todense(), \n",
    "                           columns=oh_enc.get_feature_names_out(),\n",
    "                           index = df.index)\n",
    "    return X.join(ohe_cols)\n",
    "\n",
    "sklearn_ohe_design_matrix(data)"
   ]
  },
  {
   "cell_type": "code",
   "execution_count": 27,
   "metadata": {},
   "outputs": [
    {
     "name": "stdout",
     "output_type": "stream",
     "text": [
      "Root Mean Squared Error: 2.4675755658965426\n"
     ]
    },
    {
     "data": {
      "application/vnd.plotly.v1+json": {
       "config": {
        "plotlyServerURL": "https://plot.ly"
       },
       "data": [
        {
         "mode": "markers",
         "type": "scatter",
         "x": [
          17.544524331071443,
          15.214766188740214,
          16.637357511259324,
          15.335996226477619,
          17.230862049924326,
          13.603876183157809,
          13.562118125008965,
          13.813349201784149,
          14.250077306515777,
          13.7876913105747,
          15.213895941064948,
          15.198256570487501,
          16.767887703120323,
          14.58494788241751,
          25.70349003379306,
          19.388970626364426,
          19.81899551016886,
          21.520271461758057,
          28.428483630692426,
          30.711777154596348,
          23.52160173417451,
          25.422919858637215,
          24.918763117368144,
          25.241793329923894,
          21.08114546552588,
          11.61329768264386,
          11.351720780439791,
          12.391242698169663,
          9.72409387105381,
          27.043790044478556,
          22.718214485686985,
          25.50099259953913,
          20.435095848014498,
          16.03639194013067,
          17.004407087212712,
          17.96317570532392,
          16.55105542346155,
          13.744695358883291,
          13.51789125452342,
          13.026954617724186,
          13.597837966232873,
          12.609321828293105,
          13.277100317944132,
          11.812431758731691,
          17.895048181069797,
          22.259348452467748,
          17.230996498495188,
          18.673714626057517,
          24.356086044423137,
          25.181555351899988,
          28.70290622122593,
          28.435794216644354,
          30.886944761282393,
          29.88238994085623,
          27.374403795504804,
          26.672469528718466,
          24.34939049555487,
          25.638373691525885,
          29.79608469517916,
          20.43110669831185,
          23.214709687553295,
          13.527543878983124,
          12.763955478873868,
          12.8801864349698,
          13.201822635668577,
          13.97370314757427,
          11.789276714074731,
          12.895565778453602,
          12.507210611955088,
          11.669204944638295,
          18.26531046666878,
          13.119474709803399,
          14.177537486079927,
          12.265569634695566,
          12.416032411732886,
          18.652440060364825,
          22.34721990539765,
          18.972365809387156,
          26.04970111509374,
          22.51581639151209,
          25.182128029397973,
          22.83389022519532,
          26.08537297521343,
          26.33353789485318,
          12.14180207717709,
          14.376618450190108,
          14.207470916287093,
          13.14411368427227,
          14.013882064465179,
          11.259806388815377,
          14.962166516001162,
          13.408628484002293,
          12.664296893558458,
          12.457589228861252,
          12.178455393303011,
          12.936702950932158,
          16.578898379632847,
          16.52370970967968,
          17.540614292102873,
          18.623542001088026,
          17.748588047387784,
          29.78602867799509,
          12.405899853551091,
          12.791517357365592,
          11.905985076407887,
          12.682977970712273,
          18.412728077103566,
          25.062971145907795,
          22.255762170946582,
          24.036784836465813,
          20.055027372032782,
          22.556322846827243,
          20.924280757738416,
          25.620128649715298,
          14.290187122452153,
          14.871796427782101,
          33.694639431139876,
          25.67947980790632,
          22.978223449958932,
          18.974750132400914,
          15.421213350086873,
          20.73887658351032,
          19.647589912134208,
          13.422041244440152,
          17.527443440279967,
          18.272038456118935,
          17.374139232792913,
          30.82637812631401,
          23.55792955085144,
          31.891605792219707,
          22.861449337086015,
          17.13012426536352,
          15.5801590615647,
          16.419330982945212,
          13.84099859827711,
          13.481825168688374,
          14.080132884523664,
          13.318856359742313,
          12.344121276812075,
          26.725005148729906,
          31.16400056071143,
          26.982965272750334,
          32.50696190647068,
          30.191319937188382,
          28.01640880816558,
          28.155836116334285,
          26.54193107145784,
          23.682424404879384,
          24.800089510194084,
          31.03273232578067,
          18.141307757069626,
          17.514668881093712,
          19.136827858853394,
          19.357912607910293,
          14.937303117660122,
          14.72305372521896,
          13.848596485310736,
          14.79313587231809,
          15.811285140242944,
          16.656736971800456,
          15.588099884686017,
          16.70863057123188,
          17.88423579733626,
          18.091125889633076,
          17.483946856708826,
          28.614096842256004,
          22.23263225319897,
          18.697531918059212,
          22.219011372064415,
          23.634959161298866,
          28.352085147288562,
          23.852539435320068,
          18.763624089971927,
          30.005217942702984,
          18.322084806600287,
          22.525775746591535,
          21.423190813292422,
          21.157702139134017,
          21.714760478515927,
          31.520291196426115,
          25.551341412411603,
          26.2974825199517,
          22.934508573514904,
          27.096213677220476,
          27.388179133597077,
          16.0900774747397,
          15.403854129001047,
          16.40057691481161,
          15.55694897433932,
          18.498051782081347,
          18.6414362994783,
          19.889736763650035,
          19.00459720442086,
          32.45009655001013,
          29.657924935671872,
          30.43072668100649,
          32.119320602239895,
          17.46736801199677,
          19.09869130458719,
          17.543432127631604,
          18.43034981911569,
          31.52882950743333,
          31.42193065552874,
          29.162621129778017,
          25.30696563427591,
          20.914085772950784,
          14.992646571523437,
          21.12185567792676,
          20.85302146921549,
          17.082882027657433,
          14.637456350888897,
          16.88270824094252,
          14.997791578767647,
          14.203073403432427,
          30.5727983753668,
          28.34003720419969,
          33.013571906972174,
          25.288745159636164,
          32.49169017065287,
          16.874846110211365,
          16.50508516085756,
          16.095888482209375,
          16.36382973875243,
          18.532655305792105,
          18.57211087203541,
          18.4379678085661,
          18.477860780293668,
          16.070514181908948,
          16.58222157344335,
          14.900035729686351,
          15.482182275111882,
          30.050819303091885,
          23.499331623151193,
          29.067108962104612,
          23.01012978719973,
          30.419471511700976,
          28.90710304811364,
          31.241013013177508,
          29.704461824469945,
          23.252205446076914,
          24.688439778926295,
          17.847444701429595,
          34.32928582956356,
          32.26034010058174,
          35.661113179989115,
          33.05404618783177,
          33.98929879682055,
          19.144900205605154,
          18.18237893623791,
          18.250247152472184,
          18.997636577700177,
          20.58959940760724,
          22.66255188039213,
          24.80840890095078,
          20.24169088414601,
          21.27595866561387,
          20.32561124352469,
          22.139737856410648,
          18.66847924024478,
          19.185153523688314,
          17.71946564051268,
          16.533526430994243,
          20.195428926378554,
          17.954164757110448,
          31.237369304153617,
          26.895134684223194,
          28.649412293799287,
          30.476982812645474,
          26.818194253611182,
          24.03770208410333,
          24.274751673611718,
          28.051742930018918,
          26.389861316662973,
          20.862893169221934,
          23.049710228063304,
          18.617352413613844,
          32.53555795294051,
          32.527785480034254,
          21.498061335087186,
          23.508983907881884,
          25.307139412069773,
          22.402115418031826,
          21.367869203961163,
          19.2682787653348,
          20.16200010614193,
          20.22864022115664,
          19.04702225921301,
          18.072672704865,
          19.092598730420832,
          19.701583457628658,
          18.71519783547319,
          34.73622443482054,
          36.57494695156856,
          32.95892995173472,
          27.759685307396467,
          25.39284628353016,
          19.609910658146873,
          29.810178344702763,
          22.33730255796945,
          33.67984723442805,
          32.70071677098622,
          35.0338132741399,
          34.20315019707323,
          26.82883713706906,
          26.93756547756675,
          24.92751957119799,
          28.82563372403456,
          34.46068831568573,
          36.176327102059076,
          34.34639176730616,
          37.591574513950036,
          28.020421377919774,
          26.359290732602858,
          25.463297689251704,
          23.387045021556332,
          33.54239413198957,
          28.987850875838376,
          30.944517574296697,
          31.240357630297694,
          33.319191317244076,
          36.87533568598519,
          27.394806904831967,
          36.121452099199814,
          37.2918560853841,
          38.56589306528713,
          30.318119438864414,
          27.655504371680763,
          37.366245614723994,
          34.792747931516715,
          36.19928821651774,
          27.001866521878583,
          26.032524264715903,
          29.896078670358293,
          33.43615543785472,
          30.178466272188416,
          29.307572627946683,
          29.860394499824906,
          27.451689595894095,
          32.379670801155044,
          39.345802019287476,
          37.10339587555063,
          39.07332735418095,
          35.72507312825928,
          36.962651452190585,
          37.11147340829939,
          37.018544366410424,
          35.0217782560303,
          35.48378739651707,
          33.09014027108606,
          34.920123213541046,
          34.84563447248547,
          33.20586645580079,
          30.392837240397057,
          30.808869856122328,
          26.545627054806573,
          26.4787752011498,
          27.9010397609527,
          26.461891463834945,
          23.469736386024124,
          22.392899534251228,
          25.431504803418647,
          25.095721424219846,
          29.04907912109411,
          29.23718267505683,
          30.76744083644371,
          30.633888437583664,
          29.902658316531415,
          27.8111285422965,
          27.235777216379574,
          34.979186262277835,
          36.23282524527167,
          36.57656740476523,
          35.406207531661494,
          34.504245111696946,
          33.13795028975346,
          34.780136510344164,
          34.04773185390968,
          37.317850698469556,
          37.14375389486668,
          37.0288533471612,
          24.48585343756349,
          26.633506989506714,
          29.950469736502782,
          24.99102654672697,
          30.577324254462837,
          32.32460041298236,
          27.189023202350654,
          28.15318343434592,
          39.864021962407605,
          34.04782527194311,
          29.029609838978104,
          28.450080725423504
         ],
         "xaxis": "x",
         "y": [
          18,
          15,
          18,
          16,
          17,
          15,
          14,
          14,
          14,
          15,
          15,
          14,
          15,
          14,
          24,
          22,
          18,
          21,
          27,
          26,
          25,
          24,
          25,
          26,
          21,
          10,
          10,
          11,
          9,
          27,
          28,
          25,
          19,
          16,
          17,
          19,
          18,
          14,
          14,
          14,
          14,
          12,
          13,
          13,
          18,
          22,
          19,
          18,
          23,
          28,
          30,
          30,
          31,
          35,
          27,
          26,
          24,
          25,
          23,
          20,
          21,
          13,
          14,
          15,
          14,
          17,
          11,
          13,
          12,
          13,
          19,
          15,
          13,
          13,
          14,
          18,
          22,
          21,
          26,
          22,
          28,
          23,
          28,
          27,
          13,
          14,
          13,
          14,
          15,
          12,
          13,
          13,
          14,
          13,
          12,
          13,
          18,
          16,
          18,
          18,
          23,
          26,
          11,
          12,
          13,
          12,
          18,
          20,
          21,
          22,
          18,
          19,
          21,
          26,
          15,
          16,
          29,
          24,
          20,
          19,
          15,
          24,
          20,
          11,
          20,
          19,
          15,
          31,
          26,
          32,
          25,
          16,
          16,
          18,
          16,
          13,
          14,
          14,
          14,
          29,
          26,
          26,
          31,
          32,
          28,
          24,
          26,
          24,
          26,
          31,
          19,
          18,
          15,
          15,
          16,
          15,
          16,
          14,
          17,
          16,
          15,
          18,
          21,
          20,
          13,
          29,
          23,
          20,
          23,
          24,
          25,
          24,
          18,
          29,
          19,
          23,
          23,
          22,
          25,
          33,
          28,
          25,
          25,
          26,
          27,
          17.5,
          16,
          15.5,
          14.5,
          22,
          22,
          24,
          22.5,
          29,
          24.5,
          29,
          33,
          20,
          18,
          18.5,
          17.5,
          29.5,
          32,
          28,
          26.5,
          20,
          13,
          19,
          19,
          16.5,
          16.5,
          13,
          13,
          13,
          31.5,
          30,
          36,
          25.5,
          33.5,
          17.5,
          17,
          15.5,
          15,
          17.5,
          20.5,
          19,
          18.5,
          16,
          15.5,
          15.5,
          16,
          29,
          24.5,
          26,
          25.5,
          30.5,
          33.5,
          30,
          30.5,
          22,
          21.5,
          21.5,
          43.1,
          36.1,
          32.8,
          39.4,
          36.1,
          19.9,
          19.4,
          20.2,
          19.2,
          20.5,
          20.2,
          25.1,
          20.5,
          19.4,
          20.6,
          20.8,
          18.6,
          18.1,
          19.2,
          17.7,
          18.1,
          17.5,
          30,
          27.5,
          27.2,
          30.9,
          21.1,
          23.2,
          23.8,
          23.9,
          20.3,
          17,
          21.6,
          16.2,
          31.5,
          29.5,
          21.5,
          19.8,
          22.3,
          20.2,
          20.6,
          17,
          17.6,
          16.5,
          18.2,
          16.9,
          15.5,
          19.2,
          18.5,
          31.9,
          34.1,
          35.7,
          27.4,
          25.4,
          23,
          27.2,
          23.9,
          34.2,
          34.5,
          31.8,
          37.3,
          28.4,
          28.8,
          26.8,
          33.5,
          41.5,
          38.1,
          32.1,
          37.2,
          28,
          26.4,
          24.3,
          19.1,
          34.3,
          29.8,
          31.3,
          37,
          32.2,
          46.6,
          27.9,
          40.8,
          44.3,
          43.4,
          36.4,
          30,
          44.6,
          33.8,
          29.8,
          32.7,
          23.7,
          35,
          32.4,
          27.2,
          26.6,
          25.8,
          23.5,
          30,
          39.1,
          39,
          35.1,
          32.3,
          37,
          37.7,
          34.1,
          34.7,
          34.4,
          29.9,
          33,
          33.7,
          32.4,
          32.9,
          31.6,
          28.1,
          30.7,
          25.4,
          24.2,
          22.4,
          26.6,
          20.2,
          17.6,
          28,
          27,
          34,
          31,
          29,
          27,
          24,
          36,
          37,
          31,
          38,
          36,
          36,
          36,
          34,
          38,
          32,
          38,
          25,
          38,
          26,
          22,
          32,
          36,
          27,
          27,
          44,
          32,
          28,
          31
         ],
         "yaxis": "y"
        },
        {
         "name": "y=yhat",
         "type": "scatter",
         "x": [
          9.72409387105381,
          39.864021962407605
         ],
         "xaxis": "x",
         "y": [
          9.72409387105381,
          39.864021962407605
         ],
         "yaxis": "y"
        },
        {
         "type": "bar",
         "x": [
          "basic",
          "nonlinear",
          "displacement",
          "ohe"
         ],
         "xaxis": "x2",
         "y": [
          3.4044340177796406,
          2.4964145836114002,
          2.4900607098696863,
          2.4675755658965426
         ],
         "yaxis": "y2"
        }
       ],
       "layout": {
        "showlegend": false,
        "template": {
         "data": {
          "bar": [
           {
            "error_x": {
             "color": "#2a3f5f"
            },
            "error_y": {
             "color": "#2a3f5f"
            },
            "marker": {
             "line": {
              "color": "#E5ECF6",
              "width": 0.5
             },
             "pattern": {
              "fillmode": "overlay",
              "size": 10,
              "solidity": 0.2
             }
            },
            "type": "bar"
           }
          ],
          "barpolar": [
           {
            "marker": {
             "line": {
              "color": "#E5ECF6",
              "width": 0.5
             },
             "pattern": {
              "fillmode": "overlay",
              "size": 10,
              "solidity": 0.2
             }
            },
            "type": "barpolar"
           }
          ],
          "carpet": [
           {
            "aaxis": {
             "endlinecolor": "#2a3f5f",
             "gridcolor": "white",
             "linecolor": "white",
             "minorgridcolor": "white",
             "startlinecolor": "#2a3f5f"
            },
            "baxis": {
             "endlinecolor": "#2a3f5f",
             "gridcolor": "white",
             "linecolor": "white",
             "minorgridcolor": "white",
             "startlinecolor": "#2a3f5f"
            },
            "type": "carpet"
           }
          ],
          "choropleth": [
           {
            "colorbar": {
             "outlinewidth": 0,
             "ticks": ""
            },
            "type": "choropleth"
           }
          ],
          "contour": [
           {
            "colorbar": {
             "outlinewidth": 0,
             "ticks": ""
            },
            "colorscale": [
             [
              0,
              "#0d0887"
             ],
             [
              0.1111111111111111,
              "#46039f"
             ],
             [
              0.2222222222222222,
              "#7201a8"
             ],
             [
              0.3333333333333333,
              "#9c179e"
             ],
             [
              0.4444444444444444,
              "#bd3786"
             ],
             [
              0.5555555555555556,
              "#d8576b"
             ],
             [
              0.6666666666666666,
              "#ed7953"
             ],
             [
              0.7777777777777778,
              "#fb9f3a"
             ],
             [
              0.8888888888888888,
              "#fdca26"
             ],
             [
              1,
              "#f0f921"
             ]
            ],
            "type": "contour"
           }
          ],
          "contourcarpet": [
           {
            "colorbar": {
             "outlinewidth": 0,
             "ticks": ""
            },
            "type": "contourcarpet"
           }
          ],
          "heatmap": [
           {
            "colorbar": {
             "outlinewidth": 0,
             "ticks": ""
            },
            "colorscale": [
             [
              0,
              "#0d0887"
             ],
             [
              0.1111111111111111,
              "#46039f"
             ],
             [
              0.2222222222222222,
              "#7201a8"
             ],
             [
              0.3333333333333333,
              "#9c179e"
             ],
             [
              0.4444444444444444,
              "#bd3786"
             ],
             [
              0.5555555555555556,
              "#d8576b"
             ],
             [
              0.6666666666666666,
              "#ed7953"
             ],
             [
              0.7777777777777778,
              "#fb9f3a"
             ],
             [
              0.8888888888888888,
              "#fdca26"
             ],
             [
              1,
              "#f0f921"
             ]
            ],
            "type": "heatmap"
           }
          ],
          "heatmapgl": [
           {
            "colorbar": {
             "outlinewidth": 0,
             "ticks": ""
            },
            "colorscale": [
             [
              0,
              "#0d0887"
             ],
             [
              0.1111111111111111,
              "#46039f"
             ],
             [
              0.2222222222222222,
              "#7201a8"
             ],
             [
              0.3333333333333333,
              "#9c179e"
             ],
             [
              0.4444444444444444,
              "#bd3786"
             ],
             [
              0.5555555555555556,
              "#d8576b"
             ],
             [
              0.6666666666666666,
              "#ed7953"
             ],
             [
              0.7777777777777778,
              "#fb9f3a"
             ],
             [
              0.8888888888888888,
              "#fdca26"
             ],
             [
              1,
              "#f0f921"
             ]
            ],
            "type": "heatmapgl"
           }
          ],
          "histogram": [
           {
            "marker": {
             "pattern": {
              "fillmode": "overlay",
              "size": 10,
              "solidity": 0.2
             }
            },
            "type": "histogram"
           }
          ],
          "histogram2d": [
           {
            "colorbar": {
             "outlinewidth": 0,
             "ticks": ""
            },
            "colorscale": [
             [
              0,
              "#0d0887"
             ],
             [
              0.1111111111111111,
              "#46039f"
             ],
             [
              0.2222222222222222,
              "#7201a8"
             ],
             [
              0.3333333333333333,
              "#9c179e"
             ],
             [
              0.4444444444444444,
              "#bd3786"
             ],
             [
              0.5555555555555556,
              "#d8576b"
             ],
             [
              0.6666666666666666,
              "#ed7953"
             ],
             [
              0.7777777777777778,
              "#fb9f3a"
             ],
             [
              0.8888888888888888,
              "#fdca26"
             ],
             [
              1,
              "#f0f921"
             ]
            ],
            "type": "histogram2d"
           }
          ],
          "histogram2dcontour": [
           {
            "colorbar": {
             "outlinewidth": 0,
             "ticks": ""
            },
            "colorscale": [
             [
              0,
              "#0d0887"
             ],
             [
              0.1111111111111111,
              "#46039f"
             ],
             [
              0.2222222222222222,
              "#7201a8"
             ],
             [
              0.3333333333333333,
              "#9c179e"
             ],
             [
              0.4444444444444444,
              "#bd3786"
             ],
             [
              0.5555555555555556,
              "#d8576b"
             ],
             [
              0.6666666666666666,
              "#ed7953"
             ],
             [
              0.7777777777777778,
              "#fb9f3a"
             ],
             [
              0.8888888888888888,
              "#fdca26"
             ],
             [
              1,
              "#f0f921"
             ]
            ],
            "type": "histogram2dcontour"
           }
          ],
          "mesh3d": [
           {
            "colorbar": {
             "outlinewidth": 0,
             "ticks": ""
            },
            "type": "mesh3d"
           }
          ],
          "parcoords": [
           {
            "line": {
             "colorbar": {
              "outlinewidth": 0,
              "ticks": ""
             }
            },
            "type": "parcoords"
           }
          ],
          "pie": [
           {
            "automargin": true,
            "type": "pie"
           }
          ],
          "scatter": [
           {
            "fillpattern": {
             "fillmode": "overlay",
             "size": 10,
             "solidity": 0.2
            },
            "type": "scatter"
           }
          ],
          "scatter3d": [
           {
            "line": {
             "colorbar": {
              "outlinewidth": 0,
              "ticks": ""
             }
            },
            "marker": {
             "colorbar": {
              "outlinewidth": 0,
              "ticks": ""
             }
            },
            "type": "scatter3d"
           }
          ],
          "scattercarpet": [
           {
            "marker": {
             "colorbar": {
              "outlinewidth": 0,
              "ticks": ""
             }
            },
            "type": "scattercarpet"
           }
          ],
          "scattergeo": [
           {
            "marker": {
             "colorbar": {
              "outlinewidth": 0,
              "ticks": ""
             }
            },
            "type": "scattergeo"
           }
          ],
          "scattergl": [
           {
            "marker": {
             "colorbar": {
              "outlinewidth": 0,
              "ticks": ""
             }
            },
            "type": "scattergl"
           }
          ],
          "scattermapbox": [
           {
            "marker": {
             "colorbar": {
              "outlinewidth": 0,
              "ticks": ""
             }
            },
            "type": "scattermapbox"
           }
          ],
          "scatterpolar": [
           {
            "marker": {
             "colorbar": {
              "outlinewidth": 0,
              "ticks": ""
             }
            },
            "type": "scatterpolar"
           }
          ],
          "scatterpolargl": [
           {
            "marker": {
             "colorbar": {
              "outlinewidth": 0,
              "ticks": ""
             }
            },
            "type": "scatterpolargl"
           }
          ],
          "scatterternary": [
           {
            "marker": {
             "colorbar": {
              "outlinewidth": 0,
              "ticks": ""
             }
            },
            "type": "scatterternary"
           }
          ],
          "surface": [
           {
            "colorbar": {
             "outlinewidth": 0,
             "ticks": ""
            },
            "colorscale": [
             [
              0,
              "#0d0887"
             ],
             [
              0.1111111111111111,
              "#46039f"
             ],
             [
              0.2222222222222222,
              "#7201a8"
             ],
             [
              0.3333333333333333,
              "#9c179e"
             ],
             [
              0.4444444444444444,
              "#bd3786"
             ],
             [
              0.5555555555555556,
              "#d8576b"
             ],
             [
              0.6666666666666666,
              "#ed7953"
             ],
             [
              0.7777777777777778,
              "#fb9f3a"
             ],
             [
              0.8888888888888888,
              "#fdca26"
             ],
             [
              1,
              "#f0f921"
             ]
            ],
            "type": "surface"
           }
          ],
          "table": [
           {
            "cells": {
             "fill": {
              "color": "#EBF0F8"
             },
             "line": {
              "color": "white"
             }
            },
            "header": {
             "fill": {
              "color": "#C8D4E3"
             },
             "line": {
              "color": "white"
             }
            },
            "type": "table"
           }
          ]
         },
         "layout": {
          "annotationdefaults": {
           "arrowcolor": "#2a3f5f",
           "arrowhead": 0,
           "arrowwidth": 1
          },
          "autotypenumbers": "strict",
          "coloraxis": {
           "colorbar": {
            "outlinewidth": 0,
            "ticks": ""
           }
          },
          "colorscale": {
           "diverging": [
            [
             0,
             "#8e0152"
            ],
            [
             0.1,
             "#c51b7d"
            ],
            [
             0.2,
             "#de77ae"
            ],
            [
             0.3,
             "#f1b6da"
            ],
            [
             0.4,
             "#fde0ef"
            ],
            [
             0.5,
             "#f7f7f7"
            ],
            [
             0.6,
             "#e6f5d0"
            ],
            [
             0.7,
             "#b8e186"
            ],
            [
             0.8,
             "#7fbc41"
            ],
            [
             0.9,
             "#4d9221"
            ],
            [
             1,
             "#276419"
            ]
           ],
           "sequential": [
            [
             0,
             "#0d0887"
            ],
            [
             0.1111111111111111,
             "#46039f"
            ],
            [
             0.2222222222222222,
             "#7201a8"
            ],
            [
             0.3333333333333333,
             "#9c179e"
            ],
            [
             0.4444444444444444,
             "#bd3786"
            ],
            [
             0.5555555555555556,
             "#d8576b"
            ],
            [
             0.6666666666666666,
             "#ed7953"
            ],
            [
             0.7777777777777778,
             "#fb9f3a"
            ],
            [
             0.8888888888888888,
             "#fdca26"
            ],
            [
             1,
             "#f0f921"
            ]
           ],
           "sequentialminus": [
            [
             0,
             "#0d0887"
            ],
            [
             0.1111111111111111,
             "#46039f"
            ],
            [
             0.2222222222222222,
             "#7201a8"
            ],
            [
             0.3333333333333333,
             "#9c179e"
            ],
            [
             0.4444444444444444,
             "#bd3786"
            ],
            [
             0.5555555555555556,
             "#d8576b"
            ],
            [
             0.6666666666666666,
             "#ed7953"
            ],
            [
             0.7777777777777778,
             "#fb9f3a"
            ],
            [
             0.8888888888888888,
             "#fdca26"
            ],
            [
             1,
             "#f0f921"
            ]
           ]
          },
          "colorway": [
           "#636efa",
           "#EF553B",
           "#00cc96",
           "#ab63fa",
           "#FFA15A",
           "#19d3f3",
           "#FF6692",
           "#B6E880",
           "#FF97FF",
           "#FECB52"
          ],
          "font": {
           "color": "#2a3f5f"
          },
          "geo": {
           "bgcolor": "white",
           "lakecolor": "white",
           "landcolor": "#E5ECF6",
           "showlakes": true,
           "showland": true,
           "subunitcolor": "white"
          },
          "hoverlabel": {
           "align": "left"
          },
          "hovermode": "closest",
          "mapbox": {
           "style": "light"
          },
          "paper_bgcolor": "white",
          "plot_bgcolor": "#E5ECF6",
          "polar": {
           "angularaxis": {
            "gridcolor": "white",
            "linecolor": "white",
            "ticks": ""
           },
           "bgcolor": "#E5ECF6",
           "radialaxis": {
            "gridcolor": "white",
            "linecolor": "white",
            "ticks": ""
           }
          },
          "scene": {
           "xaxis": {
            "backgroundcolor": "#E5ECF6",
            "gridcolor": "white",
            "gridwidth": 2,
            "linecolor": "white",
            "showbackground": true,
            "ticks": "",
            "zerolinecolor": "white"
           },
           "yaxis": {
            "backgroundcolor": "#E5ECF6",
            "gridcolor": "white",
            "gridwidth": 2,
            "linecolor": "white",
            "showbackground": true,
            "ticks": "",
            "zerolinecolor": "white"
           },
           "zaxis": {
            "backgroundcolor": "#E5ECF6",
            "gridcolor": "white",
            "gridwidth": 2,
            "linecolor": "white",
            "showbackground": true,
            "ticks": "",
            "zerolinecolor": "white"
           }
          },
          "shapedefaults": {
           "line": {
            "color": "#2a3f5f"
           }
          },
          "ternary": {
           "aaxis": {
            "gridcolor": "white",
            "linecolor": "white",
            "ticks": ""
           },
           "baxis": {
            "gridcolor": "white",
            "linecolor": "white",
            "ticks": ""
           },
           "bgcolor": "#E5ECF6",
           "caxis": {
            "gridcolor": "white",
            "linecolor": "white",
            "ticks": ""
           }
          },
          "title": {
           "x": 0.05
          },
          "xaxis": {
           "automargin": true,
           "gridcolor": "white",
           "linecolor": "white",
           "ticks": "",
           "title": {
            "standoff": 15
           },
           "zerolinecolor": "white",
           "zerolinewidth": 2
          },
          "yaxis": {
           "automargin": true,
           "gridcolor": "white",
           "linecolor": "white",
           "ticks": "",
           "title": {
            "standoff": 15
           },
           "zerolinecolor": "white",
           "zerolinewidth": 2
          }
         }
        },
        "xaxis": {
         "anchor": "y",
         "domain": [
          0,
          0.45
         ],
         "title": {
          "text": "Yhat"
         }
        },
        "xaxis2": {
         "anchor": "y2",
         "domain": [
          0.55,
          1
         ]
        },
        "yaxis": {
         "anchor": "x",
         "domain": [
          0,
          1
         ],
         "title": {
          "text": "Y"
         }
        },
        "yaxis2": {
         "anchor": "x2",
         "domain": [
          0,
          1
         ],
         "title": {
          "text": "RMSE"
         }
        }
       }
      }
     },
     "metadata": {},
     "output_type": "display_data"
    }
   ],
   "source": [
    "model = LinearRegression()\n",
    "model.fit(sklearn_ohe_design_matrix(data), data['mpg'])\n",
    "evaluate_model(\"ohe\", model, sklearn_ohe_design_matrix, models)"
   ]
  },
  {
   "cell_type": "markdown",
   "metadata": {},
   "source": [
    "## Imputing Missing Values"
   ]
  },
  {
   "cell_type": "markdown",
   "metadata": {},
   "source": [
    "Let's turn to the issue of handling missing values. To do this, let's bring back the original data."
   ]
  },
  {
   "cell_type": "code",
   "execution_count": 28,
   "metadata": {},
   "outputs": [
    {
     "data": {
      "text/html": [
       "<div>\n",
       "<style scoped>\n",
       "    .dataframe tbody tr th:only-of-type {\n",
       "        vertical-align: middle;\n",
       "    }\n",
       "\n",
       "    .dataframe tbody tr th {\n",
       "        vertical-align: top;\n",
       "    }\n",
       "\n",
       "    .dataframe thead th {\n",
       "        text-align: right;\n",
       "    }\n",
       "</style>\n",
       "<table border=\"1\" class=\"dataframe\">\n",
       "  <thead>\n",
       "    <tr style=\"text-align: right;\">\n",
       "      <th></th>\n",
       "      <th>mpg</th>\n",
       "      <th>cylinders</th>\n",
       "      <th>displacement</th>\n",
       "      <th>horsepower</th>\n",
       "      <th>weight</th>\n",
       "      <th>acceleration</th>\n",
       "      <th>model_year</th>\n",
       "      <th>origin</th>\n",
       "      <th>name</th>\n",
       "    </tr>\n",
       "  </thead>\n",
       "  <tbody>\n",
       "    <tr>\n",
       "      <th>0</th>\n",
       "      <td>18.0</td>\n",
       "      <td>8</td>\n",
       "      <td>307.0</td>\n",
       "      <td>130.0</td>\n",
       "      <td>3504</td>\n",
       "      <td>12.0</td>\n",
       "      <td>70</td>\n",
       "      <td>usa</td>\n",
       "      <td>chevrolet chevelle malibu</td>\n",
       "    </tr>\n",
       "    <tr>\n",
       "      <th>1</th>\n",
       "      <td>15.0</td>\n",
       "      <td>8</td>\n",
       "      <td>350.0</td>\n",
       "      <td>165.0</td>\n",
       "      <td>3693</td>\n",
       "      <td>11.5</td>\n",
       "      <td>70</td>\n",
       "      <td>usa</td>\n",
       "      <td>buick skylark 320</td>\n",
       "    </tr>\n",
       "    <tr>\n",
       "      <th>2</th>\n",
       "      <td>18.0</td>\n",
       "      <td>8</td>\n",
       "      <td>318.0</td>\n",
       "      <td>150.0</td>\n",
       "      <td>3436</td>\n",
       "      <td>11.0</td>\n",
       "      <td>70</td>\n",
       "      <td>usa</td>\n",
       "      <td>plymouth satellite</td>\n",
       "    </tr>\n",
       "    <tr>\n",
       "      <th>3</th>\n",
       "      <td>16.0</td>\n",
       "      <td>8</td>\n",
       "      <td>304.0</td>\n",
       "      <td>150.0</td>\n",
       "      <td>3433</td>\n",
       "      <td>12.0</td>\n",
       "      <td>70</td>\n",
       "      <td>usa</td>\n",
       "      <td>amc rebel sst</td>\n",
       "    </tr>\n",
       "    <tr>\n",
       "      <th>4</th>\n",
       "      <td>17.0</td>\n",
       "      <td>8</td>\n",
       "      <td>302.0</td>\n",
       "      <td>140.0</td>\n",
       "      <td>3449</td>\n",
       "      <td>10.5</td>\n",
       "      <td>70</td>\n",
       "      <td>usa</td>\n",
       "      <td>ford torino</td>\n",
       "    </tr>\n",
       "  </tbody>\n",
       "</table>\n",
       "</div>"
      ],
      "text/plain": [
       "    mpg  cylinders  displacement  horsepower  weight  acceleration  \\\n",
       "0  18.0          8         307.0       130.0    3504          12.0   \n",
       "1  15.0          8         350.0       165.0    3693          11.5   \n",
       "2  18.0          8         318.0       150.0    3436          11.0   \n",
       "3  16.0          8         304.0       150.0    3433          12.0   \n",
       "4  17.0          8         302.0       140.0    3449          10.5   \n",
       "\n",
       "   model_year origin                       name  \n",
       "0          70    usa  chevrolet chevelle malibu  \n",
       "1          70    usa          buick skylark 320  \n",
       "2          70    usa         plymouth satellite  \n",
       "3          70    usa              amc rebel sst  \n",
       "4          70    usa                ford torino  "
      ]
     },
     "execution_count": 28,
     "metadata": {},
     "output_type": "execute_result"
    }
   ],
   "source": [
    "original_df = df\n",
    "original_df.head()"
   ]
  },
  {
   "cell_type": "markdown",
   "metadata": {},
   "source": [
    "Let's see which data is missing:"
   ]
  },
  {
   "cell_type": "code",
   "execution_count": 29,
   "metadata": {
    "scrolled": true
   },
   "outputs": [
    {
     "data": {
      "text/html": [
       "<div>\n",
       "<style scoped>\n",
       "    .dataframe tbody tr th:only-of-type {\n",
       "        vertical-align: middle;\n",
       "    }\n",
       "\n",
       "    .dataframe tbody tr th {\n",
       "        vertical-align: top;\n",
       "    }\n",
       "\n",
       "    .dataframe thead th {\n",
       "        text-align: right;\n",
       "    }\n",
       "</style>\n",
       "<table border=\"1\" class=\"dataframe\">\n",
       "  <thead>\n",
       "    <tr style=\"text-align: right;\">\n",
       "      <th></th>\n",
       "      <th>mpg</th>\n",
       "      <th>cylinders</th>\n",
       "      <th>displacement</th>\n",
       "      <th>horsepower</th>\n",
       "      <th>weight</th>\n",
       "      <th>acceleration</th>\n",
       "      <th>model_year</th>\n",
       "      <th>origin</th>\n",
       "      <th>name</th>\n",
       "    </tr>\n",
       "  </thead>\n",
       "  <tbody>\n",
       "    <tr>\n",
       "      <th>32</th>\n",
       "      <td>25.0</td>\n",
       "      <td>4</td>\n",
       "      <td>98.0</td>\n",
       "      <td>NaN</td>\n",
       "      <td>2046</td>\n",
       "      <td>19.0</td>\n",
       "      <td>71</td>\n",
       "      <td>usa</td>\n",
       "      <td>ford pinto</td>\n",
       "    </tr>\n",
       "    <tr>\n",
       "      <th>126</th>\n",
       "      <td>21.0</td>\n",
       "      <td>6</td>\n",
       "      <td>200.0</td>\n",
       "      <td>NaN</td>\n",
       "      <td>2875</td>\n",
       "      <td>17.0</td>\n",
       "      <td>74</td>\n",
       "      <td>usa</td>\n",
       "      <td>ford maverick</td>\n",
       "    </tr>\n",
       "    <tr>\n",
       "      <th>330</th>\n",
       "      <td>40.9</td>\n",
       "      <td>4</td>\n",
       "      <td>85.0</td>\n",
       "      <td>NaN</td>\n",
       "      <td>1835</td>\n",
       "      <td>17.3</td>\n",
       "      <td>80</td>\n",
       "      <td>europe</td>\n",
       "      <td>renault lecar deluxe</td>\n",
       "    </tr>\n",
       "    <tr>\n",
       "      <th>336</th>\n",
       "      <td>23.6</td>\n",
       "      <td>4</td>\n",
       "      <td>140.0</td>\n",
       "      <td>NaN</td>\n",
       "      <td>2905</td>\n",
       "      <td>14.3</td>\n",
       "      <td>80</td>\n",
       "      <td>usa</td>\n",
       "      <td>ford mustang cobra</td>\n",
       "    </tr>\n",
       "    <tr>\n",
       "      <th>354</th>\n",
       "      <td>34.5</td>\n",
       "      <td>4</td>\n",
       "      <td>100.0</td>\n",
       "      <td>NaN</td>\n",
       "      <td>2320</td>\n",
       "      <td>15.8</td>\n",
       "      <td>81</td>\n",
       "      <td>europe</td>\n",
       "      <td>renault 18i</td>\n",
       "    </tr>\n",
       "    <tr>\n",
       "      <th>374</th>\n",
       "      <td>23.0</td>\n",
       "      <td>4</td>\n",
       "      <td>151.0</td>\n",
       "      <td>NaN</td>\n",
       "      <td>3035</td>\n",
       "      <td>20.5</td>\n",
       "      <td>82</td>\n",
       "      <td>usa</td>\n",
       "      <td>amc concord dl</td>\n",
       "    </tr>\n",
       "  </tbody>\n",
       "</table>\n",
       "</div>"
      ],
      "text/plain": [
       "      mpg  cylinders  displacement  horsepower  weight  acceleration  \\\n",
       "32   25.0          4          98.0         NaN    2046          19.0   \n",
       "126  21.0          6         200.0         NaN    2875          17.0   \n",
       "330  40.9          4          85.0         NaN    1835          17.3   \n",
       "336  23.6          4         140.0         NaN    2905          14.3   \n",
       "354  34.5          4         100.0         NaN    2320          15.8   \n",
       "374  23.0          4         151.0         NaN    3035          20.5   \n",
       "\n",
       "     model_year  origin                  name  \n",
       "32           71     usa            ford pinto  \n",
       "126          74     usa         ford maverick  \n",
       "330          80  europe  renault lecar deluxe  \n",
       "336          80     usa    ford mustang cobra  \n",
       "354          81  europe           renault 18i  \n",
       "374          82     usa        amc concord dl  "
      ]
     },
     "execution_count": 29,
     "metadata": {},
     "output_type": "execute_result"
    }
   ],
   "source": [
    "original_df[original_df.isna().any(axis=1)]"
   ]
  },
  {
   "cell_type": "markdown",
   "metadata": {},
   "source": [
    "There are many ways to deal with missing values.  A common strategy is to substitute the mean.  Because missing values can actually be useful signal, it is often a good idea to include a feature indicating that the value was missing. "
   ]
  },
  {
   "cell_type": "code",
   "execution_count": 30,
   "metadata": {},
   "outputs": [
    {
     "data": {
      "text/html": [
       "<div>\n",
       "<style scoped>\n",
       "    .dataframe tbody tr th:only-of-type {\n",
       "        vertical-align: middle;\n",
       "    }\n",
       "\n",
       "    .dataframe tbody tr th {\n",
       "        vertical-align: top;\n",
       "    }\n",
       "\n",
       "    .dataframe thead th {\n",
       "        text-align: right;\n",
       "    }\n",
       "</style>\n",
       "<table border=\"1\" class=\"dataframe\">\n",
       "  <thead>\n",
       "    <tr style=\"text-align: right;\">\n",
       "      <th></th>\n",
       "      <th>cylinders</th>\n",
       "      <th>displacement</th>\n",
       "      <th>horsepower</th>\n",
       "      <th>weight</th>\n",
       "      <th>acceleration</th>\n",
       "      <th>model_year</th>\n",
       "      <th>horsepower_missing</th>\n",
       "    </tr>\n",
       "  </thead>\n",
       "  <tbody>\n",
       "    <tr>\n",
       "      <th>0</th>\n",
       "      <td>8</td>\n",
       "      <td>307.0</td>\n",
       "      <td>130.0</td>\n",
       "      <td>3504</td>\n",
       "      <td>12.0</td>\n",
       "      <td>70</td>\n",
       "      <td>False</td>\n",
       "    </tr>\n",
       "    <tr>\n",
       "      <th>1</th>\n",
       "      <td>8</td>\n",
       "      <td>350.0</td>\n",
       "      <td>165.0</td>\n",
       "      <td>3693</td>\n",
       "      <td>11.5</td>\n",
       "      <td>70</td>\n",
       "      <td>False</td>\n",
       "    </tr>\n",
       "    <tr>\n",
       "      <th>2</th>\n",
       "      <td>8</td>\n",
       "      <td>318.0</td>\n",
       "      <td>150.0</td>\n",
       "      <td>3436</td>\n",
       "      <td>11.0</td>\n",
       "      <td>70</td>\n",
       "      <td>False</td>\n",
       "    </tr>\n",
       "    <tr>\n",
       "      <th>3</th>\n",
       "      <td>8</td>\n",
       "      <td>304.0</td>\n",
       "      <td>150.0</td>\n",
       "      <td>3433</td>\n",
       "      <td>12.0</td>\n",
       "      <td>70</td>\n",
       "      <td>False</td>\n",
       "    </tr>\n",
       "    <tr>\n",
       "      <th>4</th>\n",
       "      <td>8</td>\n",
       "      <td>302.0</td>\n",
       "      <td>140.0</td>\n",
       "      <td>3449</td>\n",
       "      <td>10.5</td>\n",
       "      <td>70</td>\n",
       "      <td>False</td>\n",
       "    </tr>\n",
       "    <tr>\n",
       "      <th>...</th>\n",
       "      <td>...</td>\n",
       "      <td>...</td>\n",
       "      <td>...</td>\n",
       "      <td>...</td>\n",
       "      <td>...</td>\n",
       "      <td>...</td>\n",
       "      <td>...</td>\n",
       "    </tr>\n",
       "    <tr>\n",
       "      <th>393</th>\n",
       "      <td>4</td>\n",
       "      <td>140.0</td>\n",
       "      <td>86.0</td>\n",
       "      <td>2790</td>\n",
       "      <td>15.6</td>\n",
       "      <td>82</td>\n",
       "      <td>False</td>\n",
       "    </tr>\n",
       "    <tr>\n",
       "      <th>394</th>\n",
       "      <td>4</td>\n",
       "      <td>97.0</td>\n",
       "      <td>52.0</td>\n",
       "      <td>2130</td>\n",
       "      <td>24.6</td>\n",
       "      <td>82</td>\n",
       "      <td>False</td>\n",
       "    </tr>\n",
       "    <tr>\n",
       "      <th>395</th>\n",
       "      <td>4</td>\n",
       "      <td>135.0</td>\n",
       "      <td>84.0</td>\n",
       "      <td>2295</td>\n",
       "      <td>11.6</td>\n",
       "      <td>82</td>\n",
       "      <td>False</td>\n",
       "    </tr>\n",
       "    <tr>\n",
       "      <th>396</th>\n",
       "      <td>4</td>\n",
       "      <td>120.0</td>\n",
       "      <td>79.0</td>\n",
       "      <td>2625</td>\n",
       "      <td>18.6</td>\n",
       "      <td>82</td>\n",
       "      <td>False</td>\n",
       "    </tr>\n",
       "    <tr>\n",
       "      <th>397</th>\n",
       "      <td>4</td>\n",
       "      <td>119.0</td>\n",
       "      <td>82.0</td>\n",
       "      <td>2720</td>\n",
       "      <td>19.4</td>\n",
       "      <td>82</td>\n",
       "      <td>False</td>\n",
       "    </tr>\n",
       "  </tbody>\n",
       "</table>\n",
       "<p>398 rows × 7 columns</p>\n",
       "</div>"
      ],
      "text/plain": [
       "     cylinders  displacement  horsepower  weight  acceleration  model_year  \\\n",
       "0            8         307.0       130.0    3504          12.0          70   \n",
       "1            8         350.0       165.0    3693          11.5          70   \n",
       "2            8         318.0       150.0    3436          11.0          70   \n",
       "3            8         304.0       150.0    3433          12.0          70   \n",
       "4            8         302.0       140.0    3449          10.5          70   \n",
       "..         ...           ...         ...     ...           ...         ...   \n",
       "393          4         140.0        86.0    2790          15.6          82   \n",
       "394          4          97.0        52.0    2130          24.6          82   \n",
       "395          4         135.0        84.0    2295          11.6          82   \n",
       "396          4         120.0        79.0    2625          18.6          82   \n",
       "397          4         119.0        82.0    2720          19.4          82   \n",
       "\n",
       "     horsepower_missing  \n",
       "0                 False  \n",
       "1                 False  \n",
       "2                 False  \n",
       "3                 False  \n",
       "4                 False  \n",
       "..                  ...  \n",
       "393               False  \n",
       "394               False  \n",
       "395               False  \n",
       "396               False  \n",
       "397               False  \n",
       "\n",
       "[398 rows x 7 columns]"
      ]
     },
     "execution_count": 30,
     "metadata": {},
     "output_type": "execute_result"
    }
   ],
   "source": [
    "def imputed_design_matrix(df):\n",
    "    X = df[[\"cylinders\", \"displacement\", \n",
    "          \"horsepower\", \"weight\", \"acceleration\", \"model_year\"]]\n",
    "    X[\"horsepower_missing\"] = X[\"horsepower\"].isna()    # this gets converted to 0-1 for prediction\n",
    "    X = X.fillna(X.mean())\n",
    "    return X\n",
    "\n",
    "imputed_design_matrix(original_df)"
   ]
  },
  {
   "cell_type": "code",
   "execution_count": 31,
   "metadata": {},
   "outputs": [
    {
     "data": {
      "text/html": [
       "<style>#sk-container-id-2 {color: black;}#sk-container-id-2 pre{padding: 0;}#sk-container-id-2 div.sk-toggleable {background-color: white;}#sk-container-id-2 label.sk-toggleable__label {cursor: pointer;display: block;width: 100%;margin-bottom: 0;padding: 0.3em;box-sizing: border-box;text-align: center;}#sk-container-id-2 label.sk-toggleable__label-arrow:before {content: \"▸\";float: left;margin-right: 0.25em;color: #696969;}#sk-container-id-2 label.sk-toggleable__label-arrow:hover:before {color: black;}#sk-container-id-2 div.sk-estimator:hover label.sk-toggleable__label-arrow:before {color: black;}#sk-container-id-2 div.sk-toggleable__content {max-height: 0;max-width: 0;overflow: hidden;text-align: left;background-color: #f0f8ff;}#sk-container-id-2 div.sk-toggleable__content pre {margin: 0.2em;color: black;border-radius: 0.25em;background-color: #f0f8ff;}#sk-container-id-2 input.sk-toggleable__control:checked~div.sk-toggleable__content {max-height: 200px;max-width: 100%;overflow: auto;}#sk-container-id-2 input.sk-toggleable__control:checked~label.sk-toggleable__label-arrow:before {content: \"▾\";}#sk-container-id-2 div.sk-estimator input.sk-toggleable__control:checked~label.sk-toggleable__label {background-color: #d4ebff;}#sk-container-id-2 div.sk-label input.sk-toggleable__control:checked~label.sk-toggleable__label {background-color: #d4ebff;}#sk-container-id-2 input.sk-hidden--visually {border: 0;clip: rect(1px 1px 1px 1px);clip: rect(1px, 1px, 1px, 1px);height: 1px;margin: -1px;overflow: hidden;padding: 0;position: absolute;width: 1px;}#sk-container-id-2 div.sk-estimator {font-family: monospace;background-color: #f0f8ff;border: 1px dotted black;border-radius: 0.25em;box-sizing: border-box;margin-bottom: 0.5em;}#sk-container-id-2 div.sk-estimator:hover {background-color: #d4ebff;}#sk-container-id-2 div.sk-parallel-item::after {content: \"\";width: 100%;border-bottom: 1px solid gray;flex-grow: 1;}#sk-container-id-2 div.sk-label:hover label.sk-toggleable__label {background-color: #d4ebff;}#sk-container-id-2 div.sk-serial::before {content: \"\";position: absolute;border-left: 1px solid gray;box-sizing: border-box;top: 0;bottom: 0;left: 50%;z-index: 0;}#sk-container-id-2 div.sk-serial {display: flex;flex-direction: column;align-items: center;background-color: white;padding-right: 0.2em;padding-left: 0.2em;position: relative;}#sk-container-id-2 div.sk-item {position: relative;z-index: 1;}#sk-container-id-2 div.sk-parallel {display: flex;align-items: stretch;justify-content: center;background-color: white;position: relative;}#sk-container-id-2 div.sk-item::before, #sk-container-id-2 div.sk-parallel-item::before {content: \"\";position: absolute;border-left: 1px solid gray;box-sizing: border-box;top: 0;bottom: 0;left: 50%;z-index: -1;}#sk-container-id-2 div.sk-parallel-item {display: flex;flex-direction: column;z-index: 1;position: relative;background-color: white;}#sk-container-id-2 div.sk-parallel-item:first-child::after {align-self: flex-end;width: 50%;}#sk-container-id-2 div.sk-parallel-item:last-child::after {align-self: flex-start;width: 50%;}#sk-container-id-2 div.sk-parallel-item:only-child::after {width: 0;}#sk-container-id-2 div.sk-dashed-wrapped {border: 1px dashed gray;margin: 0 0.4em 0.5em 0.4em;box-sizing: border-box;padding-bottom: 0.4em;background-color: white;}#sk-container-id-2 div.sk-label label {font-family: monospace;font-weight: bold;display: inline-block;line-height: 1.2em;}#sk-container-id-2 div.sk-label-container {text-align: center;}#sk-container-id-2 div.sk-container {/* jupyter's `normalize.less` sets `[hidden] { display: none; }` but bootstrap.min.css set `[hidden] { display: none !important; }` so we also need the `!important` here to be able to override the default hidden behavior on the sphinx rendered scikit-learn.org. See: https://github.com/scikit-learn/scikit-learn/issues/21755 */display: inline-block !important;position: relative;}#sk-container-id-2 div.sk-text-repr-fallback {display: none;}</style><div id=\"sk-container-id-2\" class=\"sk-top-container\"><div class=\"sk-text-repr-fallback\"><pre>LinearRegression()</pre><b>In a Jupyter environment, please rerun this cell to show the HTML representation or trust the notebook. <br />On GitHub, the HTML representation is unable to render, please try loading this page with nbviewer.org.</b></div><div class=\"sk-container\" hidden><div class=\"sk-item\"><div class=\"sk-estimator sk-toggleable\"><input class=\"sk-toggleable__control sk-hidden--visually\" id=\"sk-estimator-id-2\" type=\"checkbox\" checked><label for=\"sk-estimator-id-2\" class=\"sk-toggleable__label sk-toggleable__label-arrow\">LinearRegression</label><div class=\"sk-toggleable__content\"><pre>LinearRegression()</pre></div></div></div></div></div>"
      ],
      "text/plain": [
       "LinearRegression()"
      ]
     },
     "execution_count": 31,
     "metadata": {},
     "output_type": "execute_result"
    }
   ],
   "source": [
    "model = LinearRegression()\n",
    "model.fit(imputed_design_matrix(original_df), original_df['mpg'])"
   ]
  },
  {
   "cell_type": "markdown",
   "metadata": {},
   "source": [
    "Unfortunately, the feature function we just implemented applies a different transformation depending on what input we provide. Specifically, if the `horsepower` is missing when we go to make a prediction we will substitute it with a different mean than was used when we fit our model.  Furthermore, if we only want predictions on a few records and the `horsepower` is missing from those records then the feature function will be unable to substitute a meaningful value."
   ]
  },
  {
   "cell_type": "markdown",
   "metadata": {},
   "source": [
    "For example, if we were to get new data that look like the following:"
   ]
  },
  {
   "cell_type": "code",
   "execution_count": 32,
   "metadata": {},
   "outputs": [
    {
     "data": {
      "text/html": [
       "<div>\n",
       "<style scoped>\n",
       "    .dataframe tbody tr th:only-of-type {\n",
       "        vertical-align: middle;\n",
       "    }\n",
       "\n",
       "    .dataframe tbody tr th {\n",
       "        vertical-align: top;\n",
       "    }\n",
       "\n",
       "    .dataframe thead th {\n",
       "        text-align: right;\n",
       "    }\n",
       "</style>\n",
       "<table border=\"1\" class=\"dataframe\">\n",
       "  <thead>\n",
       "    <tr style=\"text-align: right;\">\n",
       "      <th></th>\n",
       "      <th>mpg</th>\n",
       "      <th>cylinders</th>\n",
       "      <th>displacement</th>\n",
       "      <th>horsepower</th>\n",
       "      <th>weight</th>\n",
       "      <th>acceleration</th>\n",
       "      <th>model_year</th>\n",
       "      <th>origin</th>\n",
       "      <th>name</th>\n",
       "    </tr>\n",
       "  </thead>\n",
       "  <tbody>\n",
       "    <tr>\n",
       "      <th>32</th>\n",
       "      <td>25.0</td>\n",
       "      <td>4</td>\n",
       "      <td>98.0</td>\n",
       "      <td>NaN</td>\n",
       "      <td>2046</td>\n",
       "      <td>19.0</td>\n",
       "      <td>71</td>\n",
       "      <td>usa</td>\n",
       "      <td>ford pinto</td>\n",
       "    </tr>\n",
       "    <tr>\n",
       "      <th>126</th>\n",
       "      <td>21.0</td>\n",
       "      <td>6</td>\n",
       "      <td>200.0</td>\n",
       "      <td>NaN</td>\n",
       "      <td>2875</td>\n",
       "      <td>17.0</td>\n",
       "      <td>74</td>\n",
       "      <td>usa</td>\n",
       "      <td>ford maverick</td>\n",
       "    </tr>\n",
       "    <tr>\n",
       "      <th>330</th>\n",
       "      <td>40.9</td>\n",
       "      <td>4</td>\n",
       "      <td>85.0</td>\n",
       "      <td>NaN</td>\n",
       "      <td>1835</td>\n",
       "      <td>17.3</td>\n",
       "      <td>80</td>\n",
       "      <td>europe</td>\n",
       "      <td>renault lecar deluxe</td>\n",
       "    </tr>\n",
       "  </tbody>\n",
       "</table>\n",
       "</div>"
      ],
      "text/plain": [
       "      mpg  cylinders  displacement  horsepower  weight  acceleration  \\\n",
       "32   25.0          4          98.0         NaN    2046          19.0   \n",
       "126  21.0          6         200.0         NaN    2875          17.0   \n",
       "330  40.9          4          85.0         NaN    1835          17.3   \n",
       "\n",
       "     model_year  origin                  name  \n",
       "32           71     usa            ford pinto  \n",
       "126          74     usa         ford maverick  \n",
       "330          80  europe  renault lecar deluxe  "
      ]
     },
     "execution_count": 32,
     "metadata": {},
     "output_type": "execute_result"
    }
   ],
   "source": [
    "new_data = original_df[original_df['horsepower'].isna()].head(3)\n",
    "new_data"
   ]
  },
  {
   "cell_type": "markdown",
   "metadata": {},
   "source": [
    "The feature function is be unable to substitute the mean since none of the rows have a `horsepower` value."
   ]
  },
  {
   "cell_type": "code",
   "execution_count": 33,
   "metadata": {},
   "outputs": [
    {
     "name": "stdout",
     "output_type": "stream",
     "text": [
      "Input X contains NaN.\n",
      "LinearRegression does not accept missing values encoded as NaN natively. For supervised learning, you might want to consider sklearn.ensemble.HistGradientBoostingClassifier and Regressor which accept missing values encoded as NaNs natively. Alternatively, it is possible to preprocess the data, for instance by using an imputer transformer in a pipeline or drop samples with missing values. See https://scikit-learn.org/stable/modules/impute.html You can find a list of all estimators that handle NaN values at the following page: https://scikit-learn.org/stable/modules/impute.html#estimators-that-handle-nan-values\n"
     ]
    }
   ],
   "source": [
    "try:\n",
    "    model.predict(imputed_design_matrix(new_data))\n",
    "except Exception as e:\n",
    "    print(e)"
   ]
  },
  {
   "cell_type": "markdown",
   "metadata": {},
   "source": [
    "We can fix this by computing the mean on the *original* data and using that mean on any new data."
   ]
  },
  {
   "cell_type": "code",
   "execution_count": 34,
   "metadata": {},
   "outputs": [
    {
     "name": "stderr",
     "output_type": "stream",
     "text": [
      "/var/folders/h0/y8r099r96cn6lxw_yr17bkq00000gn/T/ipykernel_27949/886539297.py:1: FutureWarning:\n",
      "\n",
      "The default value of numeric_only in DataFrame.mean is deprecated. In a future version, it will default to False. In addition, specifying 'numeric_only=None' is deprecated. Select only valid columns or specify the value of numeric_only to silence this warning.\n",
      "\n"
     ]
    },
    {
     "data": {
      "text/plain": [
       "array([25.91611313, 22.40066016, 33.96492047])"
      ]
     },
     "execution_count": 34,
     "metadata": {},
     "output_type": "execute_result"
    }
   ],
   "source": [
    "def imputed_design_matrix(df, data_mean=original_df.mean()):\n",
    "    X = df[[\"cylinders\", \"displacement\", \n",
    "          \"horsepower\", \"weight\", \"acceleration\", \"model_year\"]]\n",
    "    X[\"horsepower_missing\"] = X[\"horsepower\"].isna()\n",
    "    X = X.fillna(data_mean)    # use the mean of the original data\n",
    "    return X\n",
    "\n",
    "model.predict(imputed_design_matrix(new_data))"
   ]
  },
  {
   "cell_type": "markdown",
   "metadata": {},
   "source": [
    "## Quick Reflection\n",
    "\n",
    "Notice that as we added more features we were able to improve the accuracy of our model.  This is not always a good thing and we will see the problems associated with this in a future lecture.  \n",
    "\n",
    "It is also worth noting that our design matrix functions each depended on the last. When building your own models, it is recommended you just write one function that takes in the raw data and returns the design matrix. You may write intermediate functions to make your code more modular and readable but there should be one main function that transforms raw input data into a design matrix. An example is given below (this should be helpful for future assignments).\n",
    "\n",
    "Although we will not cover it in this course, there is another way to deal with feature pipelines using the scikit-learn pipelines module."
   ]
  },
  {
   "cell_type": "code",
   "execution_count": 35,
   "metadata": {},
   "outputs": [
    {
     "name": "stderr",
     "output_type": "stream",
     "text": [
      "/var/folders/h0/y8r099r96cn6lxw_yr17bkq00000gn/T/ipykernel_27949/2390313924.py:1: FutureWarning:\n",
      "\n",
      "The default value of numeric_only in DataFrame.mean is deprecated. In a future version, it will default to False. In addition, specifying 'numeric_only=None' is deprecated. Select only valid columns or specify the value of numeric_only to silence this warning.\n",
      "\n"
     ]
    },
    {
     "data": {
      "text/html": [
       "<div>\n",
       "<style scoped>\n",
       "    .dataframe tbody tr th:only-of-type {\n",
       "        vertical-align: middle;\n",
       "    }\n",
       "\n",
       "    .dataframe tbody tr th {\n",
       "        vertical-align: top;\n",
       "    }\n",
       "\n",
       "    .dataframe thead th {\n",
       "        text-align: right;\n",
       "    }\n",
       "</style>\n",
       "<table border=\"1\" class=\"dataframe\">\n",
       "  <thead>\n",
       "    <tr style=\"text-align: right;\">\n",
       "      <th></th>\n",
       "      <th>cylinders</th>\n",
       "      <th>displacement</th>\n",
       "      <th>horsepower</th>\n",
       "      <th>weight</th>\n",
       "      <th>acceleration</th>\n",
       "      <th>model_year</th>\n",
       "      <th>cylinders^2</th>\n",
       "      <th>cylinders^3</th>\n",
       "      <th>log(cylinders)</th>\n",
       "      <th>sin(cylinders)</th>\n",
       "      <th>...</th>\n",
       "      <th>sin(acceleration)</th>\n",
       "      <th>model_year^2</th>\n",
       "      <th>model_year^3</th>\n",
       "      <th>log(model_year)</th>\n",
       "      <th>sin(model_year)</th>\n",
       "      <th>displacement/cylinder</th>\n",
       "      <th>origin_europe</th>\n",
       "      <th>origin_japan</th>\n",
       "      <th>origin_usa</th>\n",
       "      <th>horsepower_missing</th>\n",
       "    </tr>\n",
       "  </thead>\n",
       "  <tbody>\n",
       "    <tr>\n",
       "      <th>0</th>\n",
       "      <td>8</td>\n",
       "      <td>307.0</td>\n",
       "      <td>130.0</td>\n",
       "      <td>3504</td>\n",
       "      <td>12.0</td>\n",
       "      <td>70</td>\n",
       "      <td>64</td>\n",
       "      <td>512</td>\n",
       "      <td>2.079442</td>\n",
       "      <td>0.989358</td>\n",
       "      <td>...</td>\n",
       "      <td>-0.536573</td>\n",
       "      <td>4900</td>\n",
       "      <td>343000</td>\n",
       "      <td>4.248495</td>\n",
       "      <td>0.773891</td>\n",
       "      <td>38.375</td>\n",
       "      <td>0.0</td>\n",
       "      <td>0.0</td>\n",
       "      <td>1.0</td>\n",
       "      <td>False</td>\n",
       "    </tr>\n",
       "    <tr>\n",
       "      <th>1</th>\n",
       "      <td>8</td>\n",
       "      <td>350.0</td>\n",
       "      <td>165.0</td>\n",
       "      <td>3693</td>\n",
       "      <td>11.5</td>\n",
       "      <td>70</td>\n",
       "      <td>64</td>\n",
       "      <td>512</td>\n",
       "      <td>2.079442</td>\n",
       "      <td>0.989358</td>\n",
       "      <td>...</td>\n",
       "      <td>-0.875452</td>\n",
       "      <td>4900</td>\n",
       "      <td>343000</td>\n",
       "      <td>4.248495</td>\n",
       "      <td>0.773891</td>\n",
       "      <td>43.750</td>\n",
       "      <td>0.0</td>\n",
       "      <td>0.0</td>\n",
       "      <td>1.0</td>\n",
       "      <td>False</td>\n",
       "    </tr>\n",
       "    <tr>\n",
       "      <th>2</th>\n",
       "      <td>8</td>\n",
       "      <td>318.0</td>\n",
       "      <td>150.0</td>\n",
       "      <td>3436</td>\n",
       "      <td>11.0</td>\n",
       "      <td>70</td>\n",
       "      <td>64</td>\n",
       "      <td>512</td>\n",
       "      <td>2.079442</td>\n",
       "      <td>0.989358</td>\n",
       "      <td>...</td>\n",
       "      <td>-0.999990</td>\n",
       "      <td>4900</td>\n",
       "      <td>343000</td>\n",
       "      <td>4.248495</td>\n",
       "      <td>0.773891</td>\n",
       "      <td>39.750</td>\n",
       "      <td>0.0</td>\n",
       "      <td>0.0</td>\n",
       "      <td>1.0</td>\n",
       "      <td>False</td>\n",
       "    </tr>\n",
       "    <tr>\n",
       "      <th>3</th>\n",
       "      <td>8</td>\n",
       "      <td>304.0</td>\n",
       "      <td>150.0</td>\n",
       "      <td>3433</td>\n",
       "      <td>12.0</td>\n",
       "      <td>70</td>\n",
       "      <td>64</td>\n",
       "      <td>512</td>\n",
       "      <td>2.079442</td>\n",
       "      <td>0.989358</td>\n",
       "      <td>...</td>\n",
       "      <td>-0.536573</td>\n",
       "      <td>4900</td>\n",
       "      <td>343000</td>\n",
       "      <td>4.248495</td>\n",
       "      <td>0.773891</td>\n",
       "      <td>38.000</td>\n",
       "      <td>0.0</td>\n",
       "      <td>0.0</td>\n",
       "      <td>1.0</td>\n",
       "      <td>False</td>\n",
       "    </tr>\n",
       "    <tr>\n",
       "      <th>4</th>\n",
       "      <td>8</td>\n",
       "      <td>302.0</td>\n",
       "      <td>140.0</td>\n",
       "      <td>3449</td>\n",
       "      <td>10.5</td>\n",
       "      <td>70</td>\n",
       "      <td>64</td>\n",
       "      <td>512</td>\n",
       "      <td>2.079442</td>\n",
       "      <td>0.989358</td>\n",
       "      <td>...</td>\n",
       "      <td>-0.879696</td>\n",
       "      <td>4900</td>\n",
       "      <td>343000</td>\n",
       "      <td>4.248495</td>\n",
       "      <td>0.773891</td>\n",
       "      <td>37.750</td>\n",
       "      <td>0.0</td>\n",
       "      <td>0.0</td>\n",
       "      <td>1.0</td>\n",
       "      <td>False</td>\n",
       "    </tr>\n",
       "    <tr>\n",
       "      <th>...</th>\n",
       "      <td>...</td>\n",
       "      <td>...</td>\n",
       "      <td>...</td>\n",
       "      <td>...</td>\n",
       "      <td>...</td>\n",
       "      <td>...</td>\n",
       "      <td>...</td>\n",
       "      <td>...</td>\n",
       "      <td>...</td>\n",
       "      <td>...</td>\n",
       "      <td>...</td>\n",
       "      <td>...</td>\n",
       "      <td>...</td>\n",
       "      <td>...</td>\n",
       "      <td>...</td>\n",
       "      <td>...</td>\n",
       "      <td>...</td>\n",
       "      <td>...</td>\n",
       "      <td>...</td>\n",
       "      <td>...</td>\n",
       "      <td>...</td>\n",
       "    </tr>\n",
       "    <tr>\n",
       "      <th>393</th>\n",
       "      <td>4</td>\n",
       "      <td>140.0</td>\n",
       "      <td>86.0</td>\n",
       "      <td>2790</td>\n",
       "      <td>15.6</td>\n",
       "      <td>82</td>\n",
       "      <td>16</td>\n",
       "      <td>64</td>\n",
       "      <td>1.386294</td>\n",
       "      <td>-0.756802</td>\n",
       "      <td>...</td>\n",
       "      <td>0.107754</td>\n",
       "      <td>6724</td>\n",
       "      <td>551368</td>\n",
       "      <td>4.406719</td>\n",
       "      <td>0.313229</td>\n",
       "      <td>35.000</td>\n",
       "      <td>0.0</td>\n",
       "      <td>0.0</td>\n",
       "      <td>1.0</td>\n",
       "      <td>False</td>\n",
       "    </tr>\n",
       "    <tr>\n",
       "      <th>394</th>\n",
       "      <td>4</td>\n",
       "      <td>97.0</td>\n",
       "      <td>52.0</td>\n",
       "      <td>2130</td>\n",
       "      <td>24.6</td>\n",
       "      <td>82</td>\n",
       "      <td>16</td>\n",
       "      <td>64</td>\n",
       "      <td>1.386294</td>\n",
       "      <td>-0.756802</td>\n",
       "      <td>...</td>\n",
       "      <td>-0.507897</td>\n",
       "      <td>6724</td>\n",
       "      <td>551368</td>\n",
       "      <td>4.406719</td>\n",
       "      <td>0.313229</td>\n",
       "      <td>24.250</td>\n",
       "      <td>1.0</td>\n",
       "      <td>0.0</td>\n",
       "      <td>0.0</td>\n",
       "      <td>False</td>\n",
       "    </tr>\n",
       "    <tr>\n",
       "      <th>395</th>\n",
       "      <td>4</td>\n",
       "      <td>135.0</td>\n",
       "      <td>84.0</td>\n",
       "      <td>2295</td>\n",
       "      <td>11.6</td>\n",
       "      <td>82</td>\n",
       "      <td>16</td>\n",
       "      <td>64</td>\n",
       "      <td>1.386294</td>\n",
       "      <td>-0.756802</td>\n",
       "      <td>...</td>\n",
       "      <td>-0.822829</td>\n",
       "      <td>6724</td>\n",
       "      <td>551368</td>\n",
       "      <td>4.406719</td>\n",
       "      <td>0.313229</td>\n",
       "      <td>33.750</td>\n",
       "      <td>0.0</td>\n",
       "      <td>0.0</td>\n",
       "      <td>1.0</td>\n",
       "      <td>False</td>\n",
       "    </tr>\n",
       "    <tr>\n",
       "      <th>396</th>\n",
       "      <td>4</td>\n",
       "      <td>120.0</td>\n",
       "      <td>79.0</td>\n",
       "      <td>2625</td>\n",
       "      <td>18.6</td>\n",
       "      <td>82</td>\n",
       "      <td>16</td>\n",
       "      <td>64</td>\n",
       "      <td>1.386294</td>\n",
       "      <td>-0.756802</td>\n",
       "      <td>...</td>\n",
       "      <td>-0.246974</td>\n",
       "      <td>6724</td>\n",
       "      <td>551368</td>\n",
       "      <td>4.406719</td>\n",
       "      <td>0.313229</td>\n",
       "      <td>30.000</td>\n",
       "      <td>0.0</td>\n",
       "      <td>0.0</td>\n",
       "      <td>1.0</td>\n",
       "      <td>False</td>\n",
       "    </tr>\n",
       "    <tr>\n",
       "      <th>397</th>\n",
       "      <td>4</td>\n",
       "      <td>119.0</td>\n",
       "      <td>82.0</td>\n",
       "      <td>2720</td>\n",
       "      <td>19.4</td>\n",
       "      <td>82</td>\n",
       "      <td>16</td>\n",
       "      <td>64</td>\n",
       "      <td>1.386294</td>\n",
       "      <td>-0.756802</td>\n",
       "      <td>...</td>\n",
       "      <td>0.523066</td>\n",
       "      <td>6724</td>\n",
       "      <td>551368</td>\n",
       "      <td>4.406719</td>\n",
       "      <td>0.313229</td>\n",
       "      <td>29.750</td>\n",
       "      <td>0.0</td>\n",
       "      <td>0.0</td>\n",
       "      <td>1.0</td>\n",
       "      <td>False</td>\n",
       "    </tr>\n",
       "  </tbody>\n",
       "</table>\n",
       "<p>398 rows × 35 columns</p>\n",
       "</div>"
      ],
      "text/plain": [
       "     cylinders  displacement  horsepower  weight  acceleration  model_year  \\\n",
       "0            8         307.0       130.0    3504          12.0          70   \n",
       "1            8         350.0       165.0    3693          11.5          70   \n",
       "2            8         318.0       150.0    3436          11.0          70   \n",
       "3            8         304.0       150.0    3433          12.0          70   \n",
       "4            8         302.0       140.0    3449          10.5          70   \n",
       "..         ...           ...         ...     ...           ...         ...   \n",
       "393          4         140.0        86.0    2790          15.6          82   \n",
       "394          4          97.0        52.0    2130          24.6          82   \n",
       "395          4         135.0        84.0    2295          11.6          82   \n",
       "396          4         120.0        79.0    2625          18.6          82   \n",
       "397          4         119.0        82.0    2720          19.4          82   \n",
       "\n",
       "     cylinders^2  cylinders^3  log(cylinders)  sin(cylinders)  ...  \\\n",
       "0             64          512        2.079442        0.989358  ...   \n",
       "1             64          512        2.079442        0.989358  ...   \n",
       "2             64          512        2.079442        0.989358  ...   \n",
       "3             64          512        2.079442        0.989358  ...   \n",
       "4             64          512        2.079442        0.989358  ...   \n",
       "..           ...          ...             ...             ...  ...   \n",
       "393           16           64        1.386294       -0.756802  ...   \n",
       "394           16           64        1.386294       -0.756802  ...   \n",
       "395           16           64        1.386294       -0.756802  ...   \n",
       "396           16           64        1.386294       -0.756802  ...   \n",
       "397           16           64        1.386294       -0.756802  ...   \n",
       "\n",
       "     sin(acceleration)  model_year^2  model_year^3  log(model_year)  \\\n",
       "0            -0.536573          4900        343000         4.248495   \n",
       "1            -0.875452          4900        343000         4.248495   \n",
       "2            -0.999990          4900        343000         4.248495   \n",
       "3            -0.536573          4900        343000         4.248495   \n",
       "4            -0.879696          4900        343000         4.248495   \n",
       "..                 ...           ...           ...              ...   \n",
       "393           0.107754          6724        551368         4.406719   \n",
       "394          -0.507897          6724        551368         4.406719   \n",
       "395          -0.822829          6724        551368         4.406719   \n",
       "396          -0.246974          6724        551368         4.406719   \n",
       "397           0.523066          6724        551368         4.406719   \n",
       "\n",
       "     sin(model_year)  displacement/cylinder  origin_europe  origin_japan  \\\n",
       "0           0.773891                 38.375            0.0           0.0   \n",
       "1           0.773891                 43.750            0.0           0.0   \n",
       "2           0.773891                 39.750            0.0           0.0   \n",
       "3           0.773891                 38.000            0.0           0.0   \n",
       "4           0.773891                 37.750            0.0           0.0   \n",
       "..               ...                    ...            ...           ...   \n",
       "393         0.313229                 35.000            0.0           0.0   \n",
       "394         0.313229                 24.250            1.0           0.0   \n",
       "395         0.313229                 33.750            0.0           0.0   \n",
       "396         0.313229                 30.000            0.0           0.0   \n",
       "397         0.313229                 29.750            0.0           0.0   \n",
       "\n",
       "     origin_usa  horsepower_missing  \n",
       "0           1.0               False  \n",
       "1           1.0               False  \n",
       "2           1.0               False  \n",
       "3           1.0               False  \n",
       "4           1.0               False  \n",
       "..          ...                 ...  \n",
       "393         1.0               False  \n",
       "394         0.0               False  \n",
       "395         1.0               False  \n",
       "396         1.0               False  \n",
       "397         1.0               False  \n",
       "\n",
       "[398 rows x 35 columns]"
      ]
     },
     "execution_count": 35,
     "metadata": {},
     "output_type": "execute_result"
    }
   ],
   "source": [
    "def get_design_matrix(df, data_mean=original_df.mean()):\n",
    "    \n",
    "    X = df[[\"cylinders\", \"displacement\", \n",
    "          \"horsepower\", \"weight\", \"acceleration\", \"model_year\"]]\n",
    "    \n",
    "    # Compute nonlinear transformations for each quantitative feature (this could be done via a function)\n",
    "    for col in X.columns:\n",
    "        X[f'{col}^2'] = X[f'{col}'] ** 2\n",
    "        X[f'{col}^3'] = X[f'{col}'] ** 3\n",
    "        X[f'log({col})'] = np.log(X[f'{col}'])\n",
    "        X[f'sin({col})'] = np.sin(X[f'{col}'])\n",
    "        \n",
    "    # Compute the displacement per cylinder (this could be done via a function)\n",
    "    X['displacement/cylinder'] = X['displacement'] / X['cylinders']\n",
    "    \n",
    "    # One-hot encode the categorical columns (this could be done via a function)\n",
    "    ohe_cols = pd.DataFrame(oh_enc.transform(df[['origin']]).todense(), \n",
    "                           columns=oh_enc.get_feature_names_out(),\n",
    "                           index = df.index)\n",
    "    X = X.join(ohe_cols)\n",
    "    \n",
    "    # Impute missing values (this could be done via a function)\n",
    "    X[\"horsepower_missing\"] = X[\"horsepower\"].isna()\n",
    "    X = X.fillna(data_mean)    # use the mean of the original data\n",
    "    \n",
    "    return X\n",
    "\n",
    "get_design_matrix(original_df)"
   ]
  },
  {
   "cell_type": "code",
   "execution_count": 37,
   "metadata": {},
   "outputs": [
    {
     "name": "stdout",
     "output_type": "stream",
     "text": [
      "Root Mean Squared Error: 2.4675755658965426\n"
     ]
    },
    {
     "data": {
      "application/vnd.plotly.v1+json": {
       "config": {
        "plotlyServerURL": "https://plot.ly"
       },
       "data": [
        {
         "mode": "markers",
         "type": "scatter",
         "x": [
          17.544524331071443,
          15.214766188740214,
          16.637357511259324,
          15.335996226477619,
          17.230862049924326,
          13.603876183157809,
          13.562118125008965,
          13.813349201784149,
          14.250077306515777,
          13.7876913105747,
          15.213895941064948,
          15.198256570487501,
          16.767887703120323,
          14.58494788241751,
          25.70349003379306,
          19.388970626364426,
          19.81899551016886,
          21.520271461758057,
          28.428483630692426,
          30.711777154596348,
          23.52160173417451,
          25.422919858637215,
          24.918763117368144,
          25.241793329923894,
          21.08114546552588,
          11.61329768264386,
          11.351720780439791,
          12.391242698169663,
          9.72409387105381,
          27.043790044478556,
          22.718214485686985,
          25.50099259953913,
          20.435095848014498,
          16.03639194013067,
          17.004407087212712,
          17.96317570532392,
          16.55105542346155,
          13.744695358883291,
          13.51789125452342,
          13.026954617724186,
          13.597837966232873,
          12.609321828293105,
          13.277100317944132,
          11.812431758731691,
          17.895048181069797,
          22.259348452467748,
          17.230996498495188,
          18.673714626057517,
          24.356086044423137,
          25.181555351899988,
          28.70290622122593,
          28.435794216644354,
          30.886944761282393,
          29.88238994085623,
          27.374403795504804,
          26.672469528718466,
          24.34939049555487,
          25.638373691525885,
          29.79608469517916,
          20.43110669831185,
          23.214709687553295,
          13.527543878983124,
          12.763955478873868,
          12.8801864349698,
          13.201822635668577,
          13.97370314757427,
          11.789276714074731,
          12.895565778453602,
          12.507210611955088,
          11.669204944638295,
          18.26531046666878,
          13.119474709803399,
          14.177537486079927,
          12.265569634695566,
          12.416032411732886,
          18.652440060364825,
          22.34721990539765,
          18.972365809387156,
          26.04970111509374,
          22.51581639151209,
          25.182128029397973,
          22.83389022519532,
          26.08537297521343,
          26.33353789485318,
          12.14180207717709,
          14.376618450190108,
          14.207470916287093,
          13.14411368427227,
          14.013882064465179,
          11.259806388815377,
          14.962166516001162,
          13.408628484002293,
          12.664296893558458,
          12.457589228861252,
          12.178455393303011,
          12.936702950932158,
          16.578898379632847,
          16.52370970967968,
          17.540614292102873,
          18.623542001088026,
          17.748588047387784,
          29.78602867799509,
          12.405899853551091,
          12.791517357365592,
          11.905985076407887,
          12.682977970712273,
          18.412728077103566,
          25.062971145907795,
          22.255762170946582,
          24.036784836465813,
          20.055027372032782,
          22.556322846827243,
          20.924280757738416,
          25.620128649715298,
          14.290187122452153,
          14.871796427782101,
          33.694639431139876,
          25.67947980790632,
          22.978223449958932,
          18.974750132400914,
          15.421213350086873,
          20.73887658351032,
          19.647589912134208,
          13.422041244440152,
          17.527443440279967,
          18.272038456118935,
          17.374139232792913,
          30.82637812631401,
          23.55792955085144,
          31.891605792219707,
          22.861449337086015,
          17.13012426536352,
          15.5801590615647,
          16.419330982945212,
          13.84099859827711,
          13.481825168688374,
          14.080132884523664,
          13.318856359742313,
          12.344121276812075,
          26.725005148729906,
          31.16400056071143,
          26.982965272750334,
          32.50696190647068,
          30.191319937188382,
          28.01640880816558,
          28.155836116334285,
          26.54193107145784,
          23.682424404879384,
          24.800089510194084,
          31.03273232578067,
          18.141307757069626,
          17.514668881093712,
          19.136827858853394,
          19.357912607910293,
          14.937303117660122,
          14.72305372521896,
          13.848596485310736,
          14.79313587231809,
          15.811285140242944,
          16.656736971800456,
          15.588099884686017,
          16.70863057123188,
          17.88423579733626,
          18.091125889633076,
          17.483946856708826,
          28.614096842256004,
          22.23263225319897,
          18.697531918059212,
          22.219011372064415,
          23.634959161298866,
          28.352085147288562,
          23.852539435320068,
          18.763624089971927,
          30.005217942702984,
          18.322084806600287,
          22.525775746591535,
          21.423190813292422,
          21.157702139134017,
          21.714760478515927,
          31.520291196426115,
          25.551341412411603,
          26.2974825199517,
          22.934508573514904,
          27.096213677220476,
          27.388179133597077,
          16.0900774747397,
          15.403854129001047,
          16.40057691481161,
          15.55694897433932,
          18.498051782081347,
          18.6414362994783,
          19.889736763650035,
          19.00459720442086,
          32.45009655001013,
          29.657924935671872,
          30.43072668100649,
          32.119320602239895,
          17.46736801199677,
          19.09869130458719,
          17.543432127631604,
          18.43034981911569,
          31.52882950743333,
          31.42193065552874,
          29.162621129778017,
          25.30696563427591,
          20.914085772950784,
          14.992646571523437,
          21.12185567792676,
          20.85302146921549,
          17.082882027657433,
          14.637456350888897,
          16.88270824094252,
          14.997791578767647,
          14.203073403432427,
          30.5727983753668,
          28.34003720419969,
          33.013571906972174,
          25.288745159636164,
          32.49169017065287,
          16.874846110211365,
          16.50508516085756,
          16.095888482209375,
          16.36382973875243,
          18.532655305792105,
          18.57211087203541,
          18.4379678085661,
          18.477860780293668,
          16.070514181908948,
          16.58222157344335,
          14.900035729686351,
          15.482182275111882,
          30.050819303091885,
          23.499331623151193,
          29.067108962104612,
          23.01012978719973,
          30.419471511700976,
          28.90710304811364,
          31.241013013177508,
          29.704461824469945,
          23.252205446076914,
          24.688439778926295,
          17.847444701429595,
          34.32928582956356,
          32.26034010058174,
          35.661113179989115,
          33.05404618783177,
          33.98929879682055,
          19.144900205605154,
          18.18237893623791,
          18.250247152472184,
          18.997636577700177,
          20.58959940760724,
          22.66255188039213,
          24.80840890095078,
          20.24169088414601,
          21.27595866561387,
          20.32561124352469,
          22.139737856410648,
          18.66847924024478,
          19.185153523688314,
          17.71946564051268,
          16.533526430994243,
          20.195428926378554,
          17.954164757110448,
          31.237369304153617,
          26.895134684223194,
          28.649412293799287,
          30.476982812645474,
          26.818194253611182,
          24.03770208410333,
          24.274751673611718,
          28.051742930018918,
          26.389861316662973,
          20.862893169221934,
          23.049710228063304,
          18.617352413613844,
          32.53555795294051,
          32.527785480034254,
          21.498061335087186,
          23.508983907881884,
          25.307139412069773,
          22.402115418031826,
          21.367869203961163,
          19.2682787653348,
          20.16200010614193,
          20.22864022115664,
          19.04702225921301,
          18.072672704865,
          19.092598730420832,
          19.701583457628658,
          18.71519783547319,
          34.73622443482054,
          36.57494695156856,
          32.95892995173472,
          27.759685307396467,
          25.39284628353016,
          19.609910658146873,
          29.810178344702763,
          22.33730255796945,
          33.67984723442805,
          32.70071677098622,
          35.0338132741399,
          34.20315019707323,
          26.82883713706906,
          26.93756547756675,
          24.92751957119799,
          28.82563372403456,
          34.46068831568573,
          36.176327102059076,
          34.34639176730616,
          37.591574513950036,
          28.020421377919774,
          26.359290732602858,
          25.463297689251704,
          23.387045021556332,
          33.54239413198957,
          28.987850875838376,
          30.944517574296697,
          31.240357630297694,
          33.319191317244076,
          36.87533568598519,
          27.394806904831967,
          36.121452099199814,
          37.2918560853841,
          38.56589306528713,
          30.318119438864414,
          27.655504371680763,
          37.366245614723994,
          34.792747931516715,
          36.19928821651774,
          27.001866521878583,
          26.032524264715903,
          29.896078670358293,
          33.43615543785472,
          30.178466272188416,
          29.307572627946683,
          29.860394499824906,
          27.451689595894095,
          32.379670801155044,
          39.345802019287476,
          37.10339587555063,
          39.07332735418095,
          35.72507312825928,
          36.962651452190585,
          37.11147340829939,
          37.018544366410424,
          35.0217782560303,
          35.48378739651707,
          33.09014027108606,
          34.920123213541046,
          34.84563447248547,
          33.20586645580079,
          30.392837240397057,
          30.808869856122328,
          26.545627054806573,
          26.4787752011498,
          27.9010397609527,
          26.461891463834945,
          23.469736386024124,
          22.392899534251228,
          25.431504803418647,
          25.095721424219846,
          29.04907912109411,
          29.23718267505683,
          30.76744083644371,
          30.633888437583664,
          29.902658316531415,
          27.8111285422965,
          27.235777216379574,
          34.979186262277835,
          36.23282524527167,
          36.57656740476523,
          35.406207531661494,
          34.504245111696946,
          33.13795028975346,
          34.780136510344164,
          34.04773185390968,
          37.317850698469556,
          37.14375389486668,
          37.0288533471612,
          24.48585343756349,
          26.633506989506714,
          29.950469736502782,
          24.99102654672697,
          30.577324254462837,
          32.32460041298236,
          27.189023202350654,
          28.15318343434592,
          39.864021962407605,
          34.04782527194311,
          29.029609838978104,
          28.450080725423504
         ],
         "xaxis": "x",
         "y": [
          18,
          15,
          18,
          16,
          17,
          15,
          14,
          14,
          14,
          15,
          15,
          14,
          15,
          14,
          24,
          22,
          18,
          21,
          27,
          26,
          25,
          24,
          25,
          26,
          21,
          10,
          10,
          11,
          9,
          27,
          28,
          25,
          19,
          16,
          17,
          19,
          18,
          14,
          14,
          14,
          14,
          12,
          13,
          13,
          18,
          22,
          19,
          18,
          23,
          28,
          30,
          30,
          31,
          35,
          27,
          26,
          24,
          25,
          23,
          20,
          21,
          13,
          14,
          15,
          14,
          17,
          11,
          13,
          12,
          13,
          19,
          15,
          13,
          13,
          14,
          18,
          22,
          21,
          26,
          22,
          28,
          23,
          28,
          27,
          13,
          14,
          13,
          14,
          15,
          12,
          13,
          13,
          14,
          13,
          12,
          13,
          18,
          16,
          18,
          18,
          23,
          26,
          11,
          12,
          13,
          12,
          18,
          20,
          21,
          22,
          18,
          19,
          21,
          26,
          15,
          16,
          29,
          24,
          20,
          19,
          15,
          24,
          20,
          11,
          20,
          19,
          15,
          31,
          26,
          32,
          25,
          16,
          16,
          18,
          16,
          13,
          14,
          14,
          14,
          29,
          26,
          26,
          31,
          32,
          28,
          24,
          26,
          24,
          26,
          31,
          19,
          18,
          15,
          15,
          16,
          15,
          16,
          14,
          17,
          16,
          15,
          18,
          21,
          20,
          13,
          29,
          23,
          20,
          23,
          24,
          25,
          24,
          18,
          29,
          19,
          23,
          23,
          22,
          25,
          33,
          28,
          25,
          25,
          26,
          27,
          17.5,
          16,
          15.5,
          14.5,
          22,
          22,
          24,
          22.5,
          29,
          24.5,
          29,
          33,
          20,
          18,
          18.5,
          17.5,
          29.5,
          32,
          28,
          26.5,
          20,
          13,
          19,
          19,
          16.5,
          16.5,
          13,
          13,
          13,
          31.5,
          30,
          36,
          25.5,
          33.5,
          17.5,
          17,
          15.5,
          15,
          17.5,
          20.5,
          19,
          18.5,
          16,
          15.5,
          15.5,
          16,
          29,
          24.5,
          26,
          25.5,
          30.5,
          33.5,
          30,
          30.5,
          22,
          21.5,
          21.5,
          43.1,
          36.1,
          32.8,
          39.4,
          36.1,
          19.9,
          19.4,
          20.2,
          19.2,
          20.5,
          20.2,
          25.1,
          20.5,
          19.4,
          20.6,
          20.8,
          18.6,
          18.1,
          19.2,
          17.7,
          18.1,
          17.5,
          30,
          27.5,
          27.2,
          30.9,
          21.1,
          23.2,
          23.8,
          23.9,
          20.3,
          17,
          21.6,
          16.2,
          31.5,
          29.5,
          21.5,
          19.8,
          22.3,
          20.2,
          20.6,
          17,
          17.6,
          16.5,
          18.2,
          16.9,
          15.5,
          19.2,
          18.5,
          31.9,
          34.1,
          35.7,
          27.4,
          25.4,
          23,
          27.2,
          23.9,
          34.2,
          34.5,
          31.8,
          37.3,
          28.4,
          28.8,
          26.8,
          33.5,
          41.5,
          38.1,
          32.1,
          37.2,
          28,
          26.4,
          24.3,
          19.1,
          34.3,
          29.8,
          31.3,
          37,
          32.2,
          46.6,
          27.9,
          40.8,
          44.3,
          43.4,
          36.4,
          30,
          44.6,
          33.8,
          29.8,
          32.7,
          23.7,
          35,
          32.4,
          27.2,
          26.6,
          25.8,
          23.5,
          30,
          39.1,
          39,
          35.1,
          32.3,
          37,
          37.7,
          34.1,
          34.7,
          34.4,
          29.9,
          33,
          33.7,
          32.4,
          32.9,
          31.6,
          28.1,
          30.7,
          25.4,
          24.2,
          22.4,
          26.6,
          20.2,
          17.6,
          28,
          27,
          34,
          31,
          29,
          27,
          24,
          36,
          37,
          31,
          38,
          36,
          36,
          36,
          34,
          38,
          32,
          38,
          25,
          38,
          26,
          22,
          32,
          36,
          27,
          27,
          44,
          32,
          28,
          31
         ],
         "yaxis": "y"
        },
        {
         "name": "y=yhat",
         "type": "scatter",
         "x": [
          9.72409387105381,
          39.864021962407605
         ],
         "xaxis": "x",
         "y": [
          9.72409387105381,
          39.864021962407605
         ],
         "yaxis": "y"
        },
        {
         "type": "bar",
         "x": [
          "basic",
          "nonlinear",
          "displacement",
          "ohe"
         ],
         "xaxis": "x2",
         "y": [
          3.4044340177796406,
          2.4964145836114002,
          2.4900607098696863,
          2.4675755658965426
         ],
         "yaxis": "y2"
        }
       ],
       "layout": {
        "showlegend": false,
        "template": {
         "data": {
          "bar": [
           {
            "error_x": {
             "color": "#2a3f5f"
            },
            "error_y": {
             "color": "#2a3f5f"
            },
            "marker": {
             "line": {
              "color": "#E5ECF6",
              "width": 0.5
             },
             "pattern": {
              "fillmode": "overlay",
              "size": 10,
              "solidity": 0.2
             }
            },
            "type": "bar"
           }
          ],
          "barpolar": [
           {
            "marker": {
             "line": {
              "color": "#E5ECF6",
              "width": 0.5
             },
             "pattern": {
              "fillmode": "overlay",
              "size": 10,
              "solidity": 0.2
             }
            },
            "type": "barpolar"
           }
          ],
          "carpet": [
           {
            "aaxis": {
             "endlinecolor": "#2a3f5f",
             "gridcolor": "white",
             "linecolor": "white",
             "minorgridcolor": "white",
             "startlinecolor": "#2a3f5f"
            },
            "baxis": {
             "endlinecolor": "#2a3f5f",
             "gridcolor": "white",
             "linecolor": "white",
             "minorgridcolor": "white",
             "startlinecolor": "#2a3f5f"
            },
            "type": "carpet"
           }
          ],
          "choropleth": [
           {
            "colorbar": {
             "outlinewidth": 0,
             "ticks": ""
            },
            "type": "choropleth"
           }
          ],
          "contour": [
           {
            "colorbar": {
             "outlinewidth": 0,
             "ticks": ""
            },
            "colorscale": [
             [
              0,
              "#0d0887"
             ],
             [
              0.1111111111111111,
              "#46039f"
             ],
             [
              0.2222222222222222,
              "#7201a8"
             ],
             [
              0.3333333333333333,
              "#9c179e"
             ],
             [
              0.4444444444444444,
              "#bd3786"
             ],
             [
              0.5555555555555556,
              "#d8576b"
             ],
             [
              0.6666666666666666,
              "#ed7953"
             ],
             [
              0.7777777777777778,
              "#fb9f3a"
             ],
             [
              0.8888888888888888,
              "#fdca26"
             ],
             [
              1,
              "#f0f921"
             ]
            ],
            "type": "contour"
           }
          ],
          "contourcarpet": [
           {
            "colorbar": {
             "outlinewidth": 0,
             "ticks": ""
            },
            "type": "contourcarpet"
           }
          ],
          "heatmap": [
           {
            "colorbar": {
             "outlinewidth": 0,
             "ticks": ""
            },
            "colorscale": [
             [
              0,
              "#0d0887"
             ],
             [
              0.1111111111111111,
              "#46039f"
             ],
             [
              0.2222222222222222,
              "#7201a8"
             ],
             [
              0.3333333333333333,
              "#9c179e"
             ],
             [
              0.4444444444444444,
              "#bd3786"
             ],
             [
              0.5555555555555556,
              "#d8576b"
             ],
             [
              0.6666666666666666,
              "#ed7953"
             ],
             [
              0.7777777777777778,
              "#fb9f3a"
             ],
             [
              0.8888888888888888,
              "#fdca26"
             ],
             [
              1,
              "#f0f921"
             ]
            ],
            "type": "heatmap"
           }
          ],
          "heatmapgl": [
           {
            "colorbar": {
             "outlinewidth": 0,
             "ticks": ""
            },
            "colorscale": [
             [
              0,
              "#0d0887"
             ],
             [
              0.1111111111111111,
              "#46039f"
             ],
             [
              0.2222222222222222,
              "#7201a8"
             ],
             [
              0.3333333333333333,
              "#9c179e"
             ],
             [
              0.4444444444444444,
              "#bd3786"
             ],
             [
              0.5555555555555556,
              "#d8576b"
             ],
             [
              0.6666666666666666,
              "#ed7953"
             ],
             [
              0.7777777777777778,
              "#fb9f3a"
             ],
             [
              0.8888888888888888,
              "#fdca26"
             ],
             [
              1,
              "#f0f921"
             ]
            ],
            "type": "heatmapgl"
           }
          ],
          "histogram": [
           {
            "marker": {
             "pattern": {
              "fillmode": "overlay",
              "size": 10,
              "solidity": 0.2
             }
            },
            "type": "histogram"
           }
          ],
          "histogram2d": [
           {
            "colorbar": {
             "outlinewidth": 0,
             "ticks": ""
            },
            "colorscale": [
             [
              0,
              "#0d0887"
             ],
             [
              0.1111111111111111,
              "#46039f"
             ],
             [
              0.2222222222222222,
              "#7201a8"
             ],
             [
              0.3333333333333333,
              "#9c179e"
             ],
             [
              0.4444444444444444,
              "#bd3786"
             ],
             [
              0.5555555555555556,
              "#d8576b"
             ],
             [
              0.6666666666666666,
              "#ed7953"
             ],
             [
              0.7777777777777778,
              "#fb9f3a"
             ],
             [
              0.8888888888888888,
              "#fdca26"
             ],
             [
              1,
              "#f0f921"
             ]
            ],
            "type": "histogram2d"
           }
          ],
          "histogram2dcontour": [
           {
            "colorbar": {
             "outlinewidth": 0,
             "ticks": ""
            },
            "colorscale": [
             [
              0,
              "#0d0887"
             ],
             [
              0.1111111111111111,
              "#46039f"
             ],
             [
              0.2222222222222222,
              "#7201a8"
             ],
             [
              0.3333333333333333,
              "#9c179e"
             ],
             [
              0.4444444444444444,
              "#bd3786"
             ],
             [
              0.5555555555555556,
              "#d8576b"
             ],
             [
              0.6666666666666666,
              "#ed7953"
             ],
             [
              0.7777777777777778,
              "#fb9f3a"
             ],
             [
              0.8888888888888888,
              "#fdca26"
             ],
             [
              1,
              "#f0f921"
             ]
            ],
            "type": "histogram2dcontour"
           }
          ],
          "mesh3d": [
           {
            "colorbar": {
             "outlinewidth": 0,
             "ticks": ""
            },
            "type": "mesh3d"
           }
          ],
          "parcoords": [
           {
            "line": {
             "colorbar": {
              "outlinewidth": 0,
              "ticks": ""
             }
            },
            "type": "parcoords"
           }
          ],
          "pie": [
           {
            "automargin": true,
            "type": "pie"
           }
          ],
          "scatter": [
           {
            "fillpattern": {
             "fillmode": "overlay",
             "size": 10,
             "solidity": 0.2
            },
            "type": "scatter"
           }
          ],
          "scatter3d": [
           {
            "line": {
             "colorbar": {
              "outlinewidth": 0,
              "ticks": ""
             }
            },
            "marker": {
             "colorbar": {
              "outlinewidth": 0,
              "ticks": ""
             }
            },
            "type": "scatter3d"
           }
          ],
          "scattercarpet": [
           {
            "marker": {
             "colorbar": {
              "outlinewidth": 0,
              "ticks": ""
             }
            },
            "type": "scattercarpet"
           }
          ],
          "scattergeo": [
           {
            "marker": {
             "colorbar": {
              "outlinewidth": 0,
              "ticks": ""
             }
            },
            "type": "scattergeo"
           }
          ],
          "scattergl": [
           {
            "marker": {
             "colorbar": {
              "outlinewidth": 0,
              "ticks": ""
             }
            },
            "type": "scattergl"
           }
          ],
          "scattermapbox": [
           {
            "marker": {
             "colorbar": {
              "outlinewidth": 0,
              "ticks": ""
             }
            },
            "type": "scattermapbox"
           }
          ],
          "scatterpolar": [
           {
            "marker": {
             "colorbar": {
              "outlinewidth": 0,
              "ticks": ""
             }
            },
            "type": "scatterpolar"
           }
          ],
          "scatterpolargl": [
           {
            "marker": {
             "colorbar": {
              "outlinewidth": 0,
              "ticks": ""
             }
            },
            "type": "scatterpolargl"
           }
          ],
          "scatterternary": [
           {
            "marker": {
             "colorbar": {
              "outlinewidth": 0,
              "ticks": ""
             }
            },
            "type": "scatterternary"
           }
          ],
          "surface": [
           {
            "colorbar": {
             "outlinewidth": 0,
             "ticks": ""
            },
            "colorscale": [
             [
              0,
              "#0d0887"
             ],
             [
              0.1111111111111111,
              "#46039f"
             ],
             [
              0.2222222222222222,
              "#7201a8"
             ],
             [
              0.3333333333333333,
              "#9c179e"
             ],
             [
              0.4444444444444444,
              "#bd3786"
             ],
             [
              0.5555555555555556,
              "#d8576b"
             ],
             [
              0.6666666666666666,
              "#ed7953"
             ],
             [
              0.7777777777777778,
              "#fb9f3a"
             ],
             [
              0.8888888888888888,
              "#fdca26"
             ],
             [
              1,
              "#f0f921"
             ]
            ],
            "type": "surface"
           }
          ],
          "table": [
           {
            "cells": {
             "fill": {
              "color": "#EBF0F8"
             },
             "line": {
              "color": "white"
             }
            },
            "header": {
             "fill": {
              "color": "#C8D4E3"
             },
             "line": {
              "color": "white"
             }
            },
            "type": "table"
           }
          ]
         },
         "layout": {
          "annotationdefaults": {
           "arrowcolor": "#2a3f5f",
           "arrowhead": 0,
           "arrowwidth": 1
          },
          "autotypenumbers": "strict",
          "coloraxis": {
           "colorbar": {
            "outlinewidth": 0,
            "ticks": ""
           }
          },
          "colorscale": {
           "diverging": [
            [
             0,
             "#8e0152"
            ],
            [
             0.1,
             "#c51b7d"
            ],
            [
             0.2,
             "#de77ae"
            ],
            [
             0.3,
             "#f1b6da"
            ],
            [
             0.4,
             "#fde0ef"
            ],
            [
             0.5,
             "#f7f7f7"
            ],
            [
             0.6,
             "#e6f5d0"
            ],
            [
             0.7,
             "#b8e186"
            ],
            [
             0.8,
             "#7fbc41"
            ],
            [
             0.9,
             "#4d9221"
            ],
            [
             1,
             "#276419"
            ]
           ],
           "sequential": [
            [
             0,
             "#0d0887"
            ],
            [
             0.1111111111111111,
             "#46039f"
            ],
            [
             0.2222222222222222,
             "#7201a8"
            ],
            [
             0.3333333333333333,
             "#9c179e"
            ],
            [
             0.4444444444444444,
             "#bd3786"
            ],
            [
             0.5555555555555556,
             "#d8576b"
            ],
            [
             0.6666666666666666,
             "#ed7953"
            ],
            [
             0.7777777777777778,
             "#fb9f3a"
            ],
            [
             0.8888888888888888,
             "#fdca26"
            ],
            [
             1,
             "#f0f921"
            ]
           ],
           "sequentialminus": [
            [
             0,
             "#0d0887"
            ],
            [
             0.1111111111111111,
             "#46039f"
            ],
            [
             0.2222222222222222,
             "#7201a8"
            ],
            [
             0.3333333333333333,
             "#9c179e"
            ],
            [
             0.4444444444444444,
             "#bd3786"
            ],
            [
             0.5555555555555556,
             "#d8576b"
            ],
            [
             0.6666666666666666,
             "#ed7953"
            ],
            [
             0.7777777777777778,
             "#fb9f3a"
            ],
            [
             0.8888888888888888,
             "#fdca26"
            ],
            [
             1,
             "#f0f921"
            ]
           ]
          },
          "colorway": [
           "#636efa",
           "#EF553B",
           "#00cc96",
           "#ab63fa",
           "#FFA15A",
           "#19d3f3",
           "#FF6692",
           "#B6E880",
           "#FF97FF",
           "#FECB52"
          ],
          "font": {
           "color": "#2a3f5f"
          },
          "geo": {
           "bgcolor": "white",
           "lakecolor": "white",
           "landcolor": "#E5ECF6",
           "showlakes": true,
           "showland": true,
           "subunitcolor": "white"
          },
          "hoverlabel": {
           "align": "left"
          },
          "hovermode": "closest",
          "mapbox": {
           "style": "light"
          },
          "paper_bgcolor": "white",
          "plot_bgcolor": "#E5ECF6",
          "polar": {
           "angularaxis": {
            "gridcolor": "white",
            "linecolor": "white",
            "ticks": ""
           },
           "bgcolor": "#E5ECF6",
           "radialaxis": {
            "gridcolor": "white",
            "linecolor": "white",
            "ticks": ""
           }
          },
          "scene": {
           "xaxis": {
            "backgroundcolor": "#E5ECF6",
            "gridcolor": "white",
            "gridwidth": 2,
            "linecolor": "white",
            "showbackground": true,
            "ticks": "",
            "zerolinecolor": "white"
           },
           "yaxis": {
            "backgroundcolor": "#E5ECF6",
            "gridcolor": "white",
            "gridwidth": 2,
            "linecolor": "white",
            "showbackground": true,
            "ticks": "",
            "zerolinecolor": "white"
           },
           "zaxis": {
            "backgroundcolor": "#E5ECF6",
            "gridcolor": "white",
            "gridwidth": 2,
            "linecolor": "white",
            "showbackground": true,
            "ticks": "",
            "zerolinecolor": "white"
           }
          },
          "shapedefaults": {
           "line": {
            "color": "#2a3f5f"
           }
          },
          "ternary": {
           "aaxis": {
            "gridcolor": "white",
            "linecolor": "white",
            "ticks": ""
           },
           "baxis": {
            "gridcolor": "white",
            "linecolor": "white",
            "ticks": ""
           },
           "bgcolor": "#E5ECF6",
           "caxis": {
            "gridcolor": "white",
            "linecolor": "white",
            "ticks": ""
           }
          },
          "title": {
           "x": 0.05
          },
          "xaxis": {
           "automargin": true,
           "gridcolor": "white",
           "linecolor": "white",
           "ticks": "",
           "title": {
            "standoff": 15
           },
           "zerolinecolor": "white",
           "zerolinewidth": 2
          },
          "yaxis": {
           "automargin": true,
           "gridcolor": "white",
           "linecolor": "white",
           "ticks": "",
           "title": {
            "standoff": 15
           },
           "zerolinecolor": "white",
           "zerolinewidth": 2
          }
         }
        },
        "xaxis": {
         "anchor": "y",
         "domain": [
          0,
          0.45
         ],
         "title": {
          "text": "Yhat"
         }
        },
        "xaxis2": {
         "anchor": "y2",
         "domain": [
          0.55,
          1
         ]
        },
        "yaxis": {
         "anchor": "x",
         "domain": [
          0,
          1
         ],
         "title": {
          "text": "Y"
         }
        },
        "yaxis2": {
         "anchor": "x2",
         "domain": [
          0,
          1
         ],
         "title": {
          "text": "RMSE"
         }
        }
       }
      }
     },
     "metadata": {},
     "output_type": "display_data"
    }
   ],
   "source": [
    "model.fit(sklearn_ohe_design_matrix(data), data['mpg'])\n",
    "evaluate_model(\"ohe\", model, sklearn_ohe_design_matrix, models)"
   ]
  }
 ],
 "metadata": {
  "kernelspec": {
   "display_name": "Python 3.11.5 ('base')",
   "language": "python",
   "name": "python3"
  },
  "language_info": {
   "codemirror_mode": {
    "name": "ipython",
    "version": 3
   },
   "file_extension": ".py",
   "mimetype": "text/x-python",
   "name": "python",
   "nbconvert_exporter": "python",
   "pygments_lexer": "ipython3",
   "version": "3.11.5"
  },
  "vscode": {
   "interpreter": {
    "hash": "5ccb5ea80edbfae8c6780fa0b5909321291a27faa1189b515049edc570dffb73"
   }
  }
 },
 "nbformat": 4,
 "nbformat_minor": 4
}
