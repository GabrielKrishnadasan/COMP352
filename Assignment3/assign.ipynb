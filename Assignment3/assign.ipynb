{
 "cells": [
  {
   "cell_type": "code",
   "execution_count": 5,
   "metadata": {},
   "outputs": [],
   "source": [
    "import numpy as np\n",
    "import pandas as pd\n",
    "import matplotlib as mpl\n",
    "import matplotlib.pyplot as plt \n",
    "import seaborn as sns"
   ]
  },
  {
   "cell_type": "code",
   "execution_count": 10,
   "metadata": {},
   "outputs": [],
   "source": [
    "weights_df = pd.read_csv(\"weights.tsv\", header=None)\n",
    "weights_series = weights_df[0]"
   ]
  },
  {
   "cell_type": "code",
   "execution_count": 13,
   "metadata": {},
   "outputs": [
    {
     "data": {
      "text/plain": [
       "pandas.core.series.Series"
      ]
     },
     "execution_count": 13,
     "metadata": {},
     "output_type": "execute_result"
    }
   ],
   "source": [
    "#1.1\n",
    "type(weights_series)"
   ]
  },
  {
   "cell_type": "code",
   "execution_count": 14,
   "metadata": {},
   "outputs": [
    {
     "data": {
      "text/plain": [
       "0     74.39\n",
       "1     71.67\n",
       "2     78.02\n",
       "3     69.40\n",
       "4     65.32\n",
       "5     70.76\n",
       "6     85.73\n",
       "7     73.94\n",
       "8     60.78\n",
       "9     72.12\n",
       "10    64.86\n",
       "11    79.83\n",
       "12    80.29\n",
       "13    73.48\n",
       "14    63.96\n",
       "15    68.49\n",
       "16    82.55\n",
       "17    83.91\n",
       "18    77.56\n",
       "19    68.95\n",
       "Name: 0, dtype: float64"
      ]
     },
     "execution_count": 14,
     "metadata": {},
     "output_type": "execute_result"
    }
   ],
   "source": [
    "#1.2\n",
    "weight_kilos = round(weights_series * 0.453592, 2)\n",
    "weight_kilos"
   ]
  },
  {
   "cell_type": "code",
   "execution_count": 19,
   "metadata": {},
   "outputs": [
    {
     "name": "stdout",
     "output_type": "stream",
     "text": [
      "Weight in pounds mean:  161.6\n",
      "weight in pounds median:  160.5\n",
      "weight in pounds standard deviation:  15.44906742203316\n",
      "Weight in kilos mean:  73.3005\n",
      "weight in kilos median:  72.80000000000001\n",
      "weight in kilos standard deviation:  7.007011882843914\n"
     ]
    }
   ],
   "source": [
    "#1.3\n",
    "print(\"Weight in pounds mean: \", weights_series.mean())\n",
    "print(\"weight in pounds median: \", weights_series.median())\n",
    "print(\"weight in pounds standard deviation: \", weights_series.std())\n",
    "\n",
    "print(\"Weight in kilos mean: \", weight_kilos.mean())\n",
    "print(\"weight in kilos median: \", weight_kilos.median())\n",
    "print(\"weight in kilos standard deviation: \", weight_kilos.std())"
   ]
  },
  {
   "cell_type": "code",
   "execution_count": 20,
   "metadata": {},
   "outputs": [
    {
     "data": {
      "image/png": "[encoded data removed]",
      "text/plain": [
       "<Figure size 640x480 with 1 Axes>"
      ]
     },
     "metadata": {},
     "output_type": "display_data"
    }
   ],
   "source": [
    "#1.4\n",
    "plt.hist(weight_kilos, bins=10)\n",
    "plt.show()"
   ]
  }
 ],
 "metadata": {
  "kernelspec": {
   "display_name": "Python 3.11.5 ('base')",
   "language": "python",
   "name": "python3"
  },
  "language_info": {
   "codemirror_mode": {
    "name": "ipython",
    "version": 3
   },
   "file_extension": ".py",
   "mimetype": "text/x-python",
   "name": "python",
   "nbconvert_exporter": "python",
   "pygments_lexer": "ipython3",
   "version": "3.11.5"
  },
  "orig_nbformat": 4,
  "vscode": {
   "interpreter": {
    "hash": "5ccb5ea80edbfae8c6780fa0b5909321291a27faa1189b515049edc570dffb73"
   }
  }
 },
 "nbformat": 4,
 "nbformat_minor": 2
}
